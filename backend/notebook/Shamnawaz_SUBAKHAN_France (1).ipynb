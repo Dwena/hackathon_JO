{
  "nbformat": 4,
  "nbformat_minor": 0,
  "metadata": {
    "colab": {
      "provenance": []
    },
    "kernelspec": {
      "name": "python3",
      "display_name": "Python 3"
    },
    "language_info": {
      "name": "python"
    }
  },
  "cells": [
    {
      "cell_type": "code",
      "execution_count": 1,
      "metadata": {
        "colab": {
          "base_uri": "https://localhost:8080/"
        },
        "id": "Qo4U0KRC4WoJ",
        "outputId": "1dfec18a-a162-4666-82b8-b09820b7e3d4"
      },
      "outputs": [
        {
          "output_type": "stream",
          "name": "stdout",
          "text": [
            "Collecting pyspark\n",
            "  Downloading pyspark-3.5.1.tar.gz (317.0 MB)\n",
            "\u001b[2K     \u001b[90m━━━━━━━━━━━━━━━━━━━━━━━━━━━━━━━━━━━━━━━━\u001b[0m \u001b[32m317.0/317.0 MB\u001b[0m \u001b[31m3.3 MB/s\u001b[0m eta \u001b[36m0:00:00\u001b[0m\n",
            "\u001b[?25h  Preparing metadata (setup.py) ... \u001b[?25l\u001b[?25hdone\n",
            "Requirement already satisfied: py4j==0.10.9.7 in /usr/local/lib/python3.10/dist-packages (from pyspark) (0.10.9.7)\n",
            "Building wheels for collected packages: pyspark\n",
            "  Building wheel for pyspark (setup.py) ... \u001b[?25l\u001b[?25hdone\n",
            "  Created wheel for pyspark: filename=pyspark-3.5.1-py2.py3-none-any.whl size=317488491 sha256=3b0714521b17325f3b603a404c04df967f9ce9323b9102d7029866dd7e2507ee\n",
            "  Stored in directory: /root/.cache/pip/wheels/80/1d/60/2c256ed38dddce2fdd93be545214a63e02fbd8d74fb0b7f3a6\n",
            "Successfully built pyspark\n",
            "Installing collected packages: pyspark\n",
            "Successfully installed pyspark-3.5.1\n"
          ]
        }
      ],
      "source": [
        "!pip install pyspark"
      ]
    },
    {
      "cell_type": "code",
      "source": [
        "from pyspark.sql import SparkSession\n",
        "from pyspark.sql.functions import col, expr\n",
        "from pyspark.ml import Pipeline\n",
        "from pyspark.ml.feature import StringIndexer, VectorAssembler\n",
        "from sklearn.model_selection import train_test_split\n",
        "from sklearn.ensemble import GradientBoostingRegressor\n",
        "from sklearn.metrics import mean_squared_error\n",
        "from tensorflow.keras.models import Sequential\n",
        "from tensorflow.keras.layers import Dense, Dropout, LSTM\n",
        "from pyspark.sql.functions import *\n",
        "from pyspark.sql.types import *\n",
        "from sklearn.preprocessing import MinMaxScaler, OneHotEncoder, StandardScaler\n",
        "import matplotlib.pyplot as plt\n",
        "import xgboost as xgb\n",
        "import pandas as pd\n",
        "import tensorflow as tf\n",
        "import xml.etree.ElementTree as ET\n",
        "import numpy as np"
      ],
      "metadata": {
        "id": "1_OlBp84Y2a8"
      },
      "execution_count": 50,
      "outputs": []
    },
    {
      "cell_type": "code",
      "source": [
        "# Création de la session Spark\n",
        "spark = SparkSession.builder \\\n",
        "    .appName(\"ExcelReader\") \\\n",
        "    .config(\"spark.jars.packages\", \"com.crealytics:spark-excel_2.12:0.13.5\") \\\n",
        "    .config(\"spark.executor.memory\", \"4g\") \\\n",
        "    .config(\"spark.driver.memory\", \"4g\") \\\n",
        "    .getOrCreate()\n",
        "\n",
        "# Chemin du fichier Excel\n",
        "file_path = \"sample_data/olympic_medals.xlsx\"\n",
        "\n",
        "# Lecture du fichier Excel\n",
        "olympic_medals_df  = spark.read.format(\"com.crealytics.spark.excel\") \\\n",
        "    .option(\"treatEmptyValuesAsNulls\", \"true\") \\\n",
        "    .option(\"header\", \"true\") \\\n",
        "    .option(\"inferSchema\", \"true\") \\\n",
        "    .load(file_path)\n",
        "\n",
        "# Parse XML data into a list of dictionaries\n",
        "tree = ET.parse('sample_data/olympic_hosts.xml')\n",
        "root = tree.getroot()\n",
        "\n",
        "import xml.etree.ElementTree as ET\n",
        "\n",
        "data_rows_full = []\n",
        "for row in root.findall('row'):\n",
        "    data_rows_full.append({\n",
        "        'index': row.find('index').text,\n",
        "        'game_slug': row.find('game_slug').text,\n",
        "        'game_end_date': row.find('game_end_date').text,\n",
        "        'game_start_date': row.find('game_start_date').text,\n",
        "        'game_location': row.find('game_location').text,\n",
        "        'game_name': row.find('game_name').text,\n",
        "        'game_season': row.find('game_season').text,\n",
        "        'game_year': row.find('game_year').text\n",
        "    })\n",
        "\n",
        "hosts_df = spark.createDataFrame(data_rows_full)\n",
        "athletes_data = spark.read.csv('sample_data/olympic_athletes.csv', header=True, inferSchema=True)"
      ],
      "metadata": {
        "id": "v8tI8Tm0iPxp"
      },
      "execution_count": null,
      "outputs": []
    },
    {
      "cell_type": "code",
      "source": [
        "olympic_medals_df.show()"
      ],
      "metadata": {
        "colab": {
          "base_uri": "https://localhost:8080/"
        },
        "id": "ZyL7QFyxo2yr",
        "outputId": "c9c8914e-aaf2-4843-dd6a-07014dc60711"
      },
      "execution_count": null,
      "outputs": [
        {
          "output_type": "stream",
          "name": "stdout",
          "text": [
            "+----------------+------------+--------------------+------------+----------+----------------+-----------------+--------------------+--------------------+--------------------+------------+---------------------+\n",
            "|discipline_title|   slug_game|         event_title|event_gender|medal_type|participant_type|participant_title|         athlete_url|   athlete_full_name|        country_name|country_code|country_3_letter_code|\n",
            "+----------------+------------+--------------------+------------+----------+----------------+-----------------+--------------------+--------------------+--------------------+------------+---------------------+\n",
            "|         Curling|beijing-2022|       Mixed Doubles|       Mixed|      GOLD|        GameTeam|            Italy|https://olympics....|Stefania CONSTANTINI|               Italy|          IT|                  ITA|\n",
            "|         Curling|beijing-2022|       Mixed Doubles|       Mixed|      GOLD|        GameTeam|            Italy|https://olympics....|        Amos MOSANER|               Italy|          IT|                  ITA|\n",
            "|         Curling|beijing-2022|       Mixed Doubles|       Mixed|    SILVER|        GameTeam|           Norway|https://olympics....|    Kristin SKASLIEN|              Norway|          NO|                  NOR|\n",
            "|         Curling|beijing-2022|       Mixed Doubles|       Mixed|    SILVER|        GameTeam|           Norway|https://olympics....|  Magnus NEDREGOTTEN|              Norway|          NO|                  NOR|\n",
            "|         Curling|beijing-2022|       Mixed Doubles|       Mixed|    BRONZE|        GameTeam|           Sweden|https://olympics....|       Almida DE VAL|              Sweden|          SE|                  SWE|\n",
            "|         Curling|beijing-2022|       Mixed Doubles|       Mixed|    BRONZE|        GameTeam|           Sweden|https://olympics....|      Oskar ERIKSSON|              Sweden|          SE|                  SWE|\n",
            "|         Curling|beijing-2022|               Women|       Women|      GOLD|        GameTeam|    Great Britain|                NULL|                NULL|       Great Britain|          GB|                  GBR|\n",
            "|         Curling|beijing-2022|               Women|       Women|    SILVER|        GameTeam|            Japan|                NULL|                NULL|               Japan|          JP|                  JPN|\n",
            "|         Curling|beijing-2022|               Women|       Women|    BRONZE|        GameTeam|           Sweden|                NULL|                NULL|              Sweden|          SE|                  SWE|\n",
            "|         Curling|beijing-2022|                 Men|         Men|      GOLD|        GameTeam|           Sweden|                NULL|                NULL|              Sweden|          SE|                  SWE|\n",
            "|         Curling|beijing-2022|                 Men|         Men|    SILVER|        GameTeam|    Great Britain|                NULL|                NULL|       Great Britain|          GB|                  GBR|\n",
            "|         Curling|beijing-2022|                 Men|         Men|    BRONZE|        GameTeam|           Canada|                NULL|                NULL|              Canada|          CA|                  CAN|\n",
            "|Freestyle Skiing|beijing-2022|        Men's Moguls|         Men|    SILVER|         Athlete|             NULL|https://olympics....|    Mikael KINGSBURY|              Canada|          CA|                  CAN|\n",
            "|Freestyle Skiing|beijing-2022|        Men's Moguls|         Men|      GOLD|         Athlete|             NULL|https://olympics....|     Walter WALLBERG|              Sweden|          SE|                  SWE|\n",
            "|Freestyle Skiing|beijing-2022|        Men's Moguls|         Men|    BRONZE|         Athlete|             NULL|https://olympics....|     Ikuma HORISHIMA|               Japan|          JP|                  JPN|\n",
            "|Freestyle Skiing|beijing-2022|Men's Freeski Hal...|         Men|      GOLD|         Athlete|             NULL|https://olympics....|       Nico PORTEOUS|         New Zealand|          NZ|                  NZL|\n",
            "|Freestyle Skiing|beijing-2022|Men's Freeski Hal...|         Men|    SILVER|         Athlete|             NULL|https://olympics....|          David WISE|United States of ...|          US|                  USA|\n",
            "|Freestyle Skiing|beijing-2022|Men's Freeski Hal...|         Men|    BRONZE|         Athlete|             NULL|https://olympics....|       Alex FERREIRA|United States of ...|          US|                  USA|\n",
            "|Freestyle Skiing|beijing-2022|Men's Freeski Big...|         Men|    BRONZE|         Athlete|             NULL|https://olympics....|      Henrik HARLAUT|              Sweden|          SE|                  SWE|\n",
            "|Freestyle Skiing|beijing-2022|Men's Freeski Big...|         Men|      GOLD|         Athlete|             NULL|https://olympics....|           Birk RUUD|              Norway|          NO|                  NOR|\n",
            "+----------------+------------+--------------------+------------+----------+----------------+-----------------+--------------------+--------------------+--------------------+------------+---------------------+\n",
            "only showing top 20 rows\n",
            "\n"
          ]
        }
      ]
    },
    {
      "cell_type": "markdown",
      "source": [
        "# Evènement marquants au **jo**"
      ],
      "metadata": {
        "id": "mmaU2jzQhOVJ"
      }
    },
    {
      "cell_type": "code",
      "source": [
        "# Question 1 - La France a organisé 6 JO : 3 d’hiver et 3 d’été (en comptant celui de 2024) ?La France a organisé 6 JO : 3 d’hiver et 3 d’été (en comptant celui de 2024) ?\n",
        "winter_games = hosts_df.filter(col('game_season') == 'Winter')\n",
        "summer_games = hosts_df.filter(col('game_season') == 'Summer')\n",
        "\n",
        "winter_games_in_france = winter_games.filter(col('game_location') == 'France')\n",
        "summer_games_in_france = summer_games.filter(col('game_location') == 'France')\n",
        "\n",
        "num_winter_games_in_france = winter_games_in_france.select(countDistinct('game_slug')).collect()[0][0]\n",
        "num_summer_games_in_france = summer_games_in_france.select(countDistinct('game_slug')).collect()[0][0]\n",
        "print(num_winter_games_in_france, num_summer_games_in_france)"
      ],
      "metadata": {
        "colab": {
          "base_uri": "https://localhost:8080/"
        },
        "id": "z2hKbJx36oO2",
        "outputId": "10f00ec3-f990-48d5-b050-aa0202c05d57"
      },
      "execution_count": null,
      "outputs": [
        {
          "output_type": "stream",
          "name": "stdout",
          "text": [
            "3 2\n"
          ]
        }
      ]
    },
    {
      "cell_type": "code",
      "source": [
        "# Question 2 - La France est le 2è pays qui a organisé le plus de JO après les USA (8 JO) ?\n",
        "country_host_counts = hosts_df.groupBy('game_location').count().orderBy('count', ascending=False)\n",
        "top_countries = country_host_counts.limit(10)\n",
        "top_countries.show()"
      ],
      "metadata": {
        "colab": {
          "base_uri": "https://localhost:8080/"
        },
        "id": "836_tEdz7V8c",
        "outputId": "cd8034d3-1c6c-4a2d-8098-0b8f8cfd28eb"
      },
      "execution_count": null,
      "outputs": [
        {
          "output_type": "stream",
          "name": "stdout",
          "text": [
            "+-----------------+-----+\n",
            "|    game_location|count|\n",
            "+-----------------+-----+\n",
            "|    United States|    8|\n",
            "|           France|    5|\n",
            "|            Japan|    4|\n",
            "|    Great Britain|    3|\n",
            "|            Italy|    3|\n",
            "|           Canada|    3|\n",
            "|Republic of Korea|    2|\n",
            "|           Greece|    2|\n",
            "|            China|    2|\n",
            "|           Norway|    2|\n",
            "+-----------------+-----+\n",
            "\n"
          ]
        }
      ]
    },
    {
      "cell_type": "code",
      "source": [
        "# Question 3 - Les JO d’hiver sont nés à Chamonix en 1924 ?\n",
        "\n",
        "hosts_df = hosts_df.withColumn('game_start_date', col('game_start_date').cast('date'))\n",
        "winter_games = hosts_df.filter(col('game_season') == 'Winter')\n",
        "first_winter_olympics = winter_games.orderBy('game_start_date').first()\n",
        "\n",
        "print(first_winter_olympics['game_name'], first_winter_olympics['game_year'], first_winter_olympics['game_location'], first_winter_olympics['game_start_date'])"
      ],
      "metadata": {
        "colab": {
          "base_uri": "https://localhost:8080/"
        },
        "id": "qDYyXF7O7h6m",
        "outputId": "0a6c3bbc-d0f2-4ce4-9c30-e36ebb8c0674"
      },
      "execution_count": null,
      "outputs": [
        {
          "output_type": "stream",
          "name": "stdout",
          "text": [
            "Chamonix 1924 1924 France 1924-01-25\n"
          ]
        }
      ]
    },
    {
      "cell_type": "code",
      "source": [
        "# Question 4 - JO de Paris, en 1900 : les femmes peuvent participer aux JO ?\n",
        "\n",
        "# Filter data for Paris 1900\n",
        "paris_1900_data = olympic_medals_df.filter(olympic_medals_df.slug_game == \"paris-1900\")\n",
        "\n",
        "# Check for female athletes participation\n",
        "female_athletes_paris_1900 = paris_1900_data.filter(olympic_medals_df.event_gender == \"Women\").select(\"athlete_full_name\").distinct()\n",
        "\n",
        "# Count the number of female athletes\n",
        "num_female_athletes_paris_1900 = female_athletes_paris_1900.count()\n",
        "\n",
        "# Check if there were any female athletes\n",
        "female_participation = num_female_athletes_paris_1900 > 0\n",
        "\n",
        "# Display results\n",
        "if female_participation:\n",
        "    response = f\"Oui, aux JO de Paris en 1900, {num_female_athletes_paris_1900} femmes ont participé d'après le dataset.\"\n",
        "else:\n",
        "    response = \"Non, aux JO de Paris en 1900, les femmes n'ont pas participé.\"\n",
        "\n",
        "print(response)\n"
      ],
      "metadata": {
        "colab": {
          "base_uri": "https://localhost:8080/"
        },
        "id": "l8AIc9-NvHp7",
        "outputId": "1e1cfaca-ecd5-4d38-f8c2-d58a5709b282"
      },
      "execution_count": null,
      "outputs": [
        {
          "output_type": "stream",
          "name": "stdout",
          "text": [
            "Oui, aux JO de Paris en 1900, 7 femmes ont participé d'après le dataset.\n"
          ]
        }
      ]
    },
    {
      "cell_type": "code",
      "source": [
        "# Question 5 - Seuls 4 athlètes ont remporté des médailles à la fois aux JO d’hiver et d’été. Une seule d’entre eux, Christa Ludinger-Rothenburger, a remporté des médailles au cours de la même année ?\n",
        "christa_full_data = athletes_data.filter(col('athlete_full_name').contains('Christa LUDING-'))\n",
        "christa_bio = christa_full_data.select('bio').collect()[0][0]\n",
        "\n",
        "print(christa_bio)\n"
      ],
      "metadata": {
        "colab": {
          "base_uri": "https://localhost:8080/"
        },
        "id": "t_4wpiOz71Cx",
        "outputId": "b0aa0c54-069f-468e-ec67-cdbaa19d987c"
      },
      "execution_count": null,
      "outputs": [
        {
          "output_type": "stream",
          "name": "stdout",
          "text": [
            "Christa Luding-Rothenburger is the only person in any sport to have won medals in both the Olympic Winter and Summer Games in the same year.Gold in winterLuding-Rothenburger first competed in speed skating at the 1980 Games in Lake Placid, finishing 12th in the 500m and 18th in the 1,000m events. She entered the 1984 Winter Games in Sarajevo as the world record holder at 500m, and proceeded to win the gold medal in that event. She also placed fifth at 1,000m.Unbeatable at 1000mFour years later, at the Olympic Winter Games in Calgary, Luding-Rothenberger earned the silver medal in the 500m by finishing a mere two hundredths of a second behind Bonnie Blair. Four days later, Luding-Rothenberger won the gold medal at 1,000m and broke the world record.Silver in summerHer coach, Ernst Luding (whom she married in 1988) had persuaded her to take up cycling during the off season from skating. She quickly became a strong contender in this event, winning gold in the match sprint competition at the 1986 world championships. During the 1988 Olympic Games in Seoul, Christa Luding-Rothenburger made Olympic history by earning the silver medal in the 1,000m match sprint seven months after she had triumphed at the Olympic Winter Games. At the 1992 Winter Games in Albertville she added a bronze medal in the 500m speed skating event and placed eighth in the 1,000m.\n"
          ]
        }
      ]
    },
    {
      "cell_type": "code",
      "source": [
        "# Question 7 - Tarzan lui-même a participé aux JO. En effet, Johnny Weissmuller, ancien athlète devenu acteur et ayant interprété 12 films de Tarzan, a remporté 5 médailles d’or en natation dans les années 1920 ?\n",
        "\n",
        "# Filter data for Johnny Weissmuller\n",
        "johnny_data = olympic_medals_df.filter(olympic_medals_df.athlete_full_name.contains(\"Johnny WEISSMULLER\"))\n",
        "\n",
        "# Filter gold medals\n",
        "johnny_gold_medals = johnny_data.filter(olympic_medals_df.medal_type == \"GOLD\")\n",
        "\n",
        "# Group by discipline and game to count medals\n",
        "johnny_gold_medals_summary = johnny_gold_medals.groupBy(\"discipline_title\", \"slug_game\").count()\n",
        "\n",
        "# Collect the results\n",
        "johnny_gold_medals_summary_collect = johnny_gold_medals_summary.collect()\n",
        "\n",
        "# Display the results\n",
        "for row in johnny_gold_medals_summary_collect:\n",
        "    print(f\"Discipline: {row['discipline_title']}, Game: {row['slug_game']}, Gold Medals: {row['count']}\")\n",
        "\n",
        "# Count the total number of gold medals\n",
        "total_gold_medals = sum(row['count'] for row in johnny_gold_medals_summary_collect)\n",
        "\n",
        "# Formulate the response\n",
        "if total_gold_medals == 5:\n",
        "    response = \"Oui, Johnny Weissmuller a remporté 5 médailles d'or en natation dans les années 1920.\"\n",
        "else:\n",
        "    response = f\"Non, Johnny Weissmuller a remporté {total_gold_medals} médailles d'or en natation dans les années 1920.\"\n",
        "\n",
        "response"
      ],
      "metadata": {
        "colab": {
          "base_uri": "https://localhost:8080/",
          "height": 71
        },
        "id": "m0MUNMnbhd0r",
        "outputId": "e6cf266c-a48f-44af-a26a-28e77695f78b"
      },
      "execution_count": null,
      "outputs": [
        {
          "output_type": "stream",
          "name": "stdout",
          "text": [
            "Discipline: Swimming, Game: paris-1924, Gold Medals: 2\n",
            "Discipline: Swimming, Game: amsterdam-1928, Gold Medals: 1\n"
          ]
        },
        {
          "output_type": "execute_result",
          "data": {
            "text/plain": [
              "\"Non, Johnny Weissmuller a remporté 3 médailles d'or en natation dans les années 1920.\""
            ],
            "application/vnd.google.colaboratory.intrinsic+json": {
              "type": "string"
            }
          },
          "metadata": {},
          "execution_count": 45
        }
      ]
    },
    {
      "cell_type": "code",
      "source": [
        "# Question 8 - Les JO de Londres de 2012 ont été les 1ers JO durant lesquels tous les pays participants ont envoyé des athlètes de sexe féminin ?\n",
        "\n",
        "# Filter data for London 2012\n",
        "london_2012_data = olympic_medals_df.filter(olympic_medals_df.slug_game == \"london-2012\")\n",
        "\n",
        "# Check for female athletes participation by country\n",
        "countries_with_female_athletes = london_2012_data.filter(olympic_medals_df.event_gender == \"Women\").select(\"country_name\").distinct()\n",
        "all_countries = london_2012_data.select(\"country_name\").distinct()\n",
        "\n",
        "# Count the number of countries\n",
        "num_countries_with_female_athletes = countries_with_female_athletes.count()\n",
        "num_all_countries = all_countries.count()\n",
        "\n",
        "# Check if all countries sent female athletes\n",
        "all_countries_sent_female_athletes = num_countries_with_female_athletes == num_all_countries\n",
        "\n",
        "# Display the results\n",
        "num_countries_with_female_athletes, num_all_countries, all_countries_sent_female_athletes\n",
        "\n",
        "# Formulate the response\n",
        "if all_countries_sent_female_athletes:\n",
        "    response = \"Oui, les JO de Londres de 2012 ont été les premiers JO durant lesquels tous les pays participants ont envoyé des athlètes de sexe féminin.\"\n",
        "else:\n",
        "    response = f\"Non, aux JO de Londres de 2012, {num_countries_with_female_athletes} sur {num_all_countries} pays ont envoyé des athlètes de sexe féminin.\"\n",
        "\n",
        "response\n"
      ],
      "metadata": {
        "colab": {
          "base_uri": "https://localhost:8080/",
          "height": 36
        },
        "id": "ho2NXKexpa-r",
        "outputId": "2c8a6de8-b85e-4c82-ef47-cc3da4e2272b"
      },
      "execution_count": null,
      "outputs": [
        {
          "output_type": "execute_result",
          "data": {
            "text/plain": [
              "'Non, aux JO de Londres de 2012, 61 sur 85 pays ont envoyé des athlètes de sexe féminin.'"
            ],
            "application/vnd.google.colaboratory.intrinsic+json": {
              "type": "string"
            }
          },
          "metadata": {},
          "execution_count": 48
        }
      ]
    },
    {
      "cell_type": "code",
      "source": [
        "# Question 10 - Les Jeux de 2016, à Rio, marqueront la 1è manifestation des JO en Amérique du Sud ? Les Jeux de 2016, à Rio, marqueront la 1è manifestation des JO en Amérique du Sud ?\n",
        "rio_2016_data = hosts_df.filter(col('game_slug').contains('rio-2016'))\n",
        "previous_south_american_games = hosts_df.filter((col('game_year') < 2016) & (col('game_location').rlike('Brazil|Argentina|South America')))\n",
        "\n",
        "print(rio_2016_data.collect(), previous_south_american_games.collect())"
      ],
      "metadata": {
        "colab": {
          "base_uri": "https://localhost:8080/"
        },
        "id": "ci15qwqp8niO",
        "outputId": "9c8a0a38-d206-40e4-bdc9-054739770c67"
      },
      "execution_count": null,
      "outputs": [
        {
          "output_type": "stream",
          "name": "stdout",
          "text": [
            "[Row(game_end_date='2016-08-21T21:00:00Z', game_location='Brazil', game_name='Rio 2016', game_season='Summer', game_slug='rio-2016', game_start_date='2016-08-05T12:00:00Z', game_year='2016', index='3')] []\n"
          ]
        }
      ]
    },
    {
      "cell_type": "markdown",
      "source": [
        "# Questions ouvertes"
      ],
      "metadata": {
        "id": "CGrW-guLlfSo"
      }
    },
    {
      "cell_type": "code",
      "source": [
        "# Supprimer les doublons\n",
        "olympic_medals_df = olympic_medals_df.dropDuplicates()\n",
        "\n",
        "# Filtrer les données pour la France\n",
        "france_medals = olympic_medals_df.filter(col(\"country_name\") == \"France\")\n",
        "\n",
        "# Compter le nombre total de médailles\n",
        "total_medals = france_medals.count()\n",
        "\n",
        "# Compter le nombre de médailles d'or, d'argent et de bronze\n",
        "medals_count = france_medals.groupBy(\"medal_type\").count()\n",
        "\n",
        "# Extraire les comptes des médailles d'or, d'argent et de bronze\n",
        "gold_medals = medals_count.filter(col(\"medal_type\") == \"GOLD\").select(\"count\").collect()[0][0]\n",
        "silver_medals = medals_count.filter(col(\"medal_type\") == \"SILVER\").select(\"count\").collect()[0][0]\n",
        "bronze_medals = medals_count.filter(col(\"medal_type\") == \"BRONZE\").select(\"count\").collect()[0][0]\n",
        "\n",
        "print(f\"Total des médailles remportées par la France : {total_medals}\")\n",
        "print(f\"Médailles d'Or : {gold_medals}\")\n",
        "print(f\"Médailles d'Argent : {silver_medals}\")\n",
        "print(f\"Médailles de Bronze : {bronze_medals}\")\n"
      ],
      "metadata": {
        "colab": {
          "base_uri": "https://localhost:8080/"
        },
        "id": "yBdLR9u7avhD",
        "outputId": "45712df2-3b1c-4cd0-aad9-850684f2f264"
      },
      "execution_count": null,
      "outputs": [
        {
          "output_type": "stream",
          "name": "stdout",
          "text": [
            "Total des médailles remportées par la France : 952\n",
            "Médailles d'Or : 282\n",
            "Médailles d'Argent : 305\n",
            "Médailles de Bronze : 365\n"
          ]
        }
      ]
    },
    {
      "cell_type": "code",
      "source": [
        "# Supprimer les doublons\n",
        "olympic_medals_df = olympic_medals_df.dropDuplicates()\n",
        "\n",
        "# Filtrer les données pour la France\n",
        "france_medals = olympic_medals_df.filter(col(\"country_name\") == \"France\")\n",
        "\n",
        "# Group by the Olympic Games and count the number of medals for each game\n",
        "medals_by_game = france_medals.groupBy(\"slug_game\").agg(count(\"*\").alias(\"medal_count\"))\n",
        "\n",
        "# Find the game with the maximum and minimum number of medals\n",
        "most_successful = medals_by_game.orderBy(col(\"medal_count\").desc()).first()\n",
        "least_successful = medals_by_game.orderBy(col(\"medal_count\").asc()).first()\n",
        "\n",
        "# Afficher les résultats\n",
        "print(f\"L'édition des JO la plus réussie pour la France : {most_successful['slug_game']} avec {most_successful['medal_count']} médailles\")\n",
        "print(f\"L'édition des JO la moins réussie pour la France : {least_successful['slug_game']} avec {least_successful['medal_count']} médailles\")"
      ],
      "metadata": {
        "colab": {
          "base_uri": "https://localhost:8080/"
        },
        "id": "FEsVE-m9i6hm",
        "outputId": "130d4532-1170-44fd-e7b5-92c6c662a740"
      },
      "execution_count": null,
      "outputs": [
        {
          "output_type": "stream",
          "name": "stdout",
          "text": [
            "L'édition des JO la plus réussie pour la France : paris-1900 avec 103 médailles\n",
            "L'édition des JO la moins réussie pour la France : garmisch-partenkirchen-1936 avec 1 médailles\n"
          ]
        }
      ]
    },
    {
      "cell_type": "code",
      "source": [
        "# Supprimer les doublons\n",
        "olympic_medals_df = olympic_medals_df.dropDuplicates()\n",
        "\n",
        "# Filtrer les données pour la France\n",
        "france_medals = olympic_medals_df.filter(col(\"country_name\") == \"France\")\n",
        "\n",
        "# Grouper les données par discipline et compter les médailles pour chaque discipline pour la France\n",
        "france_disciplines = france_medals.groupBy(\"discipline_title\").count().withColumnRenamed(\"count\", \"france_medal_count\")\n",
        "\n",
        "# Grouper les données par discipline et compter les médailles totales pour chaque discipline\n",
        "total_disciplines = olympic_medals_df.groupBy(\"discipline_title\").count().withColumnRenamed(\"count\", \"total_medal_count\")\n",
        "\n",
        "# Fusionner les deux DataFrames sur la colonne 'discipline_title'\n",
        "merged_disciplines = france_disciplines.join(total_disciplines, on=\"discipline_title\")\n",
        "\n",
        "# Calculer la proportion des médailles de la France dans chaque discipline\n",
        "merged_disciplines = merged_disciplines.withColumn(\"proportion\", col(\"france_medal_count\") / col(\"total_medal_count\"))\n",
        "\n",
        "# Trouver la ou les disciplines où la France a la plus grande proportion de médailles\n",
        "top_disciplines = merged_disciplines.orderBy(col(\"proportion\").desc())\n",
        "\n",
        "# Afficher les résultats\n",
        "top_disciplines.show(truncate=False)"
      ],
      "metadata": {
        "colab": {
          "base_uri": "https://localhost:8080/"
        },
        "id": "gfgIx_52oBxO",
        "outputId": "ccc11b8e-05d6-4d1f-ab1d-09ac44d596d1"
      },
      "execution_count": null,
      "outputs": [
        {
          "output_type": "stream",
          "name": "stdout",
          "text": [
            "+---------------------+------------------+-----------------+-------------------+\n",
            "|discipline_title     |france_medal_count|total_medal_count|proportion         |\n",
            "+---------------------+------------------+-----------------+-------------------+\n",
            "|Croquet              |8                 |8                |1.0                |\n",
            "|Water Motorsports    |1                 |3                |0.3333333333333333 |\n",
            "|Equestrian  Vaulting |2                 |6                |0.3333333333333333 |\n",
            "|Military Patrol      |1                 |3                |0.3333333333333333 |\n",
            "|Fencing              |123               |668              |0.18413173652694612|\n",
            "|Canoe Slalom         |22                |132              |0.16666666666666666|\n",
            "|Rugby Sevens         |1                 |6                |0.16666666666666666|\n",
            "|Cycling Mountain Bike|6                 |42               |0.14285714285714285|\n",
            "|Cycling Track        |74                |578              |0.12802768166089964|\n",
            "|Rugby                |2                 |16               |0.125              |\n",
            "|Archery              |25                |204              |0.12254901960784313|\n",
            "|Equestrian Jumping   |17                |144              |0.11805555555555555|\n",
            "|Biathlon             |32                |286              |0.11188811188811189|\n",
            "|Cycling BMX          |2                 |18               |0.1111111111111111 |\n",
            "|Canoe Marathon       |4                 |36               |0.1111111111111111 |\n",
            "|Alpine Skiing        |51                |494              |0.10323886639676114|\n",
            "|Judo                 |57                |607              |0.09390444810543658|\n",
            "|Handball             |7                 |78               |0.08974358974358974|\n",
            "|Cycling Road         |18                |201              |0.08955223880597014|\n",
            "|Freestyle Skiing     |15                |171              |0.08771929824561403|\n",
            "+---------------------+------------------+-----------------+-------------------+\n",
            "only showing top 20 rows\n",
            "\n"
          ]
        }
      ]
    },
    {
      "cell_type": "code",
      "source": [
        "# Supprimer les doublons\n",
        "olympic_medals_df = olympic_medals_df.dropDuplicates()\n",
        "\n",
        "# Grouper les données par discipline et compter les médailles totales pour chaque discipline\n",
        "total_medals_by_discipline = olympic_medals_df.groupBy(\"discipline_title\").count().withColumnRenamed(\"count\", \"total_medal_count\")\n",
        "\n",
        "# Trier les disciplines par le nombre total de médailles en ordre décroissant\n",
        "dominant_sports = total_medals_by_discipline.orderBy(col(\"total_medal_count\").desc())\n",
        "\n",
        "# Afficher les résultats\n",
        "dominant_sports.show(10, truncate=False)\n"
      ],
      "metadata": {
        "colab": {
          "base_uri": "https://localhost:8080/"
        },
        "id": "9iW8tTJItyW-",
        "outputId": "345867e5-fd1d-4bf1-acb4-543b101cdbe4"
      },
      "execution_count": null,
      "outputs": [
        {
          "output_type": "stream",
          "name": "stdout",
          "text": [
            "+-------------------+-----------------+\n",
            "|discipline_title   |total_medal_count|\n",
            "+-------------------+-----------------+\n",
            "|Athletics          |3080             |\n",
            "|Swimming           |1763             |\n",
            "|Wrestling          |1356             |\n",
            "|Rowing             |1072             |\n",
            "|Boxing             |996              |\n",
            "|Gymnastics Artistic|979              |\n",
            "|Shooting           |871              |\n",
            "|Canoe Sprint       |799              |\n",
            "|Sailing            |771              |\n",
            "|Weightlifting      |679              |\n",
            "+-------------------+-----------------+\n",
            "only showing top 10 rows\n",
            "\n"
          ]
        }
      ]
    },
    {
      "cell_type": "code",
      "source": [
        "# Supprimer les colonnes inutiles\n",
        "data_cleaned = olympic_medals_df.drop(\"Unnamed: 0\", \"athlete_url\")"
      ],
      "metadata": {
        "id": "1DKVlv1Z5v3I"
      },
      "execution_count": null,
      "outputs": []
    },
    {
      "cell_type": "markdown",
      "source": [
        "# Visualisation des données"
      ],
      "metadata": {
        "id": "OIChSQ4IxVd6"
      }
    },
    {
      "cell_type": "code",
      "source": [
        "# Filtrer pour obtenir les 10 premiers pays ayant le plus de médailles\n",
        "top_countries_df = data_cleaned.groupBy(\"country_name\").count().orderBy(\"count\", ascending=False).limit(10)\n",
        "\n",
        "# Joindre avec les données originales pour ne garder que les 10 premiers pays\n",
        "filtered_df = data_cleaned.join(top_countries_df, on=\"country_name\", how=\"inner\")\n",
        "\n",
        "# Grouper par pays et type de médaille et compter les occurrences\n",
        "medals_by_country = filtered_df.groupBy(\"country_name\", \"medal_type\").count()\n",
        "\n",
        "# Convertir le DataFrame Spark en Pandas DataFrame\n",
        "medals_by_country_pd = medals_by_country.toPandas()\n",
        "\n",
        "# Transformer les données pour le graphique\n",
        "medals_by_country_unstacked = medals_by_country_pd.pivot(index='country_name', columns='medal_type', values='count').fillna(0)\n",
        "\n",
        "# Plotting the data with side-by-side bars\n",
        "fig, ax = plt.subplots(figsize=(14, 8))\n",
        "\n",
        "medals_by_country_unstacked.plot(kind='bar', ax=ax, width=0.8)\n",
        "\n",
        "plt.title('Répartition des médailles par pays (Top 10)', fontsize=16)\n",
        "plt.xlabel('Pays', fontsize=14)\n",
        "plt.ylabel('Nombre de médailles', fontsize=14)\n",
        "plt.legend(title='Type de médaille', title_fontsize='13', fontsize='11')\n",
        "plt.xticks(rotation=45, ha='right', fontsize=12)\n",
        "plt.yticks(fontsize=12)\n",
        "plt.tight_layout()\n",
        "\n",
        "# Show the plot\n",
        "plt.show()"
      ],
      "metadata": {
        "colab": {
          "base_uri": "https://localhost:8080/",
          "height": 457
        },
        "id": "eEDqdmKVxTpx",
        "outputId": "9e94cc2f-1974-4aab-c3cf-71725e7a9da6"
      },
      "execution_count": null,
      "outputs": [
        {
          "output_type": "display_data",
          "data": {
            "text/plain": [
              "<Figure size 1400x800 with 1 Axes>"
            ],
            "image/png": "[encoded data removed]"
          },
          "metadata": {}
        }
      ]
    },
    {
      "cell_type": "code",
      "source": [
        "# Grouper les données par genre et type de médaille\n",
        "medals_by_gender_spark =  data_cleaned.groupBy(\"event_gender\", \"medal_type\").count()\n",
        "\n",
        "# Convertir le DataFrame Spark en Pandas DataFrame\n",
        "medals_by_gender_pd = medals_by_gender_spark.toPandas()\n",
        "\n",
        "# Transformer les données pour le graphique\n",
        "medals_by_gender_unstacked = medals_by_gender_pd.pivot(index='event_gender', columns='medal_type', values='count').fillna(0)\n",
        "\n",
        "# Plotting the data with stacked bars\n",
        "fig, ax = plt.subplots(figsize=(14, 8))\n",
        "\n",
        "medals_by_gender_unstacked.plot(kind='bar', ax=ax)\n",
        "\n",
        "plt.title('Comparaison des Médailles par Genre')\n",
        "plt.xlabel('Genre')\n",
        "plt.ylabel('Nombre de médailles')\n",
        "plt.legend(title='Type de médaille')\n",
        "plt.xticks(rotation=0, ha='right')\n",
        "\n",
        "# Show the plot\n",
        "plt.tight_layout()\n",
        "plt.show()"
      ],
      "metadata": {
        "colab": {
          "base_uri": "https://localhost:8080/",
          "height": 457
        },
        "id": "mdkJkUZJ3W2H",
        "outputId": "135dfabb-b4ef-47a4-d392-3e382d6e719b"
      },
      "execution_count": null,
      "outputs": [
        {
          "output_type": "display_data",
          "data": {
            "text/plain": [
              "<Figure size 1400x800 with 1 Axes>"
            ],
            "image/png": "[encoded data removed]"
          },
          "metadata": {}
        }
      ]
    },
    {
      "cell_type": "code",
      "source": [
        "# Grouper les données par discipline et compter les médailles\n",
        "medals_by_discipline_spark = data_cleaned.groupBy(\"discipline_title\").count()\n",
        "\n",
        "# Trier par ordre décroissant et sélectionner les 10 premières disciplines\n",
        "top_10_disciplines_spark = medals_by_discipline_spark.orderBy(col(\"count\").desc()).limit(10)\n",
        "\n",
        "# Convertir le DataFrame Spark en Pandas DataFrame\n",
        "top_10_disciplines_pd = top_10_disciplines_spark.toPandas()\n",
        "\n",
        "# Plotting the data with a pie chart\n",
        "plt.figure(figsize=(14, 8))\n",
        "top_10_disciplines_pd.set_index('discipline_title').plot(kind='pie', y='count', autopct='%1.1f%%', startangle=140, legend=False)\n",
        "\n",
        "plt.title('Top 10 Disciplines par Médailles')\n",
        "plt.ylabel('')  # Hide the y-label\n",
        "\n",
        "# Show the plot\n",
        "plt.tight_layout()\n",
        "plt.show()"
      ],
      "metadata": {
        "colab": {
          "base_uri": "https://localhost:8080/",
          "height": 504
        },
        "id": "X_zH1rwJ6X8K",
        "outputId": "a8d48a84-10e4-4a16-964f-956b1fc04c4b"
      },
      "execution_count": null,
      "outputs": [
        {
          "output_type": "display_data",
          "data": {
            "text/plain": [
              "<Figure size 1400x800 with 0 Axes>"
            ]
          },
          "metadata": {}
        },
        {
          "output_type": "display_data",
          "data": {
            "text/plain": [
              "<Figure size 640x480 with 1 Axes>"
            ],
            "image/png": "[encoded data removed]"
          },
          "metadata": {}
        }
      ]
    },
    {
      "cell_type": "code",
      "source": [
        "# Filtrer les données pour ne garder que les Jeux Olympiques d'été\n",
        "summer_games = ['athens-1896', 'paris-1900', 'st-louis-1904', 'london-1908', 'stockholm-1912',\n",
        "                'antwerp-1920', 'paris-1924', 'amsterdam-1928', 'los-angeles-1932', 'berlin-1936',\n",
        "                'london-1948', 'helsinki-1952', 'melbourne-1956', 'rome-1960', 'tokyo-1964',\n",
        "                'mexico-city-1968', 'munich-1972', 'montreal-1976', 'moscow-1980', 'los-angeles-1984',\n",
        "                'seoul-1988', 'barcelona-1992', 'atlanta-1996', 'sydney-2000', 'athens-2004',\n",
        "                'beijing-2008', 'london-2012', 'rio-2016', 'tokyo-2020']\n",
        "data_summer = data_cleaned.filter(col(\"slug_game\").isin(summer_games))"
      ],
      "metadata": {
        "id": "Bp_ze9Fb5zCN"
      },
      "execution_count": null,
      "outputs": []
    },
    {
      "cell_type": "code",
      "source": [
        "# Filtrer les données pour ne garder que celles de la France\n",
        "data_france = data_summer.filter(col(\"country_name\") == \"France\")"
      ],
      "metadata": {
        "id": "Amgk5nBp5z3B"
      },
      "execution_count": null,
      "outputs": []
    },
    {
      "cell_type": "code",
      "source": [
        "# Supprimer les doublons en conservant une seule ligne pour chaque combinaison d'événement et de médaille\n",
        "data_france = data_france.dropDuplicates([\"discipline_title\", \"slug_game\", \"event_title\", \"medal_type\", \"country_name\"])"
      ],
      "metadata": {
        "id": "ZIIGOnfC90WV"
      },
      "execution_count": null,
      "outputs": []
    },
    {
      "cell_type": "code",
      "source": [
        "data_france.count()"
      ],
      "metadata": {
        "colab": {
          "base_uri": "https://localhost:8080/"
        },
        "id": "opz6M9iw97Hy",
        "outputId": "70e801a8-dfe1-431d-9efc-0666f7eabb5f"
      },
      "execution_count": null,
      "outputs": [
        {
          "output_type": "execute_result",
          "data": {
            "text/plain": [
              "743"
            ]
          },
          "metadata": {},
          "execution_count": 8
        }
      ]
    },
    {
      "cell_type": "code",
      "source": [
        "# Définir les colonnes catégorielles\n",
        "categorical_columns = ['discipline_title', 'event_title', 'event_gender', 'medal_type', 'participant_type']\n"
      ],
      "metadata": {
        "id": "t6tfdo6Q93_A"
      },
      "execution_count": null,
      "outputs": []
    },
    {
      "cell_type": "code",
      "source": [
        "# Encodage des variables catégorielles\n",
        "indexers = [StringIndexer(inputCol=column, outputCol=column+\"_index\").fit(data_france) for column in categorical_columns]\n",
        "pipeline = Pipeline(stages=indexers)\n",
        "data_france = pipeline.fit(data_france).transform(data_france)"
      ],
      "metadata": {
        "id": "FtwrraSg96G1"
      },
      "execution_count": null,
      "outputs": []
    },
    {
      "cell_type": "code",
      "source": [
        "# Extraire l'année du slug_game\n",
        "data_france = data_france.withColumn(\"year\", expr(\"split(slug_game, '-')[1]\").cast(\"int\"))\n"
      ],
      "metadata": {
        "id": "E3sKYHvU-us1"
      },
      "execution_count": null,
      "outputs": []
    },
    {
      "cell_type": "code",
      "source": [
        "# Grouper les données par année et compter le nombre de médailles d'or, d'argent et de bronze\n",
        "medal_counts = data_france.groupBy(\"year\").pivot(\"medal_type\").count().fillna(0)\n"
      ],
      "metadata": {
        "id": "4IzfS_FH-wW4"
      },
      "execution_count": null,
      "outputs": []
    },
    {
      "cell_type": "code",
      "source": [
        "# Assemblage des caractéristiques\n",
        "assembler = VectorAssembler(inputCols=[\"year\"], outputCol=\"features\")\n",
        "medal_counts = assembler.transform(medal_counts)\n"
      ],
      "metadata": {
        "id": "s3w_vTN1-yMA"
      },
      "execution_count": null,
      "outputs": []
    },
    {
      "cell_type": "code",
      "source": [
        "# Séparation des données en ensembles d'entraînement et de test\n",
        "train_data, test_data = medal_counts.randomSplit([0.8, 0.2], seed=42)\n"
      ],
      "metadata": {
        "id": "C8Xu9AIP-zn7"
      },
      "execution_count": null,
      "outputs": []
    },
    {
      "cell_type": "code",
      "source": [
        "# Convertir les données de Spark DataFrame en Pandas DataFrame pour utilisation avec XGBoost\n",
        "def convert_to_pandas(df):\n",
        "    return df.toPandas()"
      ],
      "metadata": {
        "id": "8iPFujKAO1j9"
      },
      "execution_count": null,
      "outputs": []
    },
    {
      "cell_type": "code",
      "source": [
        "train_data_pd = convert_to_pandas(train_data)\n",
        "test_data_pd = convert_to_pandas(test_data)"
      ],
      "metadata": {
        "id": "w_U3JkkDPNcQ"
      },
      "execution_count": null,
      "outputs": []
    },
    {
      "cell_type": "code",
      "source": [
        "X_train = train_data_pd[['year']]\n",
        "y_train_gold = train_data_pd['GOLD']\n",
        "y_train_silver = train_data_pd['SILVER']\n",
        "y_train_bronze = train_data_pd['BRONZE']\n",
        "\n",
        "X_test = test_data_pd[['year']]\n",
        "y_test_gold = test_data_pd['GOLD']\n",
        "y_test_silver = test_data_pd['SILVER']\n",
        "y_test_bronze = test_data_pd['BRONZE']"
      ],
      "metadata": {
        "id": "V6ozvQdVPRf3"
      },
      "execution_count": null,
      "outputs": []
    },
    {
      "cell_type": "markdown",
      "source": [
        "#Utilisation d'un Modèle GradientBoostingRegressor (ML)"
      ],
      "metadata": {
        "id": "i0BN-e54Kq2g"
      }
    },
    {
      "cell_type": "code",
      "source": [
        "# Entraîner un modèle GradientBoostingRegressor pour chaque type de médaille\n",
        "def train_gb_model(X_train, y_train, X_test, y_test):\n",
        "    model = GradientBoostingRegressor(n_estimators=100, random_state=42)\n",
        "    model.fit(X_train, y_train)\n",
        "    y_pred = model.predict(X_test)\n",
        "    rmse = mean_squared_error(y_test, y_pred, squared=False)  # RMSE\n",
        "    return model, rmse, y_pred\n",
        "\n",
        "gb_model_gold, rmse_gold_gb, y_pred_gold_gb = train_gb_model(X_train, y_train_gold, X_test, y_test_gold)\n",
        "gb_model_silver, rmse_silver_gb, y_pred_silver_gb = train_gb_model(X_train, y_train_silver, X_test, y_test_silver)\n",
        "gb_model_bronze, rmse_bronze_gb, y_pred_bronze_gb = train_gb_model(X_train, y_train_bronze, X_test, y_test_bronze)\n"
      ],
      "metadata": {
        "id": "6o-81PbASjNL"
      },
      "execution_count": null,
      "outputs": []
    },
    {
      "cell_type": "code",
      "source": [
        "# Afficher les RMSE\n",
        "print(\"RMSE Gold (GradientBoosting):\", rmse_gold_gb)\n",
        "print(\"RMSE Silver (GradientBoosting):\", rmse_silver_gb)\n",
        "print(\"RMSE Bronze (GradientBoosting):\", rmse_bronze_gb)"
      ],
      "metadata": {
        "colab": {
          "base_uri": "https://localhost:8080/"
        },
        "id": "vVvyvfmcSkwX",
        "outputId": "3e263795-643b-4d51-efed-0563a8273c93"
      },
      "execution_count": null,
      "outputs": [
        {
          "output_type": "stream",
          "name": "stdout",
          "text": [
            "RMSE Gold (GradientBoosting): 9.32318464705542\n",
            "RMSE Silver (GradientBoosting): 13.7418430230988\n",
            "RMSE Bronze (GradientBoosting): 13.703412651594357\n"
          ]
        }
      ]
    },
    {
      "cell_type": "code",
      "source": [
        "# Prédiction pour l'année 2024\n",
        "year_2024 = pd.DataFrame({'year': [2024]})\n",
        "gold_2024_gb = gb_model_gold.predict(year_2024)\n",
        "silver_2024_gb = gb_model_silver.predict(year_2024)\n",
        "bronze_2024_gb = gb_model_bronze.predict(year_2024)"
      ],
      "metadata": {
        "id": "awIE_p07Sv3h"
      },
      "execution_count": null,
      "outputs": []
    },
    {
      "cell_type": "code",
      "source": [
        "print(\"Predicted Gold medals for 2024 (GradientBoosting):\", gold_2024_gb[0])\n",
        "print(\"Predicted Silver medals for 2024 (GradientBoosting):\", silver_2024_gb[0])\n",
        "print(\"Predicted Bronze medals for 2024 (GradientBoosting):\", bronze_2024_gb[0])\n"
      ],
      "metadata": {
        "colab": {
          "base_uri": "https://localhost:8080/"
        },
        "id": "D0pL58DhSx5F",
        "outputId": "a8f609e9-aabc-4151-94b5-747a3a56d95f"
      },
      "execution_count": null,
      "outputs": [
        {
          "output_type": "stream",
          "name": "stdout",
          "text": [
            "Predicted Gold medals for 2024 (GradientBoosting): 9.971317884891565\n",
            "Predicted Silver medals for 2024 (GradientBoosting): 12.050284239477959\n",
            "Predicted Bronze medals for 2024 (GradientBoosting): 11.156022775939611\n"
          ]
        }
      ]
    },
    {
      "cell_type": "markdown",
      "source": [
        "# Utilisation d'un Modèle XGBoost (ML)"
      ],
      "metadata": {
        "id": "sTaOq1dhKxGJ"
      }
    },
    {
      "cell_type": "code",
      "source": [
        "# Entraîner un modèle XGBoost pour chaque type de médaille\n",
        "def train_xgb_model(X_train, y_train, X_test, y_test):\n",
        "    model = xgb.XGBRegressor(objective='reg:squarederror', n_estimators=100, seed=42)\n",
        "    model.fit(X_train, y_train)\n",
        "    y_pred = model.predict(X_test)\n",
        "    rmse = mean_squared_error(y_test, y_pred, squared=False)  # RMSE\n",
        "    return model, rmse, y_pred\n"
      ],
      "metadata": {
        "id": "rvRjdKszP8B6"
      },
      "execution_count": null,
      "outputs": []
    },
    {
      "cell_type": "code",
      "source": [
        "xgb_model_gold, rmse_gold_xgb, y_pred_gold_xgb = train_xgb_model(X_train, y_train_gold, X_test, y_test_gold)\n",
        "xgb_model_silver, rmse_silver_xgb, y_pred_silver_xgb = train_xgb_model(X_train, y_train_silver, X_test, y_test_silver)\n",
        "xgb_model_bronze, rmse_bronze_xgb, y_pred_bronze_xgb = train_xgb_model(X_train, y_train_bronze, X_test, y_test_bronze)\n"
      ],
      "metadata": {
        "id": "cVAizOyiP9dR"
      },
      "execution_count": null,
      "outputs": []
    },
    {
      "cell_type": "code",
      "source": [
        "# Afficher les RMSE\n",
        "print(\"RMSE Gold (XGBoost):\", rmse_gold_xgb)\n",
        "print(\"RMSE Silver (XGBoost):\", rmse_silver_xgb)\n",
        "print(\"RMSE Bronze (XGBoost):\", rmse_bronze_xgb)\n"
      ],
      "metadata": {
        "colab": {
          "base_uri": "https://localhost:8080/"
        },
        "id": "Fg_wB6gpP-1w",
        "outputId": "56191966-4c80-4ba0-b918-c9d62c6c8ce7"
      },
      "execution_count": null,
      "outputs": [
        {
          "output_type": "stream",
          "name": "stdout",
          "text": [
            "RMSE Gold (XGBoost): 9.34497849248678\n",
            "RMSE Silver (XGBoost): 13.776987423273503\n",
            "RMSE Bronze (XGBoost): 13.891400410032416\n"
          ]
        }
      ]
    },
    {
      "cell_type": "code",
      "source": [
        "# Prédiction pour l'année 2024\n",
        "gold_2024_xgb = xgb_model_gold.predict(year_2024)\n",
        "silver_2024_xgb = xgb_model_silver.predict(year_2024)\n",
        "bronze_2024_xgb = xgb_model_bronze.predict(year_2024)\n",
        "\n",
        "print(\"Predicted Gold medals for 2024 (XGBoost):\", gold_2024_xgb[0])\n",
        "print(\"Predicted Silver medals for 2024 (XGBoost):\", silver_2024_xgb[0])\n",
        "print(\"Predicted Bronze medals for 2024 (XGBoost):\", bronze_2024_xgb[0])"
      ],
      "metadata": {
        "colab": {
          "base_uri": "https://localhost:8080/"
        },
        "id": "1jM4HtiAQDKX",
        "outputId": "06e54e0e-9c18-4f0d-e2cd-59726f0746df"
      },
      "execution_count": null,
      "outputs": [
        {
          "output_type": "stream",
          "name": "stdout",
          "text": [
            "Predicted Gold medals for 2024 (XGBoost): 9.999706\n",
            "Predicted Silver medals for 2024 (XGBoost): 12.00045\n",
            "Predicted Bronze medals for 2024 (XGBoost): 11.001321\n"
          ]
        }
      ]
    },
    {
      "cell_type": "markdown",
      "source": [
        "# Utilisation d'un Modèle MLP (DL)"
      ],
      "metadata": {
        "id": "DTJnN9YtUcfV"
      }
    },
    {
      "cell_type": "code",
      "source": [
        "# Entraîner un modèle MLP pour chaque type de médaille\n",
        "def train_mlp_model(X_train, y_train, X_test, y_test):\n",
        "    model = Sequential()\n",
        "    model.add(Dense(64, activation='relu', input_dim=X_train.shape[1]))\n",
        "    model.add(Dense(32, activation='relu'))\n",
        "    model.add(Dense(1))  # Sortie unique pour la régression\n",
        "\n",
        "    model.compile(optimizer='adam', loss='mse')\n",
        "    model.fit(X_train, y_train, epochs=100, batch_size=10, verbose=0, validation_data=(X_test, y_test))\n",
        "\n",
        "    y_pred = model.predict(X_test)\n",
        "    rmse = mean_squared_error(y_test, y_pred, squared=False)  # RMSE\n",
        "    return model, rmse, y_pred\n"
      ],
      "metadata": {
        "id": "GoadryUmUym6"
      },
      "execution_count": null,
      "outputs": []
    },
    {
      "cell_type": "code",
      "source": [
        "# Entraîner des modèles MLP pour chaque type de médaille\n",
        "mlp_model_gold, rmse_gold_mlp, y_pred_gold_mlp = train_mlp_model(X_train, y_train_gold, X_test, y_test_gold)\n",
        "mlp_model_silver, rmse_silver_mlp, y_pred_silver_mlp = train_mlp_model(X_train, y_train_silver, X_test, y_test_silver)\n",
        "mlp_model_bronze, rmse_bronze_mlp, y_pred_bronze_mlp = train_mlp_model(X_train, y_train_bronze, X_test, y_test_bronze)"
      ],
      "metadata": {
        "colab": {
          "base_uri": "https://localhost:8080/"
        },
        "id": "5X5Ay-WVU8r_",
        "outputId": "a2cc6a94-d3e0-429e-d189-8fb245b79a5f"
      },
      "execution_count": null,
      "outputs": [
        {
          "output_type": "stream",
          "name": "stdout",
          "text": [
            "1/1 [==============================] - 0s 109ms/step\n",
            "1/1 [==============================] - 0s 59ms/step\n",
            "1/1 [==============================] - 0s 101ms/step\n"
          ]
        }
      ]
    },
    {
      "cell_type": "code",
      "source": [
        "print(\"RMSE Gold (MLP):\", rmse_gold_mlp)\n",
        "print(\"RMSE Silver (MLP):\", rmse_silver_mlp)\n",
        "print(\"RMSE Bronze (MLP):\", rmse_bronze_mlp)"
      ],
      "metadata": {
        "colab": {
          "base_uri": "https://localhost:8080/"
        },
        "id": "wJFzZCspU-95",
        "outputId": "c6ccf14e-d8f4-453e-aebd-303e8e27d113"
      },
      "execution_count": null,
      "outputs": [
        {
          "output_type": "stream",
          "name": "stdout",
          "text": [
            "RMSE Gold (MLP): 9.389268147996132\n",
            "RMSE Silver (MLP): 13.768175635748076\n",
            "RMSE Bronze (MLP): 11.43463498621207\n"
          ]
        }
      ]
    },
    {
      "cell_type": "code",
      "source": [
        "gold_2024_mlp = mlp_model_gold.predict(year_2024)\n",
        "silver_2024_mlp = mlp_model_silver.predict(year_2024)\n",
        "bronze_2024_mlp = mlp_model_bronze.predict(year_2024)\n",
        "\n",
        "print(\"Predicted Gold medals for 2024 (MLP):\", gold_2024_mlp[0][0])\n",
        "print(\"Predicted Silver medals for 2024 (MLP):\", silver_2024_mlp[0][0])\n",
        "print(\"Predicted Bronze medals for 2024 (MLP):\", bronze_2024_mlp[0][0])"
      ],
      "metadata": {
        "colab": {
          "base_uri": "https://localhost:8080/"
        },
        "id": "1vzt39y9VBBH",
        "outputId": "e35b3b35-cacf-45f1-9438-1bd3d46511b3"
      },
      "execution_count": null,
      "outputs": [
        {
          "output_type": "stream",
          "name": "stdout",
          "text": [
            "1/1 [==============================] - 0s 89ms/step\n"
          ]
        },
        {
          "output_type": "stream",
          "name": "stderr",
          "text": [
            "WARNING:tensorflow:5 out of the last 5 calls to <function Model.make_predict_function.<locals>.predict_function at 0x797142548550> triggered tf.function retracing. Tracing is expensive and the excessive number of tracings could be due to (1) creating @tf.function repeatedly in a loop, (2) passing tensors with different shapes, (3) passing Python objects instead of tensors. For (1), please define your @tf.function outside of the loop. For (2), @tf.function has reduce_retracing=True option that can avoid unnecessary retracing. For (3), please refer to https://www.tensorflow.org/guide/function#controlling_retracing and https://www.tensorflow.org/api_docs/python/tf/function for  more details.\n"
          ]
        },
        {
          "output_type": "stream",
          "name": "stdout",
          "text": [
            "1/1 [==============================] - 0s 95ms/step\n"
          ]
        },
        {
          "output_type": "stream",
          "name": "stderr",
          "text": [
            "WARNING:tensorflow:6 out of the last 6 calls to <function Model.make_predict_function.<locals>.predict_function at 0x797142549510> triggered tf.function retracing. Tracing is expensive and the excessive number of tracings could be due to (1) creating @tf.function repeatedly in a loop, (2) passing tensors with different shapes, (3) passing Python objects instead of tensors. For (1), please define your @tf.function outside of the loop. For (2), @tf.function has reduce_retracing=True option that can avoid unnecessary retracing. For (3), please refer to https://www.tensorflow.org/guide/function#controlling_retracing and https://www.tensorflow.org/api_docs/python/tf/function for  more details.\n"
          ]
        },
        {
          "output_type": "stream",
          "name": "stdout",
          "text": [
            "1/1 [==============================] - 0s 107ms/step\n",
            "Predicted Gold medals for 2024 (MLP): 7.064378\n",
            "Predicted Silver medals for 2024 (MLP): 4.7729344\n",
            "Predicted Bronze medals for 2024 (MLP): 8.8581915\n"
          ]
        }
      ]
    },
    {
      "cell_type": "markdown",
      "source": [
        "# Utilisation d'un modèle LSTM"
      ],
      "metadata": {
        "id": "Vni-uZyzj6Xc"
      }
    },
    {
      "cell_type": "code",
      "source": [
        "# Charger le fichier Excel\n",
        "chemin_fichier_excel = 'sample_data/olympic_medals.xlsx'\n",
        "data = pd.read_excel(chemin_fichier_excel)\n",
        "\n",
        "# Supprimer la colonne `participant_title` si elle existe\n",
        "if 'participant_title' in data.columns:\n",
        "    data = data.drop(columns=['participant_title'])\n",
        "\n",
        "# Extraire l'année de la colonne 'slug_game'\n",
        "data['year'] = data['slug_game'].str.extract('(\\d{4})').astype(int)\n",
        "\n",
        "# Agréger les données par pays et par année\n",
        "medals_per_country_year_type = data.groupby(['country_name', 'year', 'medal_type']).size().unstack(fill_value=0)\n",
        "medals_per_country_year_type.columns = ['Bronze', 'Gold', 'Silver']\n",
        "medals_per_country_year_type = medals_per_country_year_type.reset_index()\n",
        "\n",
        "# One-hot encoding pour les pays\n",
        "encoder = OneHotEncoder(sparse=False)\n",
        "country_encoded = encoder.fit_transform(medals_per_country_year_type[['country_name']])\n",
        "\n",
        "# Normalisation des années\n",
        "scaler = StandardScaler()\n",
        "medals_per_country_year_type['year'] = scaler.fit_transform(medals_per_country_year_type[['year']])\n",
        "\n",
        "# Préparation des caractéristiques et des cibles\n",
        "X = np.hstack((country_encoded, medals_per_country_year_type[['year']].values))\n",
        "y = medals_per_country_year_type[['Bronze', 'Gold', 'Silver']].values\n",
        "\n",
        "# Création des séquences\n",
        "look_back = 5  # Nombre d'années à regarder en arrière\n",
        "X_sequences = []\n",
        "y_sequences = []\n",
        "\n",
        "for i in range(len(X) - look_back):\n",
        "    X_sequences.append(X[i:i + look_back])\n",
        "    y_sequences.append(y[i + look_back])\n",
        "\n",
        "X_sequences = np.array(X_sequences)\n",
        "y_sequences = np.array(y_sequences)\n",
        "\n",
        "# Division des données en ensembles d'entraînement et de test\n",
        "X_train, X_test, y_train, y_test = train_test_split(X_sequences, y_sequences, test_size=0.2, random_state=42)\n",
        "\n",
        "# Définition du modèle LSTM\n",
        "model = Sequential([\n",
        "    LSTM(50, input_shape=(look_back, X_train.shape[2])),\n",
        "    Dense(64, activation='relu'),\n",
        "    Dense(32, activation='relu'),\n",
        "    Dense(3)\n",
        "])\n",
        "\n",
        "# Compiler le modèle\n",
        "model.compile(optimizer='adam', loss='mean_squared_error')\n",
        "\n",
        "# Entraîner le modèle\n",
        "model.fit(X_train, y_train, epochs=50, batch_size=32, verbose=1)\n",
        "\n",
        "# Évaluer le modèle sur l'ensemble de test\n",
        "loss = model.evaluate(X_test, y_test, verbose=1)\n",
        "print(f\"Loss: {loss}\")\n",
        "\n",
        "# Faire des prédictions sur l'ensemble de test\n",
        "predictions = model.predict(X_test)"
      ],
      "metadata": {
        "colab": {
          "base_uri": "https://localhost:8080/"
        },
        "id": "xPjxK5sws5ag",
        "outputId": "3d745a24-2056-478c-f4fa-e82c5116b76e"
      },
      "execution_count": 53,
      "outputs": [
        {
          "output_type": "stream",
          "name": "stderr",
          "text": [
            "/usr/local/lib/python3.10/dist-packages/sklearn/preprocessing/_encoders.py:868: FutureWarning: `sparse` was renamed to `sparse_output` in version 1.2 and will be removed in 1.4. `sparse_output` is ignored unless you leave `sparse` to its default value.\n",
            "  warnings.warn(\n"
          ]
        },
        {
          "output_type": "stream",
          "name": "stdout",
          "text": [
            "Epoch 1/50\n",
            "39/39 [==============================] - 2s 4ms/step - loss: 79.7952\n",
            "Epoch 2/50\n",
            "39/39 [==============================] - 0s 4ms/step - loss: 61.1051\n",
            "Epoch 3/50\n",
            "39/39 [==============================] - 0s 4ms/step - loss: 47.4847\n",
            "Epoch 4/50\n",
            "39/39 [==============================] - 0s 4ms/step - loss: 38.0165\n",
            "Epoch 5/50\n",
            "39/39 [==============================] - 0s 4ms/step - loss: 35.1492\n",
            "Epoch 6/50\n",
            "39/39 [==============================] - 0s 4ms/step - loss: 33.1492\n",
            "Epoch 7/50\n",
            "39/39 [==============================] - 0s 4ms/step - loss: 32.0601\n",
            "Epoch 8/50\n",
            "39/39 [==============================] - 0s 4ms/step - loss: 31.8212\n",
            "Epoch 9/50\n",
            "39/39 [==============================] - 0s 4ms/step - loss: 30.9573\n",
            "Epoch 10/50\n",
            "39/39 [==============================] - 0s 4ms/step - loss: 30.5453\n",
            "Epoch 11/50\n",
            "39/39 [==============================] - 0s 4ms/step - loss: 30.0268\n",
            "Epoch 12/50\n",
            "39/39 [==============================] - 0s 4ms/step - loss: 30.4235\n",
            "Epoch 13/50\n",
            "39/39 [==============================] - 0s 4ms/step - loss: 29.4265\n",
            "Epoch 14/50\n",
            "39/39 [==============================] - 0s 4ms/step - loss: 28.7719\n",
            "Epoch 15/50\n",
            "39/39 [==============================] - 0s 4ms/step - loss: 27.9396\n",
            "Epoch 16/50\n",
            "39/39 [==============================] - 0s 4ms/step - loss: 28.3069\n",
            "Epoch 17/50\n",
            "39/39 [==============================] - 0s 4ms/step - loss: 27.4915\n",
            "Epoch 18/50\n",
            "39/39 [==============================] - 0s 4ms/step - loss: 27.5771\n",
            "Epoch 19/50\n",
            "39/39 [==============================] - 0s 4ms/step - loss: 28.1152\n",
            "Epoch 20/50\n",
            "39/39 [==============================] - 0s 4ms/step - loss: 27.3090\n",
            "Epoch 21/50\n",
            "39/39 [==============================] - 0s 4ms/step - loss: 26.7366\n",
            "Epoch 22/50\n",
            "39/39 [==============================] - 0s 5ms/step - loss: 26.5200\n",
            "Epoch 23/50\n",
            "39/39 [==============================] - 0s 4ms/step - loss: 26.0830\n",
            "Epoch 24/50\n",
            "39/39 [==============================] - 0s 4ms/step - loss: 26.4245\n",
            "Epoch 25/50\n",
            "39/39 [==============================] - 0s 4ms/step - loss: 25.8882\n",
            "Epoch 26/50\n",
            "39/39 [==============================] - 0s 5ms/step - loss: 25.7360\n",
            "Epoch 27/50\n",
            "39/39 [==============================] - 0s 5ms/step - loss: 25.2393\n",
            "Epoch 28/50\n",
            "39/39 [==============================] - 0s 5ms/step - loss: 25.6818\n",
            "Epoch 29/50\n",
            "39/39 [==============================] - 0s 4ms/step - loss: 25.5607\n",
            "Epoch 30/50\n",
            "39/39 [==============================] - 0s 4ms/step - loss: 25.9783\n",
            "Epoch 31/50\n",
            "39/39 [==============================] - 0s 5ms/step - loss: 24.4108\n",
            "Epoch 32/50\n",
            "39/39 [==============================] - 0s 7ms/step - loss: 24.4592\n",
            "Epoch 33/50\n",
            "39/39 [==============================] - 0s 6ms/step - loss: 25.3662\n",
            "Epoch 34/50\n",
            "39/39 [==============================] - 0s 6ms/step - loss: 24.6682\n",
            "Epoch 35/50\n",
            "39/39 [==============================] - 0s 6ms/step - loss: 24.2498\n",
            "Epoch 36/50\n",
            "39/39 [==============================] - 0s 6ms/step - loss: 24.1675\n",
            "Epoch 37/50\n",
            "39/39 [==============================] - 0s 10ms/step - loss: 24.2204\n",
            "Epoch 38/50\n",
            "39/39 [==============================] - 0s 8ms/step - loss: 23.7499\n",
            "Epoch 39/50\n",
            "39/39 [==============================] - 0s 10ms/step - loss: 23.6679\n",
            "Epoch 40/50\n",
            "39/39 [==============================] - 0s 10ms/step - loss: 23.9073\n",
            "Epoch 41/50\n",
            "39/39 [==============================] - 0s 13ms/step - loss: 23.6747\n",
            "Epoch 42/50\n",
            "39/39 [==============================] - 0s 11ms/step - loss: 23.4864\n",
            "Epoch 43/50\n",
            "39/39 [==============================] - 0s 12ms/step - loss: 24.3097\n",
            "Epoch 44/50\n",
            "39/39 [==============================] - 0s 11ms/step - loss: 23.7291\n",
            "Epoch 45/50\n",
            "39/39 [==============================] - 0s 9ms/step - loss: 22.9926\n",
            "Epoch 46/50\n",
            "39/39 [==============================] - 0s 7ms/step - loss: 23.0253\n",
            "Epoch 47/50\n",
            "39/39 [==============================] - 0s 8ms/step - loss: 23.4586\n",
            "Epoch 48/50\n",
            "39/39 [==============================] - 0s 7ms/step - loss: 23.5269\n",
            "Epoch 49/50\n",
            "39/39 [==============================] - 0s 7ms/step - loss: 22.9801\n",
            "Epoch 50/50\n",
            "39/39 [==============================] - 0s 8ms/step - loss: 22.6721\n",
            "10/10 [==============================] - 1s 4ms/step - loss: 48.6679\n",
            "Loss: 48.667911529541016\n",
            "10/10 [==============================] - 1s 4ms/step\n"
          ]
        }
      ]
    },
    {
      "cell_type": "code",
      "source": [
        "def predict_medals(country, year):\n",
        "    # Encodage du pays\n",
        "    country_encoded = encoder.transform([[country]])\n",
        "    previous_years = np.array([year - i for i in range(look_back, 0, -1)])\n",
        "    # Encodage et normalisation de ces années\n",
        "    previous_years_encoded = np.hstack((np.tile(country_encoded, (look_back, 1)), previous_years.reshape(-1, 1)))\n",
        "    previous_years_encoded[:, -1] = scaler.transform(previous_years_encoded[:, -1].reshape(-1, 1)).flatten()\n",
        "    # Ajouter l'année cible (celle pour laquelle nous faisons la prédiction)\n",
        "    target_year_encoded = np.hstack((country_encoded, np.array([[year]])))\n",
        "    target_year_encoded[:, -1] = scaler.transform(target_year_encoded[:, -1].reshape(-1, 1)).flatten()\n",
        "    # Combiner les années précédentes avec l'année cible\n",
        "    input_data = np.vstack((previous_years_encoded, target_year_encoded))\n",
        "    # Reshape pour correspondre à l'entrée du modèle LSTM\n",
        "    input_data = input_data.reshape((1, look_back + 1, input_data.shape[1]))\n",
        "    # Faire la prédiction\n",
        "    prediction = model.predict(input_data)\n",
        "\n",
        "    return prediction\n",
        "\n",
        "# Exemple de prédiction pour un pays\n",
        "pays = 'Pakistan'  # Assurez-vous d'utiliser le nom correct du pays dans vos données\n",
        "prediction_2024 = predict_medals(pays, 2024)\n",
        "\n",
        "print(f\"Prédictions pour {pays} en 2024 :\")\n",
        "print(\"Bronze:\", prediction_2024[0][0])\n",
        "print(\"Argent:\", prediction_2024[0][1])\n",
        "print(\"Or:\", prediction_2024[0][2])\n"
      ],
      "metadata": {
        "colab": {
          "base_uri": "https://localhost:8080/"
        },
        "id": "8qj88_0FwV-_",
        "outputId": "5f3b826e-1a49-4c20-e9df-f452cfe57156"
      },
      "execution_count": 56,
      "outputs": [
        {
          "output_type": "stream",
          "name": "stdout",
          "text": [
            "1/1 [==============================] - 0s 36ms/step\n",
            "Prédictions pour Pakistan en 2024 :\n",
            "Bronze: 0.06560883\n",
            "Argent: 0.27741832\n",
            "Or: 0.18259385\n"
          ]
        },
        {
          "output_type": "stream",
          "name": "stderr",
          "text": [
            "/usr/local/lib/python3.10/dist-packages/sklearn/base.py:439: UserWarning: X does not have valid feature names, but OneHotEncoder was fitted with feature names\n",
            "  warnings.warn(\n",
            "/usr/local/lib/python3.10/dist-packages/sklearn/base.py:439: UserWarning: X does not have valid feature names, but StandardScaler was fitted with feature names\n",
            "  warnings.warn(\n",
            "/usr/local/lib/python3.10/dist-packages/sklearn/base.py:439: UserWarning: X does not have valid feature names, but StandardScaler was fitted with feature names\n",
            "  warnings.warn(\n"
          ]
        }
      ]
    },
    {
      "cell_type": "code",
      "source": [
        "model.save('model_medals_prediction.h5')"
      ],
      "metadata": {
        "colab": {
          "base_uri": "https://localhost:8080/"
        },
        "id": "POuUcCTw7cTn",
        "outputId": "80c299a2-c70c-4c26-8ebc-90d4f4c7f215"
      },
      "execution_count": 51,
      "outputs": [
        {
          "output_type": "stream",
          "name": "stderr",
          "text": [
            "/usr/local/lib/python3.10/dist-packages/keras/src/engine/training.py:3103: UserWarning: You are saving your model as an HDF5 file via `model.save()`. This file format is considered legacy. We recommend using instead the native Keras format, e.g. `model.save('my_model.keras')`.\n",
            "  saving_api.save_model(\n"
          ]
        }
      ]
    }
  ]
}