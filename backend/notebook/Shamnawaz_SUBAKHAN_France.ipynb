{
  "nbformat": 4,
  "nbformat_minor": 0,
  "metadata": {
    "colab": {
      "provenance": []
    },
    "kernelspec": {
      "name": "python3",
      "display_name": "Python 3"
    },
    "language_info": {
      "name": "python"
    }
  },
  "cells": [
    {
      "cell_type": "code",
      "execution_count": null,
      "metadata": {
        "colab": {
          "base_uri": "https://localhost:8080/"
        },
        "id": "Qo4U0KRC4WoJ",
        "outputId": "8604c8c9-bbdc-4e3a-b379-d12e82497382"
      },
      "outputs": [
        {
          "output_type": "stream",
          "name": "stdout",
          "text": [
            "Collecting pyspark\n",
            "  Downloading pyspark-3.5.1.tar.gz (317.0 MB)\n",
            "\u001b[2K     \u001b[90m━━━━━━━━━━━━━━━━━━━━━━━━━━━━━━━━━━━━━━━━\u001b[0m \u001b[32m317.0/317.0 MB\u001b[0m \u001b[31m2.0 MB/s\u001b[0m eta \u001b[36m0:00:00\u001b[0m\n",
            "\u001b[?25h  Preparing metadata (setup.py) ... \u001b[?25l\u001b[?25hdone\n",
            "Requirement already satisfied: py4j==0.10.9.7 in /usr/local/lib/python3.10/dist-packages (from pyspark) (0.10.9.7)\n",
            "Building wheels for collected packages: pyspark\n",
            "  Building wheel for pyspark (setup.py) ... \u001b[?25l\u001b[?25hdone\n",
            "  Created wheel for pyspark: filename=pyspark-3.5.1-py2.py3-none-any.whl size=317488491 sha256=f1365f848eb4eea3718480a96fa8a24b82538269bb7a91695bac2d863734d212\n",
            "  Stored in directory: /root/.cache/pip/wheels/80/1d/60/2c256ed38dddce2fdd93be545214a63e02fbd8d74fb0b7f3a6\n",
            "Successfully built pyspark\n",
            "Installing collected packages: pyspark\n",
            "Successfully installed pyspark-3.5.1\n"
          ]
        }
      ],
      "source": [
        "!pip install pyspark"
      ]
    },
    {
      "cell_type": "code",
      "source": [
        "from pyspark.sql import SparkSession\n",
        "from pyspark.sql.functions import col, expr\n",
        "from pyspark.ml import Pipeline\n",
        "from pyspark.ml.feature import StringIndexer, VectorAssembler\n",
        "from sklearn.model_selection import train_test_split\n",
        "from sklearn.ensemble import GradientBoostingRegressor\n",
        "from sklearn.metrics import mean_squared_error\n",
        "from tensorflow.keras.models import Sequential\n",
        "from tensorflow.keras.layers import Dense, Dropout\n",
        "from pyspark.sql.functions import *\n",
        "from pyspark.sql.types import *\n",
        "import matplotlib.pyplot as plt\n",
        "import xgboost as xgb\n",
        "import pandas as pd\n",
        "import tensorflow as tf\n",
        "import xml.etree.ElementTree as ET\n"
      ],
      "metadata": {
        "id": "1_OlBp84Y2a8"
      },
      "execution_count": 94,
      "outputs": []
    },
    {
      "cell_type": "code",
      "source": [
        "# Création de la session Spark\n",
        "spark = SparkSession.builder \\\n",
        "    .appName(\"ExcelReader\") \\\n",
        "    .config(\"spark.jars.packages\", \"com.crealytics:spark-excel_2.12:0.13.5\") \\\n",
        "    .config(\"spark.executor.memory\", \"4g\") \\\n",
        "    .config(\"spark.driver.memory\", \"4g\") \\\n",
        "    .getOrCreate()\n",
        "\n",
        "# Chemin du fichier Excel\n",
        "file_path = \"sample_data/olympic_medals.xlsx\"\n",
        "\n",
        "# Lecture du fichier Excel\n",
        "olympic_medals_df  = spark.read.format(\"com.crealytics.spark.excel\") \\\n",
        "    .option(\"treatEmptyValuesAsNulls\", \"true\") \\\n",
        "    .option(\"header\", \"true\") \\\n",
        "    .option(\"inferSchema\", \"true\") \\\n",
        "    .load(file_path)\n",
        "\n",
        "# Parse XML data into a list of dictionaries\n",
        "tree = ET.parse('sample_data/olympic_hosts.xml')\n",
        "root = tree.getroot()\n",
        "\n",
        "import xml.etree.ElementTree as ET\n",
        "\n",
        "data_rows_full = []\n",
        "for row in root.findall('row'):\n",
        "    data_rows_full.append({\n",
        "        'index': row.find('index').text,\n",
        "        'game_slug': row.find('game_slug').text,\n",
        "        'game_end_date': row.find('game_end_date').text,\n",
        "        'game_start_date': row.find('game_start_date').text,\n",
        "        'game_location': row.find('game_location').text,\n",
        "        'game_name': row.find('game_name').text,\n",
        "        'game_season': row.find('game_season').text,\n",
        "        'game_year': row.find('game_year').text\n",
        "    })\n",
        "\n",
        "hosts_df = spark.createDataFrame(data_rows_full)\n",
        "athletes_data = spark.read.csv('sample_data/olympic_athletes.csv', header=True, inferSchema=True)"
      ],
      "metadata": {
        "id": "v8tI8Tm0iPxp"
      },
      "execution_count": 95,
      "outputs": []
    },
    {
      "cell_type": "code",
      "source": [
        "olympic_medals_df.show()"
      ],
      "metadata": {
        "colab": {
          "base_uri": "https://localhost:8080/"
        },
        "id": "ZyL7QFyxo2yr",
        "outputId": "c9c8914e-aaf2-4843-dd6a-07014dc60711"
      },
      "execution_count": null,
      "outputs": [
        {
          "output_type": "stream",
          "name": "stdout",
          "text": [
            "+----------------+------------+--------------------+------------+----------+----------------+-----------------+--------------------+--------------------+--------------------+------------+---------------------+\n",
            "|discipline_title|   slug_game|         event_title|event_gender|medal_type|participant_type|participant_title|         athlete_url|   athlete_full_name|        country_name|country_code|country_3_letter_code|\n",
            "+----------------+------------+--------------------+------------+----------+----------------+-----------------+--------------------+--------------------+--------------------+------------+---------------------+\n",
            "|         Curling|beijing-2022|       Mixed Doubles|       Mixed|      GOLD|        GameTeam|            Italy|https://olympics....|Stefania CONSTANTINI|               Italy|          IT|                  ITA|\n",
            "|         Curling|beijing-2022|       Mixed Doubles|       Mixed|      GOLD|        GameTeam|            Italy|https://olympics....|        Amos MOSANER|               Italy|          IT|                  ITA|\n",
            "|         Curling|beijing-2022|       Mixed Doubles|       Mixed|    SILVER|        GameTeam|           Norway|https://olympics....|    Kristin SKASLIEN|              Norway|          NO|                  NOR|\n",
            "|         Curling|beijing-2022|       Mixed Doubles|       Mixed|    SILVER|        GameTeam|           Norway|https://olympics....|  Magnus NEDREGOTTEN|              Norway|          NO|                  NOR|\n",
            "|         Curling|beijing-2022|       Mixed Doubles|       Mixed|    BRONZE|        GameTeam|           Sweden|https://olympics....|       Almida DE VAL|              Sweden|          SE|                  SWE|\n",
            "|         Curling|beijing-2022|       Mixed Doubles|       Mixed|    BRONZE|        GameTeam|           Sweden|https://olympics....|      Oskar ERIKSSON|              Sweden|          SE|                  SWE|\n",
            "|         Curling|beijing-2022|               Women|       Women|      GOLD|        GameTeam|    Great Britain|                NULL|                NULL|       Great Britain|          GB|                  GBR|\n",
            "|         Curling|beijing-2022|               Women|       Women|    SILVER|        GameTeam|            Japan|                NULL|                NULL|               Japan|          JP|                  JPN|\n",
            "|         Curling|beijing-2022|               Women|       Women|    BRONZE|        GameTeam|           Sweden|                NULL|                NULL|              Sweden|          SE|                  SWE|\n",
            "|         Curling|beijing-2022|                 Men|         Men|      GOLD|        GameTeam|           Sweden|                NULL|                NULL|              Sweden|          SE|                  SWE|\n",
            "|         Curling|beijing-2022|                 Men|         Men|    SILVER|        GameTeam|    Great Britain|                NULL|                NULL|       Great Britain|          GB|                  GBR|\n",
            "|         Curling|beijing-2022|                 Men|         Men|    BRONZE|        GameTeam|           Canada|                NULL|                NULL|              Canada|          CA|                  CAN|\n",
            "|Freestyle Skiing|beijing-2022|        Men's Moguls|         Men|    SILVER|         Athlete|             NULL|https://olympics....|    Mikael KINGSBURY|              Canada|          CA|                  CAN|\n",
            "|Freestyle Skiing|beijing-2022|        Men's Moguls|         Men|      GOLD|         Athlete|             NULL|https://olympics....|     Walter WALLBERG|              Sweden|          SE|                  SWE|\n",
            "|Freestyle Skiing|beijing-2022|        Men's Moguls|         Men|    BRONZE|         Athlete|             NULL|https://olympics....|     Ikuma HORISHIMA|               Japan|          JP|                  JPN|\n",
            "|Freestyle Skiing|beijing-2022|Men's Freeski Hal...|         Men|      GOLD|         Athlete|             NULL|https://olympics....|       Nico PORTEOUS|         New Zealand|          NZ|                  NZL|\n",
            "|Freestyle Skiing|beijing-2022|Men's Freeski Hal...|         Men|    SILVER|         Athlete|             NULL|https://olympics....|          David WISE|United States of ...|          US|                  USA|\n",
            "|Freestyle Skiing|beijing-2022|Men's Freeski Hal...|         Men|    BRONZE|         Athlete|             NULL|https://olympics....|       Alex FERREIRA|United States of ...|          US|                  USA|\n",
            "|Freestyle Skiing|beijing-2022|Men's Freeski Big...|         Men|    BRONZE|         Athlete|             NULL|https://olympics....|      Henrik HARLAUT|              Sweden|          SE|                  SWE|\n",
            "|Freestyle Skiing|beijing-2022|Men's Freeski Big...|         Men|      GOLD|         Athlete|             NULL|https://olympics....|           Birk RUUD|              Norway|          NO|                  NOR|\n",
            "+----------------+------------+--------------------+------------+----------+----------------+-----------------+--------------------+--------------------+--------------------+------------+---------------------+\n",
            "only showing top 20 rows\n",
            "\n"
          ]
        }
      ]
    },
    {
      "cell_type": "markdown",
      "source": [
        "# Evènement marquants au **jo**"
      ],
      "metadata": {
        "id": "mmaU2jzQhOVJ"
      }
    },
    {
      "cell_type": "code",
      "source": [
        "# Question 1 - La France a organisé 6 JO : 3 d’hiver et 3 d’été (en comptant celui de 2024) ?La France a organisé 6 JO : 3 d’hiver et 3 d’été (en comptant celui de 2024) ?\n",
        "winter_games = hosts_df.filter(col('game_season') == 'Winter')\n",
        "summer_games = hosts_df.filter(col('game_season') == 'Summer')\n",
        "\n",
        "winter_games_in_france = winter_games.filter(col('game_location') == 'France')\n",
        "summer_games_in_france = summer_games.filter(col('game_location') == 'France')\n",
        "\n",
        "num_winter_games_in_france = winter_games_in_france.select(countDistinct('game_slug')).collect()[0][0]\n",
        "num_summer_games_in_france = summer_games_in_france.select(countDistinct('game_slug')).collect()[0][0]\n",
        "print(num_winter_games_in_france, num_summer_games_in_france)"
      ],
      "metadata": {
        "colab": {
          "base_uri": "https://localhost:8080/"
        },
        "id": "z2hKbJx36oO2",
        "outputId": "10f00ec3-f990-48d5-b050-aa0202c05d57"
      },
      "execution_count": 96,
      "outputs": [
        {
          "output_type": "stream",
          "name": "stdout",
          "text": [
            "3 2\n"
          ]
        }
      ]
    },
    {
      "cell_type": "code",
      "source": [
        "# Question 2 - La France est le 2è pays qui a organisé le plus de JO après les USA (8 JO) ?\n",
        "country_host_counts = hosts_df.groupBy('game_location').count().orderBy('count', ascending=False)\n",
        "top_countries = country_host_counts.limit(10)\n",
        "top_countries.show()"
      ],
      "metadata": {
        "colab": {
          "base_uri": "https://localhost:8080/"
        },
        "id": "836_tEdz7V8c",
        "outputId": "cd8034d3-1c6c-4a2d-8098-0b8f8cfd28eb"
      },
      "execution_count": null,
      "outputs": [
        {
          "output_type": "stream",
          "name": "stdout",
          "text": [
            "+-----------------+-----+\n",
            "|    game_location|count|\n",
            "+-----------------+-----+\n",
            "|    United States|    8|\n",
            "|           France|    5|\n",
            "|            Japan|    4|\n",
            "|    Great Britain|    3|\n",
            "|            Italy|    3|\n",
            "|           Canada|    3|\n",
            "|Republic of Korea|    2|\n",
            "|           Greece|    2|\n",
            "|            China|    2|\n",
            "|           Norway|    2|\n",
            "+-----------------+-----+\n",
            "\n"
          ]
        }
      ]
    },
    {
      "cell_type": "code",
      "source": [
        "# Question 3 - Les JO d’hiver sont nés à Chamonix en 1924 ?\n",
        "\n",
        "hosts_df = hosts_df.withColumn('game_start_date', col('game_start_date').cast('date'))\n",
        "winter_games = hosts_df.filter(col('game_season') == 'Winter')\n",
        "first_winter_olympics = winter_games.orderBy('game_start_date').first()\n",
        "\n",
        "print(first_winter_olympics['game_name'], first_winter_olympics['game_year'], first_winter_olympics['game_location'], first_winter_olympics['game_start_date'])"
      ],
      "metadata": {
        "colab": {
          "base_uri": "https://localhost:8080/"
        },
        "id": "qDYyXF7O7h6m",
        "outputId": "0a6c3bbc-d0f2-4ce4-9c30-e36ebb8c0674"
      },
      "execution_count": null,
      "outputs": [
        {
          "output_type": "stream",
          "name": "stdout",
          "text": [
            "Chamonix 1924 1924 France 1924-01-25\n"
          ]
        }
      ]
    },
    {
      "cell_type": "code",
      "source": [
        "# Question 4 - JO de Paris, en 1900 : les femmes peuvent participer aux JO ?\n",
        "\n",
        "# Filter data for Paris 1900\n",
        "paris_1900_data = olympic_medals_df.filter(olympic_medals_df.slug_game == \"paris-1900\")\n",
        "\n",
        "# Check for female athletes participation\n",
        "female_athletes_paris_1900 = paris_1900_data.filter(olympic_medals_df.event_gender == \"Women\").select(\"athlete_full_name\").distinct()\n",
        "\n",
        "# Count the number of female athletes\n",
        "num_female_athletes_paris_1900 = female_athletes_paris_1900.count()\n",
        "\n",
        "# Check if there were any female athletes\n",
        "female_participation = num_female_athletes_paris_1900 > 0\n",
        "\n",
        "# Display results\n",
        "if female_participation:\n",
        "    response = f\"Oui, aux JO de Paris en 1900, {num_female_athletes_paris_1900} femmes ont participé d'après le dataset.\"\n",
        "else:\n",
        "    response = \"Non, aux JO de Paris en 1900, les femmes n'ont pas participé.\"\n",
        "\n",
        "print(response)\n"
      ],
      "metadata": {
        "colab": {
          "base_uri": "https://localhost:8080/"
        },
        "id": "l8AIc9-NvHp7",
        "outputId": "1e1cfaca-ecd5-4d38-f8c2-d58a5709b282"
      },
      "execution_count": 97,
      "outputs": [
        {
          "output_type": "stream",
          "name": "stdout",
          "text": [
            "Oui, aux JO de Paris en 1900, 7 femmes ont participé d'après le dataset.\n"
          ]
        }
      ]
    },
    {
      "cell_type": "code",
      "source": [
        "# Question 5 - Seuls 4 athlètes ont remporté des médailles à la fois aux JO d’hiver et d’été. Une seule d’entre eux, Christa Ludinger-Rothenburger, a remporté des médailles au cours de la même année ?\n",
        "christa_full_data = athletes_data.filter(col('athlete_full_name').contains('Christa LUDING-'))\n",
        "christa_bio = christa_full_data.select('bio').collect()[0][0]\n",
        "\n",
        "print(christa_bio)\n"
      ],
      "metadata": {
        "colab": {
          "base_uri": "https://localhost:8080/"
        },
        "id": "t_4wpiOz71Cx",
        "outputId": "b0aa0c54-069f-468e-ec67-cdbaa19d987c"
      },
      "execution_count": null,
      "outputs": [
        {
          "output_type": "stream",
          "name": "stdout",
          "text": [
            "Christa Luding-Rothenburger is the only person in any sport to have won medals in both the Olympic Winter and Summer Games in the same year.Gold in winterLuding-Rothenburger first competed in speed skating at the 1980 Games in Lake Placid, finishing 12th in the 500m and 18th in the 1,000m events. She entered the 1984 Winter Games in Sarajevo as the world record holder at 500m, and proceeded to win the gold medal in that event. She also placed fifth at 1,000m.Unbeatable at 1000mFour years later, at the Olympic Winter Games in Calgary, Luding-Rothenberger earned the silver medal in the 500m by finishing a mere two hundredths of a second behind Bonnie Blair. Four days later, Luding-Rothenberger won the gold medal at 1,000m and broke the world record.Silver in summerHer coach, Ernst Luding (whom she married in 1988) had persuaded her to take up cycling during the off season from skating. She quickly became a strong contender in this event, winning gold in the match sprint competition at the 1986 world championships. During the 1988 Olympic Games in Seoul, Christa Luding-Rothenburger made Olympic history by earning the silver medal in the 1,000m match sprint seven months after she had triumphed at the Olympic Winter Games. At the 1992 Winter Games in Albertville she added a bronze medal in the 500m speed skating event and placed eighth in the 1,000m.\n"
          ]
        }
      ]
    },
    {
      "cell_type": "code",
      "source": [
        "# Question 7 - Tarzan lui-même a participé aux JO. En effet, Johnny Weissmuller, ancien athlète devenu acteur et ayant interprété 12 films de Tarzan, a remporté 5 médailles d’or en natation dans les années 1920 ?\n",
        "\n",
        "# Filter data for Johnny Weissmuller\n",
        "johnny_data = olympic_medals_df.filter(olympic_medals_df.athlete_full_name.contains(\"Johnny WEISSMULLER\"))\n",
        "\n",
        "# Filter gold medals\n",
        "johnny_gold_medals = johnny_data.filter(olympic_medals_df.medal_type == \"GOLD\")\n",
        "\n",
        "# Group by discipline and game to count medals\n",
        "johnny_gold_medals_summary = johnny_gold_medals.groupBy(\"discipline_title\", \"slug_game\").count()\n",
        "\n",
        "# Collect the results\n",
        "johnny_gold_medals_summary_collect = johnny_gold_medals_summary.collect()\n",
        "\n",
        "# Display the results\n",
        "for row in johnny_gold_medals_summary_collect:\n",
        "    print(f\"Discipline: {row['discipline_title']}, Game: {row['slug_game']}, Gold Medals: {row['count']}\")\n",
        "\n",
        "# Count the total number of gold medals\n",
        "total_gold_medals = sum(row['count'] for row in johnny_gold_medals_summary_collect)\n",
        "\n",
        "# Formulate the response\n",
        "if total_gold_medals == 5:\n",
        "    response = \"Oui, Johnny Weissmuller a remporté 5 médailles d'or en natation dans les années 1920.\"\n",
        "else:\n",
        "    response = f\"Non, Johnny Weissmuller a remporté {total_gold_medals} médailles d'or en natation dans les années 1920.\"\n",
        "\n",
        "response"
      ],
      "metadata": {
        "colab": {
          "base_uri": "https://localhost:8080/",
          "height": 71
        },
        "id": "m0MUNMnbhd0r",
        "outputId": "e6cf266c-a48f-44af-a26a-28e77695f78b"
      },
      "execution_count": null,
      "outputs": [
        {
          "output_type": "stream",
          "name": "stdout",
          "text": [
            "Discipline: Swimming, Game: paris-1924, Gold Medals: 2\n",
            "Discipline: Swimming, Game: amsterdam-1928, Gold Medals: 1\n"
          ]
        },
        {
          "output_type": "execute_result",
          "data": {
            "text/plain": [
              "\"Non, Johnny Weissmuller a remporté 3 médailles d'or en natation dans les années 1920.\""
            ],
            "application/vnd.google.colaboratory.intrinsic+json": {
              "type": "string"
            }
          },
          "metadata": {},
          "execution_count": 45
        }
      ]
    },
    {
      "cell_type": "code",
      "source": [
        "# Question 8 - Les JO de Londres de 2012 ont été les 1ers JO durant lesquels tous les pays participants ont envoyé des athlètes de sexe féminin ?\n",
        "\n",
        "# Filter data for London 2012\n",
        "london_2012_data = olympic_medals_df.filter(olympic_medals_df.slug_game == \"london-2012\")\n",
        "\n",
        "# Check for female athletes participation by country\n",
        "countries_with_female_athletes = london_2012_data.filter(olympic_medals_df.event_gender == \"Women\").select(\"country_name\").distinct()\n",
        "all_countries = london_2012_data.select(\"country_name\").distinct()\n",
        "\n",
        "# Count the number of countries\n",
        "num_countries_with_female_athletes = countries_with_female_athletes.count()\n",
        "num_all_countries = all_countries.count()\n",
        "\n",
        "# Check if all countries sent female athletes\n",
        "all_countries_sent_female_athletes = num_countries_with_female_athletes == num_all_countries\n",
        "\n",
        "# Display the results\n",
        "num_countries_with_female_athletes, num_all_countries, all_countries_sent_female_athletes\n",
        "\n",
        "# Formulate the response\n",
        "if all_countries_sent_female_athletes:\n",
        "    response = \"Oui, les JO de Londres de 2012 ont été les premiers JO durant lesquels tous les pays participants ont envoyé des athlètes de sexe féminin.\"\n",
        "else:\n",
        "    response = f\"Non, aux JO de Londres de 2012, {num_countries_with_female_athletes} sur {num_all_countries} pays ont envoyé des athlètes de sexe féminin.\"\n",
        "\n",
        "response\n"
      ],
      "metadata": {
        "colab": {
          "base_uri": "https://localhost:8080/",
          "height": 36
        },
        "id": "ho2NXKexpa-r",
        "outputId": "2c8a6de8-b85e-4c82-ef47-cc3da4e2272b"
      },
      "execution_count": null,
      "outputs": [
        {
          "output_type": "execute_result",
          "data": {
            "text/plain": [
              "'Non, aux JO de Londres de 2012, 61 sur 85 pays ont envoyé des athlètes de sexe féminin.'"
            ],
            "application/vnd.google.colaboratory.intrinsic+json": {
              "type": "string"
            }
          },
          "metadata": {},
          "execution_count": 48
        }
      ]
    },
    {
      "cell_type": "code",
      "source": [
        "# Question 10 - Les Jeux de 2016, à Rio, marqueront la 1è manifestation des JO en Amérique du Sud ? Les Jeux de 2016, à Rio, marqueront la 1è manifestation des JO en Amérique du Sud ?\n",
        "rio_2016_data = hosts_df.filter(col('game_slug').contains('rio-2016'))\n",
        "previous_south_american_games = hosts_df.filter((col('game_year') < 2016) & (col('game_location').rlike('Brazil|Argentina|South America')))\n",
        "\n",
        "print(rio_2016_data.collect(), previous_south_american_games.collect())"
      ],
      "metadata": {
        "colab": {
          "base_uri": "https://localhost:8080/"
        },
        "id": "ci15qwqp8niO",
        "outputId": "9c8a0a38-d206-40e4-bdc9-054739770c67"
      },
      "execution_count": null,
      "outputs": [
        {
          "output_type": "stream",
          "name": "stdout",
          "text": [
            "[Row(game_end_date='2016-08-21T21:00:00Z', game_location='Brazil', game_name='Rio 2016', game_season='Summer', game_slug='rio-2016', game_start_date='2016-08-05T12:00:00Z', game_year='2016', index='3')] []\n"
          ]
        }
      ]
    },
    {
      "cell_type": "markdown",
      "source": [
        "# Questions ouvertes"
      ],
      "metadata": {
        "id": "CGrW-guLlfSo"
      }
    },
    {
      "cell_type": "code",
      "source": [
        "# Supprimer les doublons\n",
        "olympic_medals_df = olympic_medals_df.dropDuplicates()\n",
        "\n",
        "# Filtrer les données pour la France\n",
        "france_medals = olympic_medals_df.filter(col(\"country_name\") == \"France\")\n",
        "\n",
        "# Compter le nombre total de médailles\n",
        "total_medals = france_medals.count()\n",
        "\n",
        "# Compter le nombre de médailles d'or, d'argent et de bronze\n",
        "medals_count = france_medals.groupBy(\"medal_type\").count()\n",
        "\n",
        "# Extraire les comptes des médailles d'or, d'argent et de bronze\n",
        "gold_medals = medals_count.filter(col(\"medal_type\") == \"GOLD\").select(\"count\").collect()[0][0]\n",
        "silver_medals = medals_count.filter(col(\"medal_type\") == \"SILVER\").select(\"count\").collect()[0][0]\n",
        "bronze_medals = medals_count.filter(col(\"medal_type\") == \"BRONZE\").select(\"count\").collect()[0][0]\n",
        "\n",
        "print(f\"Total des médailles remportées par la France : {total_medals}\")\n",
        "print(f\"Médailles d'Or : {gold_medals}\")\n",
        "print(f\"Médailles d'Argent : {silver_medals}\")\n",
        "print(f\"Médailles de Bronze : {bronze_medals}\")\n"
      ],
      "metadata": {
        "colab": {
          "base_uri": "https://localhost:8080/"
        },
        "id": "yBdLR9u7avhD",
        "outputId": "45712df2-3b1c-4cd0-aad9-850684f2f264"
      },
      "execution_count": null,
      "outputs": [
        {
          "output_type": "stream",
          "name": "stdout",
          "text": [
            "Total des médailles remportées par la France : 952\n",
            "Médailles d'Or : 282\n",
            "Médailles d'Argent : 305\n",
            "Médailles de Bronze : 365\n"
          ]
        }
      ]
    },
    {
      "cell_type": "code",
      "source": [
        "# Supprimer les doublons\n",
        "olympic_medals_df = olympic_medals_df.dropDuplicates()\n",
        "\n",
        "# Filtrer les données pour la France\n",
        "france_medals = olympic_medals_df.filter(col(\"country_name\") == \"France\")\n",
        "\n",
        "# Group by the Olympic Games and count the number of medals for each game\n",
        "medals_by_game = france_medals.groupBy(\"slug_game\").agg(count(\"*\").alias(\"medal_count\"))\n",
        "\n",
        "# Find the game with the maximum and minimum number of medals\n",
        "most_successful = medals_by_game.orderBy(col(\"medal_count\").desc()).first()\n",
        "least_successful = medals_by_game.orderBy(col(\"medal_count\").asc()).first()\n",
        "\n",
        "# Afficher les résultats\n",
        "print(f\"L'édition des JO la plus réussie pour la France : {most_successful['slug_game']} avec {most_successful['medal_count']} médailles\")\n",
        "print(f\"L'édition des JO la moins réussie pour la France : {least_successful['slug_game']} avec {least_successful['medal_count']} médailles\")"
      ],
      "metadata": {
        "colab": {
          "base_uri": "https://localhost:8080/"
        },
        "id": "FEsVE-m9i6hm",
        "outputId": "130d4532-1170-44fd-e7b5-92c6c662a740"
      },
      "execution_count": null,
      "outputs": [
        {
          "output_type": "stream",
          "name": "stdout",
          "text": [
            "L'édition des JO la plus réussie pour la France : paris-1900 avec 103 médailles\n",
            "L'édition des JO la moins réussie pour la France : garmisch-partenkirchen-1936 avec 1 médailles\n"
          ]
        }
      ]
    },
    {
      "cell_type": "code",
      "source": [
        "# Supprimer les doublons\n",
        "olympic_medals_df = olympic_medals_df.dropDuplicates()\n",
        "\n",
        "# Filtrer les données pour la France\n",
        "france_medals = olympic_medals_df.filter(col(\"country_name\") == \"France\")\n",
        "\n",
        "# Grouper les données par discipline et compter les médailles pour chaque discipline pour la France\n",
        "france_disciplines = france_medals.groupBy(\"discipline_title\").count().withColumnRenamed(\"count\", \"france_medal_count\")\n",
        "\n",
        "# Grouper les données par discipline et compter les médailles totales pour chaque discipline\n",
        "total_disciplines = olympic_medals_df.groupBy(\"discipline_title\").count().withColumnRenamed(\"count\", \"total_medal_count\")\n",
        "\n",
        "# Fusionner les deux DataFrames sur la colonne 'discipline_title'\n",
        "merged_disciplines = france_disciplines.join(total_disciplines, on=\"discipline_title\")\n",
        "\n",
        "# Calculer la proportion des médailles de la France dans chaque discipline\n",
        "merged_disciplines = merged_disciplines.withColumn(\"proportion\", col(\"france_medal_count\") / col(\"total_medal_count\"))\n",
        "\n",
        "# Trouver la ou les disciplines où la France a la plus grande proportion de médailles\n",
        "top_disciplines = merged_disciplines.orderBy(col(\"proportion\").desc())\n",
        "\n",
        "# Afficher les résultats\n",
        "top_disciplines.show(truncate=False)"
      ],
      "metadata": {
        "colab": {
          "base_uri": "https://localhost:8080/"
        },
        "id": "gfgIx_52oBxO",
        "outputId": "ccc11b8e-05d6-4d1f-ab1d-09ac44d596d1"
      },
      "execution_count": null,
      "outputs": [
        {
          "output_type": "stream",
          "name": "stdout",
          "text": [
            "+---------------------+------------------+-----------------+-------------------+\n",
            "|discipline_title     |france_medal_count|total_medal_count|proportion         |\n",
            "+---------------------+------------------+-----------------+-------------------+\n",
            "|Croquet              |8                 |8                |1.0                |\n",
            "|Water Motorsports    |1                 |3                |0.3333333333333333 |\n",
            "|Equestrian  Vaulting |2                 |6                |0.3333333333333333 |\n",
            "|Military Patrol      |1                 |3                |0.3333333333333333 |\n",
            "|Fencing              |123               |668              |0.18413173652694612|\n",
            "|Canoe Slalom         |22                |132              |0.16666666666666666|\n",
            "|Rugby Sevens         |1                 |6                |0.16666666666666666|\n",
            "|Cycling Mountain Bike|6                 |42               |0.14285714285714285|\n",
            "|Cycling Track        |74                |578              |0.12802768166089964|\n",
            "|Rugby                |2                 |16               |0.125              |\n",
            "|Archery              |25                |204              |0.12254901960784313|\n",
            "|Equestrian Jumping   |17                |144              |0.11805555555555555|\n",
            "|Biathlon             |32                |286              |0.11188811188811189|\n",
            "|Cycling BMX          |2                 |18               |0.1111111111111111 |\n",
            "|Canoe Marathon       |4                 |36               |0.1111111111111111 |\n",
            "|Alpine Skiing        |51                |494              |0.10323886639676114|\n",
            "|Judo                 |57                |607              |0.09390444810543658|\n",
            "|Handball             |7                 |78               |0.08974358974358974|\n",
            "|Cycling Road         |18                |201              |0.08955223880597014|\n",
            "|Freestyle Skiing     |15                |171              |0.08771929824561403|\n",
            "+---------------------+------------------+-----------------+-------------------+\n",
            "only showing top 20 rows\n",
            "\n"
          ]
        }
      ]
    },
    {
      "cell_type": "code",
      "source": [
        "# Supprimer les doublons\n",
        "olympic_medals_df = olympic_medals_df.dropDuplicates()\n",
        "\n",
        "# Grouper les données par discipline et compter les médailles totales pour chaque discipline\n",
        "total_medals_by_discipline = olympic_medals_df.groupBy(\"discipline_title\").count().withColumnRenamed(\"count\", \"total_medal_count\")\n",
        "\n",
        "# Trier les disciplines par le nombre total de médailles en ordre décroissant\n",
        "dominant_sports = total_medals_by_discipline.orderBy(col(\"total_medal_count\").desc())\n",
        "\n",
        "# Afficher les résultats\n",
        "dominant_sports.show(10, truncate=False)\n"
      ],
      "metadata": {
        "colab": {
          "base_uri": "https://localhost:8080/"
        },
        "id": "9iW8tTJItyW-",
        "outputId": "345867e5-fd1d-4bf1-acb4-543b101cdbe4"
      },
      "execution_count": null,
      "outputs": [
        {
          "output_type": "stream",
          "name": "stdout",
          "text": [
            "+-------------------+-----------------+\n",
            "|discipline_title   |total_medal_count|\n",
            "+-------------------+-----------------+\n",
            "|Athletics          |3080             |\n",
            "|Swimming           |1763             |\n",
            "|Wrestling          |1356             |\n",
            "|Rowing             |1072             |\n",
            "|Boxing             |996              |\n",
            "|Gymnastics Artistic|979              |\n",
            "|Shooting           |871              |\n",
            "|Canoe Sprint       |799              |\n",
            "|Sailing            |771              |\n",
            "|Weightlifting      |679              |\n",
            "+-------------------+-----------------+\n",
            "only showing top 10 rows\n",
            "\n"
          ]
        }
      ]
    },
    {
      "cell_type": "code",
      "source": [
        "# Supprimer les colonnes inutiles\n",
        "data_cleaned = olympic_medals_df.drop(\"Unnamed: 0\", \"athlete_url\")"
      ],
      "metadata": {
        "id": "1DKVlv1Z5v3I"
      },
      "execution_count": null,
      "outputs": []
    },
    {
      "cell_type": "markdown",
      "source": [
        "# Visualisation des données"
      ],
      "metadata": {
        "id": "OIChSQ4IxVd6"
      }
    },
    {
      "cell_type": "code",
      "source": [
        "# Filtrer pour obtenir les 10 premiers pays ayant le plus de médailles\n",
        "top_countries_df = data_cleaned.groupBy(\"country_name\").count().orderBy(\"count\", ascending=False).limit(10)\n",
        "\n",
        "# Joindre avec les données originales pour ne garder que les 10 premiers pays\n",
        "filtered_df = data_cleaned.join(top_countries_df, on=\"country_name\", how=\"inner\")\n",
        "\n",
        "# Grouper par pays et type de médaille et compter les occurrences\n",
        "medals_by_country = filtered_df.groupBy(\"country_name\", \"medal_type\").count()\n",
        "\n",
        "# Convertir le DataFrame Spark en Pandas DataFrame\n",
        "medals_by_country_pd = medals_by_country.toPandas()\n",
        "\n",
        "# Transformer les données pour le graphique\n",
        "medals_by_country_unstacked = medals_by_country_pd.pivot(index='country_name', columns='medal_type', values='count').fillna(0)\n",
        "\n",
        "# Plotting the data with side-by-side bars\n",
        "fig, ax = plt.subplots(figsize=(14, 8))\n",
        "\n",
        "medals_by_country_unstacked.plot(kind='bar', ax=ax, width=0.8)\n",
        "\n",
        "plt.title('Répartition des médailles par pays (Top 10)', fontsize=16)\n",
        "plt.xlabel('Pays', fontsize=14)\n",
        "plt.ylabel('Nombre de médailles', fontsize=14)\n",
        "plt.legend(title='Type de médaille', title_fontsize='13', fontsize='11')\n",
        "plt.xticks(rotation=45, ha='right', fontsize=12)\n",
        "plt.yticks(fontsize=12)\n",
        "plt.tight_layout()\n",
        "\n",
        "# Show the plot\n",
        "plt.show()"
      ],
      "metadata": {
        "colab": {
          "base_uri": "https://localhost:8080/",
          "height": 457
        },
        "id": "eEDqdmKVxTpx",
        "outputId": "9e94cc2f-1974-4aab-c3cf-71725e7a9da6"
      },
      "execution_count": null,
      "outputs": [
        {
          "output_type": "display_data",
          "data": {
            "text/plain": [
              "<Figure size 1400x800 with 1 Axes>"
            ],
            "image/png": "[encoded data removed]"
          },
          "metadata": {}
        }
      ]
    },
    {
      "cell_type": "code",
      "source": [
        "# Grouper les données par genre et type de médaille\n",
        "medals_by_gender_spark =  data_cleaned.groupBy(\"event_gender\", \"medal_type\").count()\n",
        "\n",
        "# Convertir le DataFrame Spark en Pandas DataFrame\n",
        "medals_by_gender_pd = medals_by_gender_spark.toPandas()\n",
        "\n",
        "# Transformer les données pour le graphique\n",
        "medals_by_gender_unstacked = medals_by_gender_pd.pivot(index='event_gender', columns='medal_type', values='count').fillna(0)\n",
        "\n",
        "# Plotting the data with stacked bars\n",
        "fig, ax = plt.subplots(figsize=(14, 8))\n",
        "\n",
        "medals_by_gender_unstacked.plot(kind='bar', ax=ax)\n",
        "\n",
        "plt.title('Comparaison des Médailles par Genre')\n",
        "plt.xlabel('Genre')\n",
        "plt.ylabel('Nombre de médailles')\n",
        "plt.legend(title='Type de médaille')\n",
        "plt.xticks(rotation=0, ha='right')\n",
        "\n",
        "# Show the plot\n",
        "plt.tight_layout()\n",
        "plt.show()"
      ],
      "metadata": {
        "colab": {
          "base_uri": "https://localhost:8080/",
          "height": 457
        },
        "id": "mdkJkUZJ3W2H",
        "outputId": "135dfabb-b4ef-47a4-d392-3e382d6e719b"
      },
      "execution_count": null,
      "outputs": [
        {
          "output_type": "display_data",
          "data": {
            "text/plain": [
              "<Figure size 1400x800 with 1 Axes>"
            ],
            "image/png": "[encoded data removed]"
          },
          "metadata": {}
        }
      ]
    },
    {
      "cell_type": "code",
      "source": [
        "# Grouper les données par discipline et compter les médailles\n",
        "medals_by_discipline_spark = data_cleaned.groupBy(\"discipline_title\").count()\n",
        "\n",
        "# Trier par ordre décroissant et sélectionner les 10 premières disciplines\n",
        "top_10_disciplines_spark = medals_by_discipline_spark.orderBy(col(\"count\").desc()).limit(10)\n",
        "\n",
        "# Convertir le DataFrame Spark en Pandas DataFrame\n",
        "top_10_disciplines_pd = top_10_disciplines_spark.toPandas()\n",
        "\n",
        "# Plotting the data with a pie chart\n",
        "plt.figure(figsize=(14, 8))\n",
        "top_10_disciplines_pd.set_index('discipline_title').plot(kind='pie', y='count', autopct='%1.1f%%', startangle=140, legend=False)\n",
        "\n",
        "plt.title('Top 10 Disciplines par Médailles')\n",
        "plt.ylabel('')  # Hide the y-label\n",
        "\n",
        "# Show the plot\n",
        "plt.tight_layout()\n",
        "plt.show()"
      ],
      "metadata": {
        "colab": {
          "base_uri": "https://localhost:8080/",
          "height": 504
        },
        "id": "X_zH1rwJ6X8K",
        "outputId": "a8d48a84-10e4-4a16-964f-956b1fc04c4b"
      },
      "execution_count": null,
      "outputs": [
        {
          "output_type": "display_data",
          "data": {
            "text/plain": [
              "<Figure size 1400x800 with 0 Axes>"
            ]
          },
          "metadata": {}
        },
        {
          "output_type": "display_data",
          "data": {
            "text/plain": [
              "<Figure size 640x480 with 1 Axes>"
            ],
            "image/png": "[encoded data removed]"
          },
          "metadata": {}
        }
      ]
    },
    {
      "cell_type": "code",
      "source": [
        "# Filtrer les données pour ne garder que les Jeux Olympiques d'été\n",
        "summer_games = ['athens-1896', 'paris-1900', 'st-louis-1904', 'london-1908', 'stockholm-1912',\n",
        "                'antwerp-1920', 'paris-1924', 'amsterdam-1928', 'los-angeles-1932', 'berlin-1936',\n",
        "                'london-1948', 'helsinki-1952', 'melbourne-1956', 'rome-1960', 'tokyo-1964',\n",
        "                'mexico-city-1968', 'munich-1972', 'montreal-1976', 'moscow-1980', 'los-angeles-1984',\n",
        "                'seoul-1988', 'barcelona-1992', 'atlanta-1996', 'sydney-2000', 'athens-2004',\n",
        "                'beijing-2008', 'london-2012', 'rio-2016', 'tokyo-2020']\n",
        "data_summer = data_cleaned.filter(col(\"slug_game\").isin(summer_games))"
      ],
      "metadata": {
        "id": "Bp_ze9Fb5zCN"
      },
      "execution_count": null,
      "outputs": []
    },
    {
      "cell_type": "code",
      "source": [
        "# Filtrer les données pour ne garder que celles de la France\n",
        "data_france = data_summer.filter(col(\"country_name\") == \"France\")"
      ],
      "metadata": {
        "id": "Amgk5nBp5z3B"
      },
      "execution_count": null,
      "outputs": []
    },
    {
      "cell_type": "code",
      "source": [
        "# Supprimer les doublons en conservant une seule ligne pour chaque combinaison d'événement et de médaille\n",
        "data_france = data_france.dropDuplicates([\"discipline_title\", \"slug_game\", \"event_title\", \"medal_type\", \"country_name\"])"
      ],
      "metadata": {
        "id": "ZIIGOnfC90WV"
      },
      "execution_count": null,
      "outputs": []
    },
    {
      "cell_type": "code",
      "source": [
        "data_france.count()"
      ],
      "metadata": {
        "colab": {
          "base_uri": "https://localhost:8080/"
        },
        "id": "opz6M9iw97Hy",
        "outputId": "70e801a8-dfe1-431d-9efc-0666f7eabb5f"
      },
      "execution_count": null,
      "outputs": [
        {
          "output_type": "execute_result",
          "data": {
            "text/plain": [
              "743"
            ]
          },
          "metadata": {},
          "execution_count": 8
        }
      ]
    },
    {
      "cell_type": "code",
      "source": [
        "# Définir les colonnes catégorielles\n",
        "categorical_columns = ['discipline_title', 'event_title', 'event_gender', 'medal_type', 'participant_type']\n"
      ],
      "metadata": {
        "id": "t6tfdo6Q93_A"
      },
      "execution_count": null,
      "outputs": []
    },
    {
      "cell_type": "code",
      "source": [
        "# Encodage des variables catégorielles\n",
        "indexers = [StringIndexer(inputCol=column, outputCol=column+\"_index\").fit(data_france) for column in categorical_columns]\n",
        "pipeline = Pipeline(stages=indexers)\n",
        "data_france = pipeline.fit(data_france).transform(data_france)"
      ],
      "metadata": {
        "id": "FtwrraSg96G1"
      },
      "execution_count": null,
      "outputs": []
    },
    {
      "cell_type": "code",
      "source": [
        "# Extraire l'année du slug_game\n",
        "data_france = data_france.withColumn(\"year\", expr(\"split(slug_game, '-')[1]\").cast(\"int\"))\n"
      ],
      "metadata": {
        "id": "E3sKYHvU-us1"
      },
      "execution_count": null,
      "outputs": []
    },
    {
      "cell_type": "code",
      "source": [
        "# Grouper les données par année et compter le nombre de médailles d'or, d'argent et de bronze\n",
        "medal_counts = data_france.groupBy(\"year\").pivot(\"medal_type\").count().fillna(0)\n"
      ],
      "metadata": {
        "id": "4IzfS_FH-wW4"
      },
      "execution_count": null,
      "outputs": []
    },
    {
      "cell_type": "code",
      "source": [
        "# Assemblage des caractéristiques\n",
        "assembler = VectorAssembler(inputCols=[\"year\"], outputCol=\"features\")\n",
        "medal_counts = assembler.transform(medal_counts)\n"
      ],
      "metadata": {
        "id": "s3w_vTN1-yMA"
      },
      "execution_count": null,
      "outputs": []
    },
    {
      "cell_type": "code",
      "source": [
        "# Séparation des données en ensembles d'entraînement et de test\n",
        "train_data, test_data = medal_counts.randomSplit([0.8, 0.2], seed=42)\n"
      ],
      "metadata": {
        "id": "C8Xu9AIP-zn7"
      },
      "execution_count": null,
      "outputs": []
    },
    {
      "cell_type": "code",
      "source": [
        "# Convertir les données de Spark DataFrame en Pandas DataFrame pour utilisation avec XGBoost\n",
        "def convert_to_pandas(df):\n",
        "    return df.toPandas()"
      ],
      "metadata": {
        "id": "8iPFujKAO1j9"
      },
      "execution_count": null,
      "outputs": []
    },
    {
      "cell_type": "code",
      "source": [
        "train_data_pd = convert_to_pandas(train_data)\n",
        "test_data_pd = convert_to_pandas(test_data)"
      ],
      "metadata": {
        "id": "w_U3JkkDPNcQ"
      },
      "execution_count": null,
      "outputs": []
    },
    {
      "cell_type": "code",
      "source": [
        "X_train = train_data_pd[['year']]\n",
        "y_train_gold = train_data_pd['GOLD']\n",
        "y_train_silver = train_data_pd['SILVER']\n",
        "y_train_bronze = train_data_pd['BRONZE']\n",
        "\n",
        "X_test = test_data_pd[['year']]\n",
        "y_test_gold = test_data_pd['GOLD']\n",
        "y_test_silver = test_data_pd['SILVER']\n",
        "y_test_bronze = test_data_pd['BRONZE']"
      ],
      "metadata": {
        "id": "V6ozvQdVPRf3"
      },
      "execution_count": null,
      "outputs": []
    },
    {
      "cell_type": "markdown",
      "source": [
        "#Utilisation d'un Modèle GradientBoostingRegressor (ML)"
      ],
      "metadata": {
        "id": "i0BN-e54Kq2g"
      }
    },
    {
      "cell_type": "code",
      "source": [
        "# Entraîner un modèle GradientBoostingRegressor pour chaque type de médaille\n",
        "def train_gb_model(X_train, y_train, X_test, y_test):\n",
        "    model = GradientBoostingRegressor(n_estimators=100, random_state=42)\n",
        "    model.fit(X_train, y_train)\n",
        "    y_pred = model.predict(X_test)\n",
        "    rmse = mean_squared_error(y_test, y_pred, squared=False)  # RMSE\n",
        "    return model, rmse, y_pred\n",
        "\n",
        "gb_model_gold, rmse_gold_gb, y_pred_gold_gb = train_gb_model(X_train, y_train_gold, X_test, y_test_gold)\n",
        "gb_model_silver, rmse_silver_gb, y_pred_silver_gb = train_gb_model(X_train, y_train_silver, X_test, y_test_silver)\n",
        "gb_model_bronze, rmse_bronze_gb, y_pred_bronze_gb = train_gb_model(X_train, y_train_bronze, X_test, y_test_bronze)\n"
      ],
      "metadata": {
        "id": "6o-81PbASjNL"
      },
      "execution_count": null,
      "outputs": []
    },
    {
      "cell_type": "code",
      "source": [
        "# Afficher les RMSE\n",
        "print(\"RMSE Gold (GradientBoosting):\", rmse_gold_gb)\n",
        "print(\"RMSE Silver (GradientBoosting):\", rmse_silver_gb)\n",
        "print(\"RMSE Bronze (GradientBoosting):\", rmse_bronze_gb)"
      ],
      "metadata": {
        "colab": {
          "base_uri": "https://localhost:8080/"
        },
        "id": "vVvyvfmcSkwX",
        "outputId": "3e263795-643b-4d51-efed-0563a8273c93"
      },
      "execution_count": null,
      "outputs": [
        {
          "output_type": "stream",
          "name": "stdout",
          "text": [
            "RMSE Gold (GradientBoosting): 9.32318464705542\n",
            "RMSE Silver (GradientBoosting): 13.7418430230988\n",
            "RMSE Bronze (GradientBoosting): 13.703412651594357\n"
          ]
        }
      ]
    },
    {
      "cell_type": "code",
      "source": [
        "# Prédiction pour l'année 2024\n",
        "year_2024 = pd.DataFrame({'year': [2024]})\n",
        "gold_2024_gb = gb_model_gold.predict(year_2024)\n",
        "silver_2024_gb = gb_model_silver.predict(year_2024)\n",
        "bronze_2024_gb = gb_model_bronze.predict(year_2024)"
      ],
      "metadata": {
        "id": "awIE_p07Sv3h"
      },
      "execution_count": null,
      "outputs": []
    },
    {
      "cell_type": "code",
      "source": [
        "print(\"Predicted Gold medals for 2024 (GradientBoosting):\", gold_2024_gb[0])\n",
        "print(\"Predicted Silver medals for 2024 (GradientBoosting):\", silver_2024_gb[0])\n",
        "print(\"Predicted Bronze medals for 2024 (GradientBoosting):\", bronze_2024_gb[0])\n"
      ],
      "metadata": {
        "colab": {
          "base_uri": "https://localhost:8080/"
        },
        "id": "D0pL58DhSx5F",
        "outputId": "a8f609e9-aabc-4151-94b5-747a3a56d95f"
      },
      "execution_count": null,
      "outputs": [
        {
          "output_type": "stream",
          "name": "stdout",
          "text": [
            "Predicted Gold medals for 2024 (GradientBoosting): 9.971317884891565\n",
            "Predicted Silver medals for 2024 (GradientBoosting): 12.050284239477959\n",
            "Predicted Bronze medals for 2024 (GradientBoosting): 11.156022775939611\n"
          ]
        }
      ]
    },
    {
      "cell_type": "markdown",
      "source": [
        "# Utilisation d'un Modèle XGBoost (ML)"
      ],
      "metadata": {
        "id": "sTaOq1dhKxGJ"
      }
    },
    {
      "cell_type": "code",
      "source": [
        "# Entraîner un modèle XGBoost pour chaque type de médaille\n",
        "def train_xgb_model(X_train, y_train, X_test, y_test):\n",
        "    model = xgb.XGBRegressor(objective='reg:squarederror', n_estimators=100, seed=42)\n",
        "    model.fit(X_train, y_train)\n",
        "    y_pred = model.predict(X_test)\n",
        "    rmse = mean_squared_error(y_test, y_pred, squared=False)  # RMSE\n",
        "    return model, rmse, y_pred\n"
      ],
      "metadata": {
        "id": "rvRjdKszP8B6"
      },
      "execution_count": null,
      "outputs": []
    },
    {
      "cell_type": "code",
      "source": [
        "xgb_model_gold, rmse_gold_xgb, y_pred_gold_xgb = train_xgb_model(X_train, y_train_gold, X_test, y_test_gold)\n",
        "xgb_model_silver, rmse_silver_xgb, y_pred_silver_xgb = train_xgb_model(X_train, y_train_silver, X_test, y_test_silver)\n",
        "xgb_model_bronze, rmse_bronze_xgb, y_pred_bronze_xgb = train_xgb_model(X_train, y_train_bronze, X_test, y_test_bronze)\n"
      ],
      "metadata": {
        "id": "cVAizOyiP9dR"
      },
      "execution_count": null,
      "outputs": []
    },
    {
      "cell_type": "code",
      "source": [
        "# Afficher les RMSE\n",
        "print(\"RMSE Gold (XGBoost):\", rmse_gold_xgb)\n",
        "print(\"RMSE Silver (XGBoost):\", rmse_silver_xgb)\n",
        "print(\"RMSE Bronze (XGBoost):\", rmse_bronze_xgb)\n"
      ],
      "metadata": {
        "colab": {
          "base_uri": "https://localhost:8080/"
        },
        "id": "Fg_wB6gpP-1w",
        "outputId": "56191966-4c80-4ba0-b918-c9d62c6c8ce7"
      },
      "execution_count": null,
      "outputs": [
        {
          "output_type": "stream",
          "name": "stdout",
          "text": [
            "RMSE Gold (XGBoost): 9.34497849248678\n",
            "RMSE Silver (XGBoost): 13.776987423273503\n",
            "RMSE Bronze (XGBoost): 13.891400410032416\n"
          ]
        }
      ]
    },
    {
      "cell_type": "code",
      "source": [
        "# Prédiction pour l'année 2024\n",
        "gold_2024_xgb = xgb_model_gold.predict(year_2024)\n",
        "silver_2024_xgb = xgb_model_silver.predict(year_2024)\n",
        "bronze_2024_xgb = xgb_model_bronze.predict(year_2024)\n",
        "\n",
        "print(\"Predicted Gold medals for 2024 (XGBoost):\", gold_2024_xgb[0])\n",
        "print(\"Predicted Silver medals for 2024 (XGBoost):\", silver_2024_xgb[0])\n",
        "print(\"Predicted Bronze medals for 2024 (XGBoost):\", bronze_2024_xgb[0])"
      ],
      "metadata": {
        "colab": {
          "base_uri": "https://localhost:8080/"
        },
        "id": "1jM4HtiAQDKX",
        "outputId": "06e54e0e-9c18-4f0d-e2cd-59726f0746df"
      },
      "execution_count": null,
      "outputs": [
        {
          "output_type": "stream",
          "name": "stdout",
          "text": [
            "Predicted Gold medals for 2024 (XGBoost): 9.999706\n",
            "Predicted Silver medals for 2024 (XGBoost): 12.00045\n",
            "Predicted Bronze medals for 2024 (XGBoost): 11.001321\n"
          ]
        }
      ]
    },
    {
      "cell_type": "markdown",
      "source": [
        "# Utilisation d'un Modèle MLP (DL)"
      ],
      "metadata": {
        "id": "DTJnN9YtUcfV"
      }
    },
    {
      "cell_type": "code",
      "source": [
        "# Entraîner un modèle MLP pour chaque type de médaille\n",
        "def train_mlp_model(X_train, y_train, X_test, y_test):\n",
        "    model = Sequential()\n",
        "    model.add(Dense(64, activation='relu', input_dim=X_train.shape[1]))\n",
        "    model.add(Dense(32, activation='relu'))\n",
        "    model.add(Dense(1))  # Sortie unique pour la régression\n",
        "\n",
        "    model.compile(optimizer='adam', loss='mse')\n",
        "    model.fit(X_train, y_train, epochs=100, batch_size=10, verbose=0, validation_data=(X_test, y_test))\n",
        "\n",
        "    y_pred = model.predict(X_test)\n",
        "    rmse = mean_squared_error(y_test, y_pred, squared=False)  # RMSE\n",
        "    return model, rmse, y_pred\n"
      ],
      "metadata": {
        "id": "GoadryUmUym6"
      },
      "execution_count": null,
      "outputs": []
    },
    {
      "cell_type": "code",
      "source": [
        "# Entraîner des modèles MLP pour chaque type de médaille\n",
        "mlp_model_gold, rmse_gold_mlp, y_pred_gold_mlp = train_mlp_model(X_train, y_train_gold, X_test, y_test_gold)\n",
        "mlp_model_silver, rmse_silver_mlp, y_pred_silver_mlp = train_mlp_model(X_train, y_train_silver, X_test, y_test_silver)\n",
        "mlp_model_bronze, rmse_bronze_mlp, y_pred_bronze_mlp = train_mlp_model(X_train, y_train_bronze, X_test, y_test_bronze)"
      ],
      "metadata": {
        "colab": {
          "base_uri": "https://localhost:8080/"
        },
        "id": "5X5Ay-WVU8r_",
        "outputId": "a2cc6a94-d3e0-429e-d189-8fb245b79a5f"
      },
      "execution_count": null,
      "outputs": [
        {
          "output_type": "stream",
          "name": "stdout",
          "text": [
            "1/1 [==============================] - 0s 109ms/step\n",
            "1/1 [==============================] - 0s 59ms/step\n",
            "1/1 [==============================] - 0s 101ms/step\n"
          ]
        }
      ]
    },
    {
      "cell_type": "code",
      "source": [
        "print(\"RMSE Gold (MLP):\", rmse_gold_mlp)\n",
        "print(\"RMSE Silver (MLP):\", rmse_silver_mlp)\n",
        "print(\"RMSE Bronze (MLP):\", rmse_bronze_mlp)"
      ],
      "metadata": {
        "colab": {
          "base_uri": "https://localhost:8080/"
        },
        "id": "wJFzZCspU-95",
        "outputId": "c6ccf14e-d8f4-453e-aebd-303e8e27d113"
      },
      "execution_count": null,
      "outputs": [
        {
          "output_type": "stream",
          "name": "stdout",
          "text": [
            "RMSE Gold (MLP): 9.389268147996132\n",
            "RMSE Silver (MLP): 13.768175635748076\n",
            "RMSE Bronze (MLP): 11.43463498621207\n"
          ]
        }
      ]
    },
    {
      "cell_type": "code",
      "source": [
        "gold_2024_mlp = mlp_model_gold.predict(year_2024)\n",
        "silver_2024_mlp = mlp_model_silver.predict(year_2024)\n",
        "bronze_2024_mlp = mlp_model_bronze.predict(year_2024)\n",
        "\n",
        "print(\"Predicted Gold medals for 2024 (MLP):\", gold_2024_mlp[0][0])\n",
        "print(\"Predicted Silver medals for 2024 (MLP):\", silver_2024_mlp[0][0])\n",
        "print(\"Predicted Bronze medals for 2024 (MLP):\", bronze_2024_mlp[0][0])"
      ],
      "metadata": {
        "colab": {
          "base_uri": "https://localhost:8080/"
        },
        "id": "1vzt39y9VBBH",
        "outputId": "e35b3b35-cacf-45f1-9438-1bd3d46511b3"
      },
      "execution_count": null,
      "outputs": [
        {
          "output_type": "stream",
          "name": "stdout",
          "text": [
            "1/1 [==============================] - 0s 89ms/step\n"
          ]
        },
        {
          "output_type": "stream",
          "name": "stderr",
          "text": [
            "WARNING:tensorflow:5 out of the last 5 calls to <function Model.make_predict_function.<locals>.predict_function at 0x797142548550> triggered tf.function retracing. Tracing is expensive and the excessive number of tracings could be due to (1) creating @tf.function repeatedly in a loop, (2) passing tensors with different shapes, (3) passing Python objects instead of tensors. For (1), please define your @tf.function outside of the loop. For (2), @tf.function has reduce_retracing=True option that can avoid unnecessary retracing. For (3), please refer to https://www.tensorflow.org/guide/function#controlling_retracing and https://www.tensorflow.org/api_docs/python/tf/function for  more details.\n"
          ]
        },
        {
          "output_type": "stream",
          "name": "stdout",
          "text": [
            "1/1 [==============================] - 0s 95ms/step\n"
          ]
        },
        {
          "output_type": "stream",
          "name": "stderr",
          "text": [
            "WARNING:tensorflow:6 out of the last 6 calls to <function Model.make_predict_function.<locals>.predict_function at 0x797142549510> triggered tf.function retracing. Tracing is expensive and the excessive number of tracings could be due to (1) creating @tf.function repeatedly in a loop, (2) passing tensors with different shapes, (3) passing Python objects instead of tensors. For (1), please define your @tf.function outside of the loop. For (2), @tf.function has reduce_retracing=True option that can avoid unnecessary retracing. For (3), please refer to https://www.tensorflow.org/guide/function#controlling_retracing and https://www.tensorflow.org/api_docs/python/tf/function for  more details.\n"
          ]
        },
        {
          "output_type": "stream",
          "name": "stdout",
          "text": [
            "1/1 [==============================] - 0s 107ms/step\n",
            "Predicted Gold medals for 2024 (MLP): 7.064378\n",
            "Predicted Silver medals for 2024 (MLP): 4.7729344\n",
            "Predicted Bronze medals for 2024 (MLP): 8.8581915\n"
          ]
        }
      ]
    },
    {
      "cell_type": "markdown",
      "source": [
        "# Utilisation d'un modèle LSTM"
      ],
      "metadata": {
        "id": "Vni-uZyzj6Xc"
      }
    },
    {
      "cell_type": "code",
      "source": [
        "# Charger le fichier Excel\n",
        "file_path = 'sample_data/olympic_medals.xlsx'\n",
        "data = pd.read_excel(file_path)\n",
        "\n",
        "# Afficher les premières lignes du fichier pour avoir un aperçu\n",
        "data.head()\n"
      ],
      "metadata": {
        "colab": {
          "base_uri": "https://localhost:8080/",
          "height": 206
        },
        "id": "8M_NK_W73Stn",
        "outputId": "142f5077-60fb-4aef-be22-44da18c8dfbd"
      },
      "execution_count": 70,
      "outputs": [
        {
          "output_type": "execute_result",
          "data": {
            "text/plain": [
              "   Unnamed: 0 discipline_title     slug_game    event_title event_gender  \\\n",
              "0           0          Curling  beijing-2022  Mixed Doubles        Mixed   \n",
              "1           1          Curling  beijing-2022  Mixed Doubles        Mixed   \n",
              "2           2          Curling  beijing-2022  Mixed Doubles        Mixed   \n",
              "3           3          Curling  beijing-2022  Mixed Doubles        Mixed   \n",
              "4           4          Curling  beijing-2022  Mixed Doubles        Mixed   \n",
              "\n",
              "  medal_type participant_type participant_title  \\\n",
              "0       GOLD         GameTeam             Italy   \n",
              "1       GOLD         GameTeam             Italy   \n",
              "2     SILVER         GameTeam            Norway   \n",
              "3     SILVER         GameTeam            Norway   \n",
              "4     BRONZE         GameTeam            Sweden   \n",
              "\n",
              "                                         athlete_url     athlete_full_name  \\\n",
              "0  https://olympics.com/en/athletes/stefania-cons...  Stefania CONSTANTINI   \n",
              "1      https://olympics.com/en/athletes/amos-mosaner          Amos MOSANER   \n",
              "2  https://olympics.com/en/athletes/kristin-skaslien      Kristin SKASLIEN   \n",
              "3  https://olympics.com/en/athletes/magnus-nedreg...    Magnus NEDREGOTTEN   \n",
              "4     https://olympics.com/en/athletes/almida-de-val         Almida DE VAL   \n",
              "\n",
              "  country_name country_code country_3_letter_code  \n",
              "0        Italy           IT                   ITA  \n",
              "1        Italy           IT                   ITA  \n",
              "2       Norway           NO                   NOR  \n",
              "3       Norway           NO                   NOR  \n",
              "4       Sweden           SE                   SWE  "
            ],
            "text/html": [
              "\n",
              "  <div id=\"df-9a472b25-fdf6-4f8f-b919-5121f29398f2\" class=\"colab-df-container\">\n",
              "    <div>\n",
              "<style scoped>\n",
              "    .dataframe tbody tr th:only-of-type {\n",
              "        vertical-align: middle;\n",
              "    }\n",
              "\n",
              "    .dataframe tbody tr th {\n",
              "        vertical-align: top;\n",
              "    }\n",
              "\n",
              "    .dataframe thead th {\n",
              "        text-align: right;\n",
              "    }\n",
              "</style>\n",
              "<table border=\"1\" class=\"dataframe\">\n",
              "  <thead>\n",
              "    <tr style=\"text-align: right;\">\n",
              "      <th></th>\n",
              "      <th>Unnamed: 0</th>\n",
              "      <th>discipline_title</th>\n",
              "      <th>slug_game</th>\n",
              "      <th>event_title</th>\n",
              "      <th>event_gender</th>\n",
              "      <th>medal_type</th>\n",
              "      <th>participant_type</th>\n",
              "      <th>participant_title</th>\n",
              "      <th>athlete_url</th>\n",
              "      <th>athlete_full_name</th>\n",
              "      <th>country_name</th>\n",
              "      <th>country_code</th>\n",
              "      <th>country_3_letter_code</th>\n",
              "    </tr>\n",
              "  </thead>\n",
              "  <tbody>\n",
              "    <tr>\n",
              "      <th>0</th>\n",
              "      <td>0</td>\n",
              "      <td>Curling</td>\n",
              "      <td>beijing-2022</td>\n",
              "      <td>Mixed Doubles</td>\n",
              "      <td>Mixed</td>\n",
              "      <td>GOLD</td>\n",
              "      <td>GameTeam</td>\n",
              "      <td>Italy</td>\n",
              "      <td>https://olympics.com/en/athletes/stefania-cons...</td>\n",
              "      <td>Stefania CONSTANTINI</td>\n",
              "      <td>Italy</td>\n",
              "      <td>IT</td>\n",
              "      <td>ITA</td>\n",
              "    </tr>\n",
              "    <tr>\n",
              "      <th>1</th>\n",
              "      <td>1</td>\n",
              "      <td>Curling</td>\n",
              "      <td>beijing-2022</td>\n",
              "      <td>Mixed Doubles</td>\n",
              "      <td>Mixed</td>\n",
              "      <td>GOLD</td>\n",
              "      <td>GameTeam</td>\n",
              "      <td>Italy</td>\n",
              "      <td>https://olympics.com/en/athletes/amos-mosaner</td>\n",
              "      <td>Amos MOSANER</td>\n",
              "      <td>Italy</td>\n",
              "      <td>IT</td>\n",
              "      <td>ITA</td>\n",
              "    </tr>\n",
              "    <tr>\n",
              "      <th>2</th>\n",
              "      <td>2</td>\n",
              "      <td>Curling</td>\n",
              "      <td>beijing-2022</td>\n",
              "      <td>Mixed Doubles</td>\n",
              "      <td>Mixed</td>\n",
              "      <td>SILVER</td>\n",
              "      <td>GameTeam</td>\n",
              "      <td>Norway</td>\n",
              "      <td>https://olympics.com/en/athletes/kristin-skaslien</td>\n",
              "      <td>Kristin SKASLIEN</td>\n",
              "      <td>Norway</td>\n",
              "      <td>NO</td>\n",
              "      <td>NOR</td>\n",
              "    </tr>\n",
              "    <tr>\n",
              "      <th>3</th>\n",
              "      <td>3</td>\n",
              "      <td>Curling</td>\n",
              "      <td>beijing-2022</td>\n",
              "      <td>Mixed Doubles</td>\n",
              "      <td>Mixed</td>\n",
              "      <td>SILVER</td>\n",
              "      <td>GameTeam</td>\n",
              "      <td>Norway</td>\n",
              "      <td>https://olympics.com/en/athletes/magnus-nedreg...</td>\n",
              "      <td>Magnus NEDREGOTTEN</td>\n",
              "      <td>Norway</td>\n",
              "      <td>NO</td>\n",
              "      <td>NOR</td>\n",
              "    </tr>\n",
              "    <tr>\n",
              "      <th>4</th>\n",
              "      <td>4</td>\n",
              "      <td>Curling</td>\n",
              "      <td>beijing-2022</td>\n",
              "      <td>Mixed Doubles</td>\n",
              "      <td>Mixed</td>\n",
              "      <td>BRONZE</td>\n",
              "      <td>GameTeam</td>\n",
              "      <td>Sweden</td>\n",
              "      <td>https://olympics.com/en/athletes/almida-de-val</td>\n",
              "      <td>Almida DE VAL</td>\n",
              "      <td>Sweden</td>\n",
              "      <td>SE</td>\n",
              "      <td>SWE</td>\n",
              "    </tr>\n",
              "  </tbody>\n",
              "</table>\n",
              "</div>\n",
              "    <div class=\"colab-df-buttons\">\n",
              "\n",
              "  <div class=\"colab-df-container\">\n",
              "    <button class=\"colab-df-convert\" onclick=\"convertToInteractive('df-9a472b25-fdf6-4f8f-b919-5121f29398f2')\"\n",
              "            title=\"Convert this dataframe to an interactive table.\"\n",
              "            style=\"display:none;\">\n",
              "\n",
              "  <svg xmlns=\"http://www.w3.org/2000/svg\" height=\"24px\" viewBox=\"0 -960 960 960\">\n",
              "    <path d=\"M120-120v-720h720v720H120Zm60-500h600v-160H180v160Zm220 220h160v-160H400v160Zm0 220h160v-160H400v160ZM180-400h160v-160H180v160Zm440 0h160v-160H620v160ZM180-180h160v-160H180v160Zm440 0h160v-160H620v160Z\"/>\n",
              "  </svg>\n",
              "    </button>\n",
              "\n",
              "  <style>\n",
              "    .colab-df-container {\n",
              "      display:flex;\n",
              "      gap: 12px;\n",
              "    }\n",
              "\n",
              "    .colab-df-convert {\n",
              "      background-color: #E8F0FE;\n",
              "      border: none;\n",
              "      border-radius: 50%;\n",
              "      cursor: pointer;\n",
              "      display: none;\n",
              "      fill: #1967D2;\n",
              "      height: 32px;\n",
              "      padding: 0 0 0 0;\n",
              "      width: 32px;\n",
              "    }\n",
              "\n",
              "    .colab-df-convert:hover {\n",
              "      background-color: #E2EBFA;\n",
              "      box-shadow: 0px 1px 2px rgba(60, 64, 67, 0.3), 0px 1px 3px 1px rgba(60, 64, 67, 0.15);\n",
              "      fill: #174EA6;\n",
              "    }\n",
              "\n",
              "    .colab-df-buttons div {\n",
              "      margin-bottom: 4px;\n",
              "    }\n",
              "\n",
              "    [theme=dark] .colab-df-convert {\n",
              "      background-color: #3B4455;\n",
              "      fill: #D2E3FC;\n",
              "    }\n",
              "\n",
              "    [theme=dark] .colab-df-convert:hover {\n",
              "      background-color: #434B5C;\n",
              "      box-shadow: 0px 1px 3px 1px rgba(0, 0, 0, 0.15);\n",
              "      filter: drop-shadow(0px 1px 2px rgba(0, 0, 0, 0.3));\n",
              "      fill: #FFFFFF;\n",
              "    }\n",
              "  </style>\n",
              "\n",
              "    <script>\n",
              "      const buttonEl =\n",
              "        document.querySelector('#df-9a472b25-fdf6-4f8f-b919-5121f29398f2 button.colab-df-convert');\n",
              "      buttonEl.style.display =\n",
              "        google.colab.kernel.accessAllowed ? 'block' : 'none';\n",
              "\n",
              "      async function convertToInteractive(key) {\n",
              "        const element = document.querySelector('#df-9a472b25-fdf6-4f8f-b919-5121f29398f2');\n",
              "        const dataTable =\n",
              "          await google.colab.kernel.invokeFunction('convertToInteractive',\n",
              "                                                    [key], {});\n",
              "        if (!dataTable) return;\n",
              "\n",
              "        const docLinkHtml = 'Like what you see? Visit the ' +\n",
              "          '<a target=\"_blank\" href=https://colab.research.google.com/notebooks/data_table.ipynb>data table notebook</a>'\n",
              "          + ' to learn more about interactive tables.';\n",
              "        element.innerHTML = '';\n",
              "        dataTable['output_type'] = 'display_data';\n",
              "        await google.colab.output.renderOutput(dataTable, element);\n",
              "        const docLink = document.createElement('div');\n",
              "        docLink.innerHTML = docLinkHtml;\n",
              "        element.appendChild(docLink);\n",
              "      }\n",
              "    </script>\n",
              "  </div>\n",
              "\n",
              "\n",
              "<div id=\"df-a856b61c-317d-46e8-a25d-e848d57c2ad2\">\n",
              "  <button class=\"colab-df-quickchart\" onclick=\"quickchart('df-a856b61c-317d-46e8-a25d-e848d57c2ad2')\"\n",
              "            title=\"Suggest charts\"\n",
              "            style=\"display:none;\">\n",
              "\n",
              "<svg xmlns=\"http://www.w3.org/2000/svg\" height=\"24px\"viewBox=\"0 0 24 24\"\n",
              "     width=\"24px\">\n",
              "    <g>\n",
              "        <path d=\"M19 3H5c-1.1 0-2 .9-2 2v14c0 1.1.9 2 2 2h14c1.1 0 2-.9 2-2V5c0-1.1-.9-2-2-2zM9 17H7v-7h2v7zm4 0h-2V7h2v10zm4 0h-2v-4h2v4z\"/>\n",
              "    </g>\n",
              "</svg>\n",
              "  </button>\n",
              "\n",
              "<style>\n",
              "  .colab-df-quickchart {\n",
              "      --bg-color: #E8F0FE;\n",
              "      --fill-color: #1967D2;\n",
              "      --hover-bg-color: #E2EBFA;\n",
              "      --hover-fill-color: #174EA6;\n",
              "      --disabled-fill-color: #AAA;\n",
              "      --disabled-bg-color: #DDD;\n",
              "  }\n",
              "\n",
              "  [theme=dark] .colab-df-quickchart {\n",
              "      --bg-color: #3B4455;\n",
              "      --fill-color: #D2E3FC;\n",
              "      --hover-bg-color: #434B5C;\n",
              "      --hover-fill-color: #FFFFFF;\n",
              "      --disabled-bg-color: #3B4455;\n",
              "      --disabled-fill-color: #666;\n",
              "  }\n",
              "\n",
              "  .colab-df-quickchart {\n",
              "    background-color: var(--bg-color);\n",
              "    border: none;\n",
              "    border-radius: 50%;\n",
              "    cursor: pointer;\n",
              "    display: none;\n",
              "    fill: var(--fill-color);\n",
              "    height: 32px;\n",
              "    padding: 0;\n",
              "    width: 32px;\n",
              "  }\n",
              "\n",
              "  .colab-df-quickchart:hover {\n",
              "    background-color: var(--hover-bg-color);\n",
              "    box-shadow: 0 1px 2px rgba(60, 64, 67, 0.3), 0 1px 3px 1px rgba(60, 64, 67, 0.15);\n",
              "    fill: var(--button-hover-fill-color);\n",
              "  }\n",
              "\n",
              "  .colab-df-quickchart-complete:disabled,\n",
              "  .colab-df-quickchart-complete:disabled:hover {\n",
              "    background-color: var(--disabled-bg-color);\n",
              "    fill: var(--disabled-fill-color);\n",
              "    box-shadow: none;\n",
              "  }\n",
              "\n",
              "  .colab-df-spinner {\n",
              "    border: 2px solid var(--fill-color);\n",
              "    border-color: transparent;\n",
              "    border-bottom-color: var(--fill-color);\n",
              "    animation:\n",
              "      spin 1s steps(1) infinite;\n",
              "  }\n",
              "\n",
              "  @keyframes spin {\n",
              "    0% {\n",
              "      border-color: transparent;\n",
              "      border-bottom-color: var(--fill-color);\n",
              "      border-left-color: var(--fill-color);\n",
              "    }\n",
              "    20% {\n",
              "      border-color: transparent;\n",
              "      border-left-color: var(--fill-color);\n",
              "      border-top-color: var(--fill-color);\n",
              "    }\n",
              "    30% {\n",
              "      border-color: transparent;\n",
              "      border-left-color: var(--fill-color);\n",
              "      border-top-color: var(--fill-color);\n",
              "      border-right-color: var(--fill-color);\n",
              "    }\n",
              "    40% {\n",
              "      border-color: transparent;\n",
              "      border-right-color: var(--fill-color);\n",
              "      border-top-color: var(--fill-color);\n",
              "    }\n",
              "    60% {\n",
              "      border-color: transparent;\n",
              "      border-right-color: var(--fill-color);\n",
              "    }\n",
              "    80% {\n",
              "      border-color: transparent;\n",
              "      border-right-color: var(--fill-color);\n",
              "      border-bottom-color: var(--fill-color);\n",
              "    }\n",
              "    90% {\n",
              "      border-color: transparent;\n",
              "      border-bottom-color: var(--fill-color);\n",
              "    }\n",
              "  }\n",
              "</style>\n",
              "\n",
              "  <script>\n",
              "    async function quickchart(key) {\n",
              "      const quickchartButtonEl =\n",
              "        document.querySelector('#' + key + ' button');\n",
              "      quickchartButtonEl.disabled = true;  // To prevent multiple clicks.\n",
              "      quickchartButtonEl.classList.add('colab-df-spinner');\n",
              "      try {\n",
              "        const charts = await google.colab.kernel.invokeFunction(\n",
              "            'suggestCharts', [key], {});\n",
              "      } catch (error) {\n",
              "        console.error('Error during call to suggestCharts:', error);\n",
              "      }\n",
              "      quickchartButtonEl.classList.remove('colab-df-spinner');\n",
              "      quickchartButtonEl.classList.add('colab-df-quickchart-complete');\n",
              "    }\n",
              "    (() => {\n",
              "      let quickchartButtonEl =\n",
              "        document.querySelector('#df-a856b61c-317d-46e8-a25d-e848d57c2ad2 button');\n",
              "      quickchartButtonEl.style.display =\n",
              "        google.colab.kernel.accessAllowed ? 'block' : 'none';\n",
              "    })();\n",
              "  </script>\n",
              "</div>\n",
              "    </div>\n",
              "  </div>\n"
            ],
            "application/vnd.google.colaboratory.intrinsic+json": {
              "type": "dataframe",
              "variable_name": "data",
              "summary": "{\n  \"name\": \"data\",\n  \"rows\": 21697,\n  \"fields\": [\n    {\n      \"column\": \"Unnamed: 0\",\n      \"properties\": {\n        \"dtype\": \"number\",\n        \"std\": 6263,\n        \"min\": 0,\n        \"max\": 21696,\n        \"num_unique_values\": 21697,\n        \"samples\": [\n          2408,\n          3045,\n          812\n        ],\n        \"semantic_type\": \"\",\n        \"description\": \"\"\n      }\n    },\n    {\n      \"column\": \"discipline_title\",\n      \"properties\": {\n        \"dtype\": \"category\",\n        \"num_unique_values\": 86,\n        \"samples\": [\n          \"Military Patrol\",\n          \"Curling\",\n          \"Equestrian Dressage\"\n        ],\n        \"semantic_type\": \"\",\n        \"description\": \"\"\n      }\n    },\n    {\n      \"column\": \"slug_game\",\n      \"properties\": {\n        \"dtype\": \"category\",\n        \"num_unique_values\": 53,\n        \"samples\": [\n          \"los-angeles-1984\",\n          \"los-angeles-1932\",\n          \"antwerp-1920\"\n        ],\n        \"semantic_type\": \"\",\n        \"description\": \"\"\n      }\n    },\n    {\n      \"column\": \"event_title\",\n      \"properties\": {\n        \"dtype\": \"category\",\n        \"num_unique_values\": 1436,\n        \"samples\": [\n          \"eight with coxswain 8 men\",\n          \"4x6km relay women\",\n          \"60 - 64 kg men\"\n        ],\n        \"semantic_type\": \"\",\n        \"description\": \"\"\n      }\n    },\n    {\n      \"column\": \"event_gender\",\n      \"properties\": {\n        \"dtype\": \"category\",\n        \"num_unique_values\": 4,\n        \"samples\": [\n          \"Women\",\n          \"Open\",\n          \"Mixed\"\n        ],\n        \"semantic_type\": \"\",\n        \"description\": \"\"\n      }\n    },\n    {\n      \"column\": \"medal_type\",\n      \"properties\": {\n        \"dtype\": \"category\",\n        \"num_unique_values\": 3,\n        \"samples\": [\n          \"GOLD\",\n          \"SILVER\",\n          \"BRONZE\"\n        ],\n        \"semantic_type\": \"\",\n        \"description\": \"\"\n      }\n    },\n    {\n      \"column\": \"participant_type\",\n      \"properties\": {\n        \"dtype\": \"category\",\n        \"num_unique_values\": 2,\n        \"samples\": [\n          \"Athlete\",\n          \"GameTeam\"\n        ],\n        \"semantic_type\": \"\",\n        \"description\": \"\"\n      }\n    },\n    {\n      \"column\": \"participant_title\",\n      \"properties\": {\n        \"dtype\": \"category\",\n        \"num_unique_values\": 493,\n        \"samples\": [\n          \"Olle\",\n          \"Bencic / Golubic\"\n        ],\n        \"semantic_type\": \"\",\n        \"description\": \"\"\n      }\n    },\n    {\n      \"column\": \"athlete_url\",\n      \"properties\": {\n        \"dtype\": \"string\",\n        \"num_unique_values\": 12116,\n        \"samples\": [\n          \"https://olympics.com/en/athletes/katja-seizinger\",\n          \"https://olympics.com/en/athletes/christina-brehmer-lathan\"\n        ],\n        \"semantic_type\": \"\",\n        \"description\": \"\"\n      }\n    },\n    {\n      \"column\": \"athlete_full_name\",\n      \"properties\": {\n        \"dtype\": \"string\",\n        \"num_unique_values\": 12895,\n        \"samples\": [\n          \"Jean-Luc CRETIER\",\n          \"Krisztian BARTFAI\"\n        ],\n        \"semantic_type\": \"\",\n        \"description\": \"\"\n      }\n    },\n    {\n      \"column\": \"country_name\",\n      \"properties\": {\n        \"dtype\": \"category\",\n        \"num_unique_values\": 154,\n        \"samples\": [\n          \"Belarus\",\n          \"Liechtenstein\"\n        ],\n        \"semantic_type\": \"\",\n        \"description\": \"\"\n      }\n    },\n    {\n      \"column\": \"country_code\",\n      \"properties\": {\n        \"dtype\": \"category\",\n        \"num_unique_values\": 143,\n        \"samples\": [\n          \"ER\",\n          \"KR\"\n        ],\n        \"semantic_type\": \"\",\n        \"description\": \"\"\n      }\n    },\n    {\n      \"column\": \"country_3_letter_code\",\n      \"properties\": {\n        \"dtype\": \"category\",\n        \"num_unique_values\": 154,\n        \"samples\": [\n          \"BLR\",\n          \"LIE\"\n        ],\n        \"semantic_type\": \"\",\n        \"description\": \"\"\n      }\n    }\n  ]\n}"
            }
          },
          "metadata": {},
          "execution_count": 70
        }
      ]
    },
    {
      "cell_type": "code",
      "source": [
        "data = data.drop(columns=['participant_title'])"
      ],
      "metadata": {
        "id": "Ifn2Qpd63hc3"
      },
      "execution_count": 71,
      "outputs": []
    },
    {
      "cell_type": "code",
      "source": [
        "# Sélectionner les données pertinentes pour les médailles\n",
        "data['year'] = data['slug_game'].str.extract(r'(\\d{4})').astype(int)\n",
        "\n",
        "# Créer un pivot table avec les années en ligne, les pays en colonnes et les médailles en valeurs\n",
        "pivot_table = data.pivot_table(index='year', columns=['country_name', 'medal_type'], aggfunc='size', fill_value=0)\n",
        "\n",
        "# Réorganiser le tableau pour avoir les médailles d'or, d'argent et de bronze pour chaque pays\n",
        "pivot_table = pivot_table.reindex(columns=pd.MultiIndex.from_product([data['country_name'].unique(), ['Gold', 'Silver', 'Bronze']]), fill_value=0)\n",
        "\n",
        "pivot_table.head()\n",
        "\n"
      ],
      "metadata": {
        "colab": {
          "base_uri": "https://localhost:8080/",
          "height": 298
        },
        "id": "tl3ySvAj3lSB",
        "outputId": "9d70b7f5-89de-4118-8822-78c1f2309802"
      },
      "execution_count": 88,
      "outputs": [
        {
          "output_type": "execute_result",
          "data": {
            "text/plain": [
              "     Italy               Norway               Sweden                \\\n",
              "      Gold Silver Bronze   Gold Silver Bronze   Gold Silver Bronze   \n",
              "year                                                                 \n",
              "1896     0      0      0      0      0      0      0      0      0   \n",
              "1900     0      0      0      0      0      0      0      0      0   \n",
              "1904     0      0      0      0      0      0      0      0      0   \n",
              "1908     0      0      0      0      0      0      0      0      0   \n",
              "1912     0      0      0      0      0      0      0      0      0   \n",
              "\n",
              "     Great Britain  ...  Haiti Australasia               Bohemia         \\\n",
              "              Gold  ... Bronze        Gold Silver Bronze    Gold Silver   \n",
              "year                ...                                                   \n",
              "1896             0  ...      0           0      0      0       0      0   \n",
              "1900             0  ...      0           0      0      0       0      0   \n",
              "1904             0  ...      0           0      0      0       0      0   \n",
              "1908             0  ...      0           0      0      0       0      0   \n",
              "1912             0  ...      0           0      0      0       0      0   \n",
              "\n",
              "             MIX                \n",
              "     Bronze Gold Silver Bronze  \n",
              "year                            \n",
              "1896      0    0      0      0  \n",
              "1900      0    0      0      0  \n",
              "1904      0    0      0      0  \n",
              "1908      0    0      0      0  \n",
              "1912      0    0      0      0  \n",
              "\n",
              "[5 rows x 462 columns]"
            ],
            "text/html": [
              "\n",
              "  <div id=\"df-d720071f-b33d-46a8-afcc-1148426dbe56\" class=\"colab-df-container\">\n",
              "    <div>\n",
              "<style scoped>\n",
              "    .dataframe tbody tr th:only-of-type {\n",
              "        vertical-align: middle;\n",
              "    }\n",
              "\n",
              "    .dataframe tbody tr th {\n",
              "        vertical-align: top;\n",
              "    }\n",
              "\n",
              "    .dataframe thead tr th {\n",
              "        text-align: left;\n",
              "    }\n",
              "\n",
              "    .dataframe thead tr:last-of-type th {\n",
              "        text-align: right;\n",
              "    }\n",
              "</style>\n",
              "<table border=\"1\" class=\"dataframe\">\n",
              "  <thead>\n",
              "    <tr>\n",
              "      <th></th>\n",
              "      <th colspan=\"3\" halign=\"left\">Italy</th>\n",
              "      <th colspan=\"3\" halign=\"left\">Norway</th>\n",
              "      <th colspan=\"3\" halign=\"left\">Sweden</th>\n",
              "      <th>Great Britain</th>\n",
              "      <th>...</th>\n",
              "      <th>Haiti</th>\n",
              "      <th colspan=\"3\" halign=\"left\">Australasia</th>\n",
              "      <th colspan=\"3\" halign=\"left\">Bohemia</th>\n",
              "      <th colspan=\"3\" halign=\"left\">MIX</th>\n",
              "    </tr>\n",
              "    <tr>\n",
              "      <th></th>\n",
              "      <th>Gold</th>\n",
              "      <th>Silver</th>\n",
              "      <th>Bronze</th>\n",
              "      <th>Gold</th>\n",
              "      <th>Silver</th>\n",
              "      <th>Bronze</th>\n",
              "      <th>Gold</th>\n",
              "      <th>Silver</th>\n",
              "      <th>Bronze</th>\n",
              "      <th>Gold</th>\n",
              "      <th>...</th>\n",
              "      <th>Bronze</th>\n",
              "      <th>Gold</th>\n",
              "      <th>Silver</th>\n",
              "      <th>Bronze</th>\n",
              "      <th>Gold</th>\n",
              "      <th>Silver</th>\n",
              "      <th>Bronze</th>\n",
              "      <th>Gold</th>\n",
              "      <th>Silver</th>\n",
              "      <th>Bronze</th>\n",
              "    </tr>\n",
              "    <tr>\n",
              "      <th>year</th>\n",
              "      <th></th>\n",
              "      <th></th>\n",
              "      <th></th>\n",
              "      <th></th>\n",
              "      <th></th>\n",
              "      <th></th>\n",
              "      <th></th>\n",
              "      <th></th>\n",
              "      <th></th>\n",
              "      <th></th>\n",
              "      <th></th>\n",
              "      <th></th>\n",
              "      <th></th>\n",
              "      <th></th>\n",
              "      <th></th>\n",
              "      <th></th>\n",
              "      <th></th>\n",
              "      <th></th>\n",
              "      <th></th>\n",
              "      <th></th>\n",
              "      <th></th>\n",
              "    </tr>\n",
              "  </thead>\n",
              "  <tbody>\n",
              "    <tr>\n",
              "      <th>1896</th>\n",
              "      <td>0</td>\n",
              "      <td>0</td>\n",
              "      <td>0</td>\n",
              "      <td>0</td>\n",
              "      <td>0</td>\n",
              "      <td>0</td>\n",
              "      <td>0</td>\n",
              "      <td>0</td>\n",
              "      <td>0</td>\n",
              "      <td>0</td>\n",
              "      <td>...</td>\n",
              "      <td>0</td>\n",
              "      <td>0</td>\n",
              "      <td>0</td>\n",
              "      <td>0</td>\n",
              "      <td>0</td>\n",
              "      <td>0</td>\n",
              "      <td>0</td>\n",
              "      <td>0</td>\n",
              "      <td>0</td>\n",
              "      <td>0</td>\n",
              "    </tr>\n",
              "    <tr>\n",
              "      <th>1900</th>\n",
              "      <td>0</td>\n",
              "      <td>0</td>\n",
              "      <td>0</td>\n",
              "      <td>0</td>\n",
              "      <td>0</td>\n",
              "      <td>0</td>\n",
              "      <td>0</td>\n",
              "      <td>0</td>\n",
              "      <td>0</td>\n",
              "      <td>0</td>\n",
              "      <td>...</td>\n",
              "      <td>0</td>\n",
              "      <td>0</td>\n",
              "      <td>0</td>\n",
              "      <td>0</td>\n",
              "      <td>0</td>\n",
              "      <td>0</td>\n",
              "      <td>0</td>\n",
              "      <td>0</td>\n",
              "      <td>0</td>\n",
              "      <td>0</td>\n",
              "    </tr>\n",
              "    <tr>\n",
              "      <th>1904</th>\n",
              "      <td>0</td>\n",
              "      <td>0</td>\n",
              "      <td>0</td>\n",
              "      <td>0</td>\n",
              "      <td>0</td>\n",
              "      <td>0</td>\n",
              "      <td>0</td>\n",
              "      <td>0</td>\n",
              "      <td>0</td>\n",
              "      <td>0</td>\n",
              "      <td>...</td>\n",
              "      <td>0</td>\n",
              "      <td>0</td>\n",
              "      <td>0</td>\n",
              "      <td>0</td>\n",
              "      <td>0</td>\n",
              "      <td>0</td>\n",
              "      <td>0</td>\n",
              "      <td>0</td>\n",
              "      <td>0</td>\n",
              "      <td>0</td>\n",
              "    </tr>\n",
              "    <tr>\n",
              "      <th>1908</th>\n",
              "      <td>0</td>\n",
              "      <td>0</td>\n",
              "      <td>0</td>\n",
              "      <td>0</td>\n",
              "      <td>0</td>\n",
              "      <td>0</td>\n",
              "      <td>0</td>\n",
              "      <td>0</td>\n",
              "      <td>0</td>\n",
              "      <td>0</td>\n",
              "      <td>...</td>\n",
              "      <td>0</td>\n",
              "      <td>0</td>\n",
              "      <td>0</td>\n",
              "      <td>0</td>\n",
              "      <td>0</td>\n",
              "      <td>0</td>\n",
              "      <td>0</td>\n",
              "      <td>0</td>\n",
              "      <td>0</td>\n",
              "      <td>0</td>\n",
              "    </tr>\n",
              "    <tr>\n",
              "      <th>1912</th>\n",
              "      <td>0</td>\n",
              "      <td>0</td>\n",
              "      <td>0</td>\n",
              "      <td>0</td>\n",
              "      <td>0</td>\n",
              "      <td>0</td>\n",
              "      <td>0</td>\n",
              "      <td>0</td>\n",
              "      <td>0</td>\n",
              "      <td>0</td>\n",
              "      <td>...</td>\n",
              "      <td>0</td>\n",
              "      <td>0</td>\n",
              "      <td>0</td>\n",
              "      <td>0</td>\n",
              "      <td>0</td>\n",
              "      <td>0</td>\n",
              "      <td>0</td>\n",
              "      <td>0</td>\n",
              "      <td>0</td>\n",
              "      <td>0</td>\n",
              "    </tr>\n",
              "  </tbody>\n",
              "</table>\n",
              "<p>5 rows × 462 columns</p>\n",
              "</div>\n",
              "    <div class=\"colab-df-buttons\">\n",
              "\n",
              "  <div class=\"colab-df-container\">\n",
              "    <button class=\"colab-df-convert\" onclick=\"convertToInteractive('df-d720071f-b33d-46a8-afcc-1148426dbe56')\"\n",
              "            title=\"Convert this dataframe to an interactive table.\"\n",
              "            style=\"display:none;\">\n",
              "\n",
              "  <svg xmlns=\"http://www.w3.org/2000/svg\" height=\"24px\" viewBox=\"0 -960 960 960\">\n",
              "    <path d=\"M120-120v-720h720v720H120Zm60-500h600v-160H180v160Zm220 220h160v-160H400v160Zm0 220h160v-160H400v160ZM180-400h160v-160H180v160Zm440 0h160v-160H620v160ZM180-180h160v-160H180v160Zm440 0h160v-160H620v160Z\"/>\n",
              "  </svg>\n",
              "    </button>\n",
              "\n",
              "  <style>\n",
              "    .colab-df-container {\n",
              "      display:flex;\n",
              "      gap: 12px;\n",
              "    }\n",
              "\n",
              "    .colab-df-convert {\n",
              "      background-color: #E8F0FE;\n",
              "      border: none;\n",
              "      border-radius: 50%;\n",
              "      cursor: pointer;\n",
              "      display: none;\n",
              "      fill: #1967D2;\n",
              "      height: 32px;\n",
              "      padding: 0 0 0 0;\n",
              "      width: 32px;\n",
              "    }\n",
              "\n",
              "    .colab-df-convert:hover {\n",
              "      background-color: #E2EBFA;\n",
              "      box-shadow: 0px 1px 2px rgba(60, 64, 67, 0.3), 0px 1px 3px 1px rgba(60, 64, 67, 0.15);\n",
              "      fill: #174EA6;\n",
              "    }\n",
              "\n",
              "    .colab-df-buttons div {\n",
              "      margin-bottom: 4px;\n",
              "    }\n",
              "\n",
              "    [theme=dark] .colab-df-convert {\n",
              "      background-color: #3B4455;\n",
              "      fill: #D2E3FC;\n",
              "    }\n",
              "\n",
              "    [theme=dark] .colab-df-convert:hover {\n",
              "      background-color: #434B5C;\n",
              "      box-shadow: 0px 1px 3px 1px rgba(0, 0, 0, 0.15);\n",
              "      filter: drop-shadow(0px 1px 2px rgba(0, 0, 0, 0.3));\n",
              "      fill: #FFFFFF;\n",
              "    }\n",
              "  </style>\n",
              "\n",
              "    <script>\n",
              "      const buttonEl =\n",
              "        document.querySelector('#df-d720071f-b33d-46a8-afcc-1148426dbe56 button.colab-df-convert');\n",
              "      buttonEl.style.display =\n",
              "        google.colab.kernel.accessAllowed ? 'block' : 'none';\n",
              "\n",
              "      async function convertToInteractive(key) {\n",
              "        const element = document.querySelector('#df-d720071f-b33d-46a8-afcc-1148426dbe56');\n",
              "        const dataTable =\n",
              "          await google.colab.kernel.invokeFunction('convertToInteractive',\n",
              "                                                    [key], {});\n",
              "        if (!dataTable) return;\n",
              "\n",
              "        const docLinkHtml = 'Like what you see? Visit the ' +\n",
              "          '<a target=\"_blank\" href=https://colab.research.google.com/notebooks/data_table.ipynb>data table notebook</a>'\n",
              "          + ' to learn more about interactive tables.';\n",
              "        element.innerHTML = '';\n",
              "        dataTable['output_type'] = 'display_data';\n",
              "        await google.colab.output.renderOutput(dataTable, element);\n",
              "        const docLink = document.createElement('div');\n",
              "        docLink.innerHTML = docLinkHtml;\n",
              "        element.appendChild(docLink);\n",
              "      }\n",
              "    </script>\n",
              "  </div>\n",
              "\n",
              "\n",
              "<div id=\"df-3e27e574-679d-4115-9926-00dd6875acc7\">\n",
              "  <button class=\"colab-df-quickchart\" onclick=\"quickchart('df-3e27e574-679d-4115-9926-00dd6875acc7')\"\n",
              "            title=\"Suggest charts\"\n",
              "            style=\"display:none;\">\n",
              "\n",
              "<svg xmlns=\"http://www.w3.org/2000/svg\" height=\"24px\"viewBox=\"0 0 24 24\"\n",
              "     width=\"24px\">\n",
              "    <g>\n",
              "        <path d=\"M19 3H5c-1.1 0-2 .9-2 2v14c0 1.1.9 2 2 2h14c1.1 0 2-.9 2-2V5c0-1.1-.9-2-2-2zM9 17H7v-7h2v7zm4 0h-2V7h2v10zm4 0h-2v-4h2v4z\"/>\n",
              "    </g>\n",
              "</svg>\n",
              "  </button>\n",
              "\n",
              "<style>\n",
              "  .colab-df-quickchart {\n",
              "      --bg-color: #E8F0FE;\n",
              "      --fill-color: #1967D2;\n",
              "      --hover-bg-color: #E2EBFA;\n",
              "      --hover-fill-color: #174EA6;\n",
              "      --disabled-fill-color: #AAA;\n",
              "      --disabled-bg-color: #DDD;\n",
              "  }\n",
              "\n",
              "  [theme=dark] .colab-df-quickchart {\n",
              "      --bg-color: #3B4455;\n",
              "      --fill-color: #D2E3FC;\n",
              "      --hover-bg-color: #434B5C;\n",
              "      --hover-fill-color: #FFFFFF;\n",
              "      --disabled-bg-color: #3B4455;\n",
              "      --disabled-fill-color: #666;\n",
              "  }\n",
              "\n",
              "  .colab-df-quickchart {\n",
              "    background-color: var(--bg-color);\n",
              "    border: none;\n",
              "    border-radius: 50%;\n",
              "    cursor: pointer;\n",
              "    display: none;\n",
              "    fill: var(--fill-color);\n",
              "    height: 32px;\n",
              "    padding: 0;\n",
              "    width: 32px;\n",
              "  }\n",
              "\n",
              "  .colab-df-quickchart:hover {\n",
              "    background-color: var(--hover-bg-color);\n",
              "    box-shadow: 0 1px 2px rgba(60, 64, 67, 0.3), 0 1px 3px 1px rgba(60, 64, 67, 0.15);\n",
              "    fill: var(--button-hover-fill-color);\n",
              "  }\n",
              "\n",
              "  .colab-df-quickchart-complete:disabled,\n",
              "  .colab-df-quickchart-complete:disabled:hover {\n",
              "    background-color: var(--disabled-bg-color);\n",
              "    fill: var(--disabled-fill-color);\n",
              "    box-shadow: none;\n",
              "  }\n",
              "\n",
              "  .colab-df-spinner {\n",
              "    border: 2px solid var(--fill-color);\n",
              "    border-color: transparent;\n",
              "    border-bottom-color: var(--fill-color);\n",
              "    animation:\n",
              "      spin 1s steps(1) infinite;\n",
              "  }\n",
              "\n",
              "  @keyframes spin {\n",
              "    0% {\n",
              "      border-color: transparent;\n",
              "      border-bottom-color: var(--fill-color);\n",
              "      border-left-color: var(--fill-color);\n",
              "    }\n",
              "    20% {\n",
              "      border-color: transparent;\n",
              "      border-left-color: var(--fill-color);\n",
              "      border-top-color: var(--fill-color);\n",
              "    }\n",
              "    30% {\n",
              "      border-color: transparent;\n",
              "      border-left-color: var(--fill-color);\n",
              "      border-top-color: var(--fill-color);\n",
              "      border-right-color: var(--fill-color);\n",
              "    }\n",
              "    40% {\n",
              "      border-color: transparent;\n",
              "      border-right-color: var(--fill-color);\n",
              "      border-top-color: var(--fill-color);\n",
              "    }\n",
              "    60% {\n",
              "      border-color: transparent;\n",
              "      border-right-color: var(--fill-color);\n",
              "    }\n",
              "    80% {\n",
              "      border-color: transparent;\n",
              "      border-right-color: var(--fill-color);\n",
              "      border-bottom-color: var(--fill-color);\n",
              "    }\n",
              "    90% {\n",
              "      border-color: transparent;\n",
              "      border-bottom-color: var(--fill-color);\n",
              "    }\n",
              "  }\n",
              "</style>\n",
              "\n",
              "  <script>\n",
              "    async function quickchart(key) {\n",
              "      const quickchartButtonEl =\n",
              "        document.querySelector('#' + key + ' button');\n",
              "      quickchartButtonEl.disabled = true;  // To prevent multiple clicks.\n",
              "      quickchartButtonEl.classList.add('colab-df-spinner');\n",
              "      try {\n",
              "        const charts = await google.colab.kernel.invokeFunction(\n",
              "            'suggestCharts', [key], {});\n",
              "      } catch (error) {\n",
              "        console.error('Error during call to suggestCharts:', error);\n",
              "      }\n",
              "      quickchartButtonEl.classList.remove('colab-df-spinner');\n",
              "      quickchartButtonEl.classList.add('colab-df-quickchart-complete');\n",
              "    }\n",
              "    (() => {\n",
              "      let quickchartButtonEl =\n",
              "        document.querySelector('#df-3e27e574-679d-4115-9926-00dd6875acc7 button');\n",
              "      quickchartButtonEl.style.display =\n",
              "        google.colab.kernel.accessAllowed ? 'block' : 'none';\n",
              "    })();\n",
              "  </script>\n",
              "</div>\n",
              "    </div>\n",
              "  </div>\n"
            ],
            "application/vnd.google.colaboratory.intrinsic+json": {
              "type": "dataframe",
              "variable_name": "pivot_table"
            }
          },
          "metadata": {},
          "execution_count": 88
        }
      ]
    },
    {
      "cell_type": "code",
      "source": [
        "from sklearn.preprocessing import MinMaxScaler\n",
        "import numpy as np\n",
        "\n",
        "# Normaliser les données\n",
        "scaler = MinMaxScaler()\n",
        "normalized_data = scaler.fit_transform(pivot_table)\n",
        "\n",
        "# Convertir les données normalisées en DataFrame pour une manipulation plus facile\n",
        "normalized_df = pd.DataFrame(normalized_data, index=pivot_table.index, columns=pivot_table.columns)\n",
        "\n",
        "# Fonction pour créer des séquences de données\n",
        "def create_sequences(data, window_size):\n",
        "    sequences = []\n",
        "    targets = []\n",
        "    for i in range(len(data) - window_size):\n",
        "        seq = data[i:i + window_size]\n",
        "        target = data[i + window_size]\n",
        "        sequences.append(seq)\n",
        "        targets.append(target)\n",
        "    return np.array(sequences), np.array(targets)\n",
        "\n",
        "# Définir la taille de la fenêtre temporelle\n",
        "window_size = 5\n",
        "\n",
        "# Créer les séquences\n",
        "sequences, targets = create_sequences(normalized_df.values, window_size)\n",
        "\n",
        "# Diviser les données en ensembles d'entraînement et de test\n",
        "from sklearn.model_selection import train_test_split\n",
        "\n",
        "X_train, X_test, y_train, y_test = train_test_split(sequences, targets, test_size=0.2, random_state=42)\n",
        "\n",
        "import tensorflow as tf\n",
        "from tensorflow.keras.models import Sequential\n",
        "from tensorflow.keras.layers import LSTM, Dense\n",
        "\n",
        "# Construire le modèle LSTM\n",
        "model = Sequential()\n",
        "model.add(LSTM(50, activation='relu', input_shape=(window_size, len(pivot_table.columns))))\n",
        "model.add(Dense(len(pivot_table.columns)))\n",
        "model.compile(optimizer='adam', loss='mse')\n",
        "\n",
        "# Entraîner le modèle\n",
        "history = model.fit(X_train, y_train, epochs=100, validation_split=0.2, verbose=1)\n",
        "\n",
        "# Afficher le résumé du modèle\n",
        "model.summary()\n"
      ],
      "metadata": {
        "colab": {
          "base_uri": "https://localhost:8080/"
        },
        "id": "wrSE7GX63xU1",
        "outputId": "0dd20fb6-4ffc-4800-cf27-2573242ac04f"
      },
      "execution_count": 89,
      "outputs": [
        {
          "output_type": "stream",
          "name": "stdout",
          "text": [
            "Epoch 1/100\n",
            "1/1 [==============================] - 2s 2s/step - loss: 0.0000e+00 - val_loss: 0.0000e+00\n",
            "Epoch 2/100\n",
            "1/1 [==============================] - 0s 99ms/step - loss: 0.0000e+00 - val_loss: 0.0000e+00\n",
            "Epoch 3/100\n",
            "1/1 [==============================] - 0s 136ms/step - loss: 0.0000e+00 - val_loss: 0.0000e+00\n",
            "Epoch 4/100\n",
            "1/1 [==============================] - 0s 83ms/step - loss: 0.0000e+00 - val_loss: 0.0000e+00\n",
            "Epoch 5/100\n",
            "1/1 [==============================] - 0s 81ms/step - loss: 0.0000e+00 - val_loss: 0.0000e+00\n",
            "Epoch 6/100\n",
            "1/1 [==============================] - 0s 184ms/step - loss: 0.0000e+00 - val_loss: 0.0000e+00\n",
            "Epoch 7/100\n",
            "1/1 [==============================] - 0s 143ms/step - loss: 0.0000e+00 - val_loss: 0.0000e+00\n",
            "Epoch 8/100\n",
            "1/1 [==============================] - 0s 128ms/step - loss: 0.0000e+00 - val_loss: 0.0000e+00\n",
            "Epoch 9/100\n",
            "1/1 [==============================] - 0s 119ms/step - loss: 0.0000e+00 - val_loss: 0.0000e+00\n",
            "Epoch 10/100\n",
            "1/1 [==============================] - 0s 78ms/step - loss: 0.0000e+00 - val_loss: 0.0000e+00\n",
            "Epoch 11/100\n",
            "1/1 [==============================] - 0s 83ms/step - loss: 0.0000e+00 - val_loss: 0.0000e+00\n",
            "Epoch 12/100\n",
            "1/1 [==============================] - 0s 104ms/step - loss: 0.0000e+00 - val_loss: 0.0000e+00\n",
            "Epoch 13/100\n",
            "1/1 [==============================] - 0s 127ms/step - loss: 0.0000e+00 - val_loss: 0.0000e+00\n",
            "Epoch 14/100\n",
            "1/1 [==============================] - 0s 95ms/step - loss: 0.0000e+00 - val_loss: 0.0000e+00\n",
            "Epoch 15/100\n",
            "1/1 [==============================] - 0s 99ms/step - loss: 0.0000e+00 - val_loss: 0.0000e+00\n",
            "Epoch 16/100\n",
            "1/1 [==============================] - 0s 191ms/step - loss: 0.0000e+00 - val_loss: 0.0000e+00\n",
            "Epoch 17/100\n",
            "1/1 [==============================] - 0s 129ms/step - loss: 0.0000e+00 - val_loss: 0.0000e+00\n",
            "Epoch 18/100\n",
            "1/1 [==============================] - 0s 169ms/step - loss: 0.0000e+00 - val_loss: 0.0000e+00\n",
            "Epoch 19/100\n",
            "1/1 [==============================] - 0s 154ms/step - loss: 0.0000e+00 - val_loss: 0.0000e+00\n",
            "Epoch 20/100\n",
            "1/1 [==============================] - 0s 173ms/step - loss: 0.0000e+00 - val_loss: 0.0000e+00\n",
            "Epoch 21/100\n",
            "1/1 [==============================] - 0s 152ms/step - loss: 0.0000e+00 - val_loss: 0.0000e+00\n",
            "Epoch 22/100\n",
            "1/1 [==============================] - 0s 152ms/step - loss: 0.0000e+00 - val_loss: 0.0000e+00\n",
            "Epoch 23/100\n",
            "1/1 [==============================] - 0s 57ms/step - loss: 0.0000e+00 - val_loss: 0.0000e+00\n",
            "Epoch 24/100\n",
            "1/1 [==============================] - 0s 44ms/step - loss: 0.0000e+00 - val_loss: 0.0000e+00\n",
            "Epoch 25/100\n",
            "1/1 [==============================] - 0s 50ms/step - loss: 0.0000e+00 - val_loss: 0.0000e+00\n",
            "Epoch 26/100\n",
            "1/1 [==============================] - 0s 43ms/step - loss: 0.0000e+00 - val_loss: 0.0000e+00\n",
            "Epoch 27/100\n",
            "1/1 [==============================] - 0s 43ms/step - loss: 0.0000e+00 - val_loss: 0.0000e+00\n",
            "Epoch 28/100\n",
            "1/1 [==============================] - 0s 43ms/step - loss: 0.0000e+00 - val_loss: 0.0000e+00\n",
            "Epoch 29/100\n",
            "1/1 [==============================] - 0s 45ms/step - loss: 0.0000e+00 - val_loss: 0.0000e+00\n",
            "Epoch 30/100\n",
            "1/1 [==============================] - 0s 45ms/step - loss: 0.0000e+00 - val_loss: 0.0000e+00\n",
            "Epoch 31/100\n",
            "1/1 [==============================] - 0s 45ms/step - loss: 0.0000e+00 - val_loss: 0.0000e+00\n",
            "Epoch 32/100\n",
            "1/1 [==============================] - 0s 43ms/step - loss: 0.0000e+00 - val_loss: 0.0000e+00\n",
            "Epoch 33/100\n",
            "1/1 [==============================] - 0s 45ms/step - loss: 0.0000e+00 - val_loss: 0.0000e+00\n",
            "Epoch 34/100\n",
            "1/1 [==============================] - 0s 42ms/step - loss: 0.0000e+00 - val_loss: 0.0000e+00\n",
            "Epoch 35/100\n",
            "1/1 [==============================] - 0s 44ms/step - loss: 0.0000e+00 - val_loss: 0.0000e+00\n",
            "Epoch 36/100\n",
            "1/1 [==============================] - 0s 43ms/step - loss: 0.0000e+00 - val_loss: 0.0000e+00\n",
            "Epoch 37/100\n",
            "1/1 [==============================] - 0s 45ms/step - loss: 0.0000e+00 - val_loss: 0.0000e+00\n",
            "Epoch 38/100\n",
            "1/1 [==============================] - 0s 41ms/step - loss: 0.0000e+00 - val_loss: 0.0000e+00\n",
            "Epoch 39/100\n",
            "1/1 [==============================] - 0s 43ms/step - loss: 0.0000e+00 - val_loss: 0.0000e+00\n",
            "Epoch 40/100\n",
            "1/1 [==============================] - 0s 59ms/step - loss: 0.0000e+00 - val_loss: 0.0000e+00\n",
            "Epoch 41/100\n",
            "1/1 [==============================] - 0s 43ms/step - loss: 0.0000e+00 - val_loss: 0.0000e+00\n",
            "Epoch 42/100\n",
            "1/1 [==============================] - 0s 42ms/step - loss: 0.0000e+00 - val_loss: 0.0000e+00\n",
            "Epoch 43/100\n",
            "1/1 [==============================] - 0s 55ms/step - loss: 0.0000e+00 - val_loss: 0.0000e+00\n",
            "Epoch 44/100\n",
            "1/1 [==============================] - 0s 46ms/step - loss: 0.0000e+00 - val_loss: 0.0000e+00\n",
            "Epoch 45/100\n",
            "1/1 [==============================] - 0s 44ms/step - loss: 0.0000e+00 - val_loss: 0.0000e+00\n",
            "Epoch 46/100\n",
            "1/1 [==============================] - 0s 53ms/step - loss: 0.0000e+00 - val_loss: 0.0000e+00\n",
            "Epoch 47/100\n",
            "1/1 [==============================] - 0s 45ms/step - loss: 0.0000e+00 - val_loss: 0.0000e+00\n",
            "Epoch 48/100\n",
            "1/1 [==============================] - 0s 44ms/step - loss: 0.0000e+00 - val_loss: 0.0000e+00\n",
            "Epoch 49/100\n",
            "1/1 [==============================] - 0s 44ms/step - loss: 0.0000e+00 - val_loss: 0.0000e+00\n",
            "Epoch 50/100\n",
            "1/1 [==============================] - 0s 42ms/step - loss: 0.0000e+00 - val_loss: 0.0000e+00\n",
            "Epoch 51/100\n",
            "1/1 [==============================] - 0s 45ms/step - loss: 0.0000e+00 - val_loss: 0.0000e+00\n",
            "Epoch 52/100\n",
            "1/1 [==============================] - 0s 41ms/step - loss: 0.0000e+00 - val_loss: 0.0000e+00\n",
            "Epoch 53/100\n",
            "1/1 [==============================] - 0s 43ms/step - loss: 0.0000e+00 - val_loss: 0.0000e+00\n",
            "Epoch 54/100\n",
            "1/1 [==============================] - 0s 49ms/step - loss: 0.0000e+00 - val_loss: 0.0000e+00\n",
            "Epoch 55/100\n",
            "1/1 [==============================] - 0s 53ms/step - loss: 0.0000e+00 - val_loss: 0.0000e+00\n",
            "Epoch 56/100\n",
            "1/1 [==============================] - 0s 41ms/step - loss: 0.0000e+00 - val_loss: 0.0000e+00\n",
            "Epoch 57/100\n",
            "1/1 [==============================] - 0s 42ms/step - loss: 0.0000e+00 - val_loss: 0.0000e+00\n",
            "Epoch 58/100\n",
            "1/1 [==============================] - 0s 44ms/step - loss: 0.0000e+00 - val_loss: 0.0000e+00\n",
            "Epoch 59/100\n",
            "1/1 [==============================] - 0s 45ms/step - loss: 0.0000e+00 - val_loss: 0.0000e+00\n",
            "Epoch 60/100\n",
            "1/1 [==============================] - 0s 45ms/step - loss: 0.0000e+00 - val_loss: 0.0000e+00\n",
            "Epoch 61/100\n",
            "1/1 [==============================] - 0s 42ms/step - loss: 0.0000e+00 - val_loss: 0.0000e+00\n",
            "Epoch 62/100\n",
            "1/1 [==============================] - 0s 45ms/step - loss: 0.0000e+00 - val_loss: 0.0000e+00\n",
            "Epoch 63/100\n",
            "1/1 [==============================] - 0s 42ms/step - loss: 0.0000e+00 - val_loss: 0.0000e+00\n",
            "Epoch 64/100\n",
            "1/1 [==============================] - 0s 60ms/step - loss: 0.0000e+00 - val_loss: 0.0000e+00\n",
            "Epoch 65/100\n",
            "1/1 [==============================] - 0s 43ms/step - loss: 0.0000e+00 - val_loss: 0.0000e+00\n",
            "Epoch 66/100\n",
            "1/1 [==============================] - 0s 44ms/step - loss: 0.0000e+00 - val_loss: 0.0000e+00\n",
            "Epoch 67/100\n",
            "1/1 [==============================] - 0s 45ms/step - loss: 0.0000e+00 - val_loss: 0.0000e+00\n",
            "Epoch 68/100\n",
            "1/1 [==============================] - 0s 48ms/step - loss: 0.0000e+00 - val_loss: 0.0000e+00\n",
            "Epoch 69/100\n",
            "1/1 [==============================] - 0s 48ms/step - loss: 0.0000e+00 - val_loss: 0.0000e+00\n",
            "Epoch 70/100\n",
            "1/1 [==============================] - 0s 45ms/step - loss: 0.0000e+00 - val_loss: 0.0000e+00\n",
            "Epoch 71/100\n",
            "1/1 [==============================] - 0s 45ms/step - loss: 0.0000e+00 - val_loss: 0.0000e+00\n",
            "Epoch 72/100\n",
            "1/1 [==============================] - 0s 44ms/step - loss: 0.0000e+00 - val_loss: 0.0000e+00\n",
            "Epoch 73/100\n",
            "1/1 [==============================] - 0s 44ms/step - loss: 0.0000e+00 - val_loss: 0.0000e+00\n",
            "Epoch 74/100\n",
            "1/1 [==============================] - 0s 52ms/step - loss: 0.0000e+00 - val_loss: 0.0000e+00\n",
            "Epoch 75/100\n",
            "1/1 [==============================] - 0s 42ms/step - loss: 0.0000e+00 - val_loss: 0.0000e+00\n",
            "Epoch 76/100\n",
            "1/1 [==============================] - 0s 42ms/step - loss: 0.0000e+00 - val_loss: 0.0000e+00\n",
            "Epoch 77/100\n",
            "1/1 [==============================] - 0s 42ms/step - loss: 0.0000e+00 - val_loss: 0.0000e+00\n",
            "Epoch 78/100\n",
            "1/1 [==============================] - 0s 67ms/step - loss: 0.0000e+00 - val_loss: 0.0000e+00\n",
            "Epoch 79/100\n",
            "1/1 [==============================] - 0s 76ms/step - loss: 0.0000e+00 - val_loss: 0.0000e+00\n",
            "Epoch 80/100\n",
            "1/1 [==============================] - 0s 62ms/step - loss: 0.0000e+00 - val_loss: 0.0000e+00\n",
            "Epoch 81/100\n",
            "1/1 [==============================] - 0s 60ms/step - loss: 0.0000e+00 - val_loss: 0.0000e+00\n",
            "Epoch 82/100\n",
            "1/1 [==============================] - 0s 73ms/step - loss: 0.0000e+00 - val_loss: 0.0000e+00\n",
            "Epoch 83/100\n",
            "1/1 [==============================] - 0s 90ms/step - loss: 0.0000e+00 - val_loss: 0.0000e+00\n",
            "Epoch 84/100\n",
            "1/1 [==============================] - 0s 85ms/step - loss: 0.0000e+00 - val_loss: 0.0000e+00\n",
            "Epoch 85/100\n",
            "1/1 [==============================] - 0s 82ms/step - loss: 0.0000e+00 - val_loss: 0.0000e+00\n",
            "Epoch 86/100\n",
            "1/1 [==============================] - 0s 61ms/step - loss: 0.0000e+00 - val_loss: 0.0000e+00\n",
            "Epoch 87/100\n",
            "1/1 [==============================] - 0s 57ms/step - loss: 0.0000e+00 - val_loss: 0.0000e+00\n",
            "Epoch 88/100\n",
            "1/1 [==============================] - 0s 56ms/step - loss: 0.0000e+00 - val_loss: 0.0000e+00\n",
            "Epoch 89/100\n",
            "1/1 [==============================] - 0s 67ms/step - loss: 0.0000e+00 - val_loss: 0.0000e+00\n",
            "Epoch 90/100\n",
            "1/1 [==============================] - 0s 58ms/step - loss: 0.0000e+00 - val_loss: 0.0000e+00\n",
            "Epoch 91/100\n",
            "1/1 [==============================] - 0s 74ms/step - loss: 0.0000e+00 - val_loss: 0.0000e+00\n",
            "Epoch 92/100\n",
            "1/1 [==============================] - 0s 55ms/step - loss: 0.0000e+00 - val_loss: 0.0000e+00\n",
            "Epoch 93/100\n",
            "1/1 [==============================] - 0s 59ms/step - loss: 0.0000e+00 - val_loss: 0.0000e+00\n",
            "Epoch 94/100\n",
            "1/1 [==============================] - 0s 72ms/step - loss: 0.0000e+00 - val_loss: 0.0000e+00\n",
            "Epoch 95/100\n",
            "1/1 [==============================] - 0s 79ms/step - loss: 0.0000e+00 - val_loss: 0.0000e+00\n",
            "Epoch 96/100\n",
            "1/1 [==============================] - 0s 72ms/step - loss: 0.0000e+00 - val_loss: 0.0000e+00\n",
            "Epoch 97/100\n",
            "1/1 [==============================] - 0s 79ms/step - loss: 0.0000e+00 - val_loss: 0.0000e+00\n",
            "Epoch 98/100\n",
            "1/1 [==============================] - 0s 61ms/step - loss: 0.0000e+00 - val_loss: 0.0000e+00\n",
            "Epoch 99/100\n",
            "1/1 [==============================] - 0s 58ms/step - loss: 0.0000e+00 - val_loss: 0.0000e+00\n",
            "Epoch 100/100\n",
            "1/1 [==============================] - 0s 56ms/step - loss: 0.0000e+00 - val_loss: 0.0000e+00\n",
            "Model: \"sequential_11\"\n",
            "_________________________________________________________________\n",
            " Layer (type)                Output Shape              Param #   \n",
            "=================================================================\n",
            " lstm_14 (LSTM)              (None, 50)                102600    \n",
            "                                                                 \n",
            " dense_17 (Dense)            (None, 462)               23562     \n",
            "                                                                 \n",
            "=================================================================\n",
            "Total params: 126162 (492.82 KB)\n",
            "Trainable params: 126162 (492.82 KB)\n",
            "Non-trainable params: 0 (0.00 Byte)\n",
            "_________________________________________________________________\n"
          ]
        }
      ]
    },
    {
      "cell_type": "code",
      "source": [
        "# Faire des prédictions\n",
        "predictions = model.predict(X_test)\n",
        "\n",
        "# Inverser la normalisation pour obtenir les valeurs originales\n",
        "predictions_original_scale = scaler.inverse_transform(predictions)\n",
        "\n",
        "# Calculer le nombre total de médailles prédites pour chaque pays\n",
        "predicted_medals = pd.DataFrame(predictions_original_scale, columns=pivot_table.columns)\n",
        "predicted_medals_total = predicted_medals.groupby(level=0, axis=1).sum()\n",
        "\n",
        "# Sélectionner les 25 meilleurs pays\n",
        "top_25_predicted_countries = predicted_medals_total.sum(axis=0).nlargest(25)\n",
        "\n",
        "top_25_predicted_countries\n"
      ],
      "metadata": {
        "colab": {
          "base_uri": "https://localhost:8080/"
        },
        "id": "fsDNYR6X321f",
        "outputId": "b0b0b29e-8e3b-4a69-9c88-e124aec1555d"
      },
      "execution_count": 90,
      "outputs": [
        {
          "output_type": "stream",
          "name": "stdout",
          "text": [
            "1/1 [==============================] - 0s 235ms/step\n"
          ]
        },
        {
          "output_type": "execute_result",
          "data": {
            "text/plain": [
              "Afghanistan       0.0\n",
              "Algeria           0.0\n",
              "Argentina         0.0\n",
              "Armenia           0.0\n",
              "Australasia       0.0\n",
              "Australia         0.0\n",
              "Austria           0.0\n",
              "Azerbaijan        0.0\n",
              "Bahamas           0.0\n",
              "Bahrain           0.0\n",
              "Barbados          0.0\n",
              "Belarus           0.0\n",
              "Belgium           0.0\n",
              "Bermuda           0.0\n",
              "Bohemia           0.0\n",
              "Botswana          0.0\n",
              "Brazil            0.0\n",
              "Bulgaria          0.0\n",
              "Burkina Faso      0.0\n",
              "Burundi           0.0\n",
              "Cameroon          0.0\n",
              "Canada            0.0\n",
              "Chile             0.0\n",
              "Chinese Taipei    0.0\n",
              "Colombia          0.0\n",
              "dtype: float32"
            ]
          },
          "metadata": {},
          "execution_count": 90
        }
      ]
    },
    {
      "cell_type": "code",
      "source": [
        "import pandas as pd\n",
        "import numpy as np\n",
        "from sklearn.preprocessing import MinMaxScaler\n",
        "import matplotlib.pyplot as plt\n",
        "from statsmodels.tsa.arima.model import ARIMA\n",
        "\n",
        "# Charger le fichier Excel\n",
        "file_path = 'sample_data/olympic_medals.xlsx'\n",
        "data = pd.read_excel(file_path)\n",
        "\n",
        "# Ajouter une colonne pour l'année\n",
        "data['year'] = data['slug_game'].str.extract(r'(\\d{4})').astype(int)\n",
        "\n",
        "# Créer un pivot table avec les années en ligne, les pays en colonnes et les médailles en valeurs\n",
        "pivot_table = data.pivot_table(index='year', columns=['country_name', 'medal_type'], aggfunc='size', fill_value=0)\n",
        "\n",
        "# Réorganiser le tableau pour avoir les médailles d'or, d'argent et de bronze pour chaque pays\n",
        "pivot_table = pivot_table.reindex(columns=pd.MultiIndex.from_product([data['country_name'].unique(), ['Gold', 'Silver', 'Bronze']]), fill_value=0)\n",
        "\n",
        "# Normaliser les données\n",
        "scaler = MinMaxScaler()\n",
        "normalized_data = scaler.fit_transform(pivot_table)\n",
        "\n",
        "# Convertir les données normalisées en DataFrame pour une manipulation plus facile\n",
        "normalized_df = pd.DataFrame(normalized_data, index=pivot_table.index, columns=pivot_table.columns)\n",
        "\n",
        "# Préparer les données pour l'entraînement ARIMA\n",
        "predictions = []\n",
        "\n",
        "for column in normalized_df:\n",
        "    series = normalized_df[column]\n",
        "    model = ARIMA(series, order=(5, 1, 0))\n",
        "    model_fit = model.fit()\n",
        "    forecast = model_fit.forecast(steps=1)\n",
        "    predictions.append(forecast[0])\n",
        "\n",
        "# Inverser la normalisation pour obtenir les valeurs originales\n",
        "predictions_original_scale = scaler.inverse_transform([predictions])[0]\n",
        "\n",
        "# Calculer le nombre total de médailles prédites pour chaque pays\n",
        "predicted_medals = pd.DataFrame([predictions_original_scale], columns=pivot_table.columns)\n",
        "predicted_medals_total = predicted_medals.groupby(axis=1, level=0).sum()\n",
        "\n",
        "# Sélectionner les 25 meilleurs pays\n",
        "top_25_predicted_countries = predicted_medals_total.sum(axis=0).nlargest(25).index\n",
        "\n",
        "# Extraire les données pour les médailles d'or, d'argent et de bronze\n",
        "gold_medals = predicted_medals_total[top_25_predicted_countries].loc[:, (slice(None), 'Gold')].sum()\n",
        "silver_medals = predicted_medals_total[top_25_predicted_countries].loc[:, (slice(None), 'Silver')].sum()\n",
        "bronze_medals = predicted_medals_total[top_25_predicted_countries].loc[:, (slice(None), 'Bronze')].sum()\n",
        "\n",
        "# Position des barres\n",
        "bar_width = 0.2\n",
        "r1 = range(len(gold_medals))\n",
        "r2 = [x + bar_width for x in r1]\n",
        "r3 = [x + bar_width for x in r2]\n",
        "\n",
        "# Création du graphique\n",
        "plt.figure(figsize=(14, 8))\n",
        "plt.bar(r1, gold_medals, color='gold', width=bar_width, edgecolor='grey', label='Gold')\n",
        "plt.bar(r2, silver_medals, color='silver', width=bar_width, edgecolor='grey', label='Silver')\n",
        "plt.bar(r3, bronze_medals, color='brown', width=bar_width, edgecolor='grey', label='Bronze')\n",
        "\n",
        "# Ajouter des labels et des titres\n",
        "plt.xlabel('Countries', fontweight='bold')\n",
        "plt.xticks([r + bar_width for r in range(len(gold_medals))], gold_medals.index, rotation=90)\n",
        "plt.ylabel('Number of Medals', fontweight='bold')\n",
        "plt.title('Predicted Number of Gold, Silver, and Bronze Medals for Top 25 Countries')\n",
        "plt.legend()\n",
        "\n",
        "# Afficher le graphique\n",
        "plt.tight_layout()\n",
        "plt.show()\n"
      ],
      "metadata": {
        "colab": {
          "base_uri": "https://localhost:8080/",
          "height": 617
        },
        "id": "i1WEWS6L35g9",
        "outputId": "730318e7-46a0-415e-c372-bbf673092502"
      },
      "execution_count": 93,
      "outputs": [
        {
          "output_type": "stream",
          "name": "stderr",
          "text": [
            "/usr/local/lib/python3.10/dist-packages/statsmodels/tsa/base/tsa_model.py:473: ValueWarning: An unsupported index was provided and will be ignored when e.g. forecasting.\n",
            "  self._init_dates(dates, freq)\n",
            "/usr/local/lib/python3.10/dist-packages/statsmodels/tsa/base/tsa_model.py:473: ValueWarning: An unsupported index was provided and will be ignored when e.g. forecasting.\n",
            "  self._init_dates(dates, freq)\n",
            "/usr/local/lib/python3.10/dist-packages/statsmodels/tsa/base/tsa_model.py:473: ValueWarning: An unsupported index was provided and will be ignored when e.g. forecasting.\n",
            "  self._init_dates(dates, freq)\n",
            "/usr/local/lib/python3.10/dist-packages/statsmodels/base/model.py:607: ConvergenceWarning: Maximum Likelihood optimization failed to converge. Check mle_retvals\n",
            "  warnings.warn(\"Maximum Likelihood optimization failed to \"\n",
            "/usr/local/lib/python3.10/dist-packages/statsmodels/tsa/base/tsa_model.py:836: ValueWarning: No supported index is available. Prediction results will be given with an integer index beginning at `start`.\n",
            "  return get_prediction_index(\n",
            "/usr/local/lib/python3.10/dist-packages/statsmodels/tsa/base/tsa_model.py:836: FutureWarning: No supported index is available. In the next version, calling this method in a model without a supported index will result in an exception.\n",
            "  return get_prediction_index(\n"
          ]
        },
        {
          "output_type": "error",
          "ename": "KeyError",
          "evalue": "0",
          "traceback": [
            "\u001b[0;31m---------------------------------------------------------------------------\u001b[0m",
            "\u001b[0;31mValueError\u001b[0m                                Traceback (most recent call last)",
            "\u001b[0;32m/usr/local/lib/python3.10/dist-packages/pandas/core/indexes/range.py\u001b[0m in \u001b[0;36mget_loc\u001b[0;34m(self, key)\u001b[0m\n\u001b[1;32m    344\u001b[0m             \u001b[0;32mtry\u001b[0m\u001b[0;34m:\u001b[0m\u001b[0;34m\u001b[0m\u001b[0;34m\u001b[0m\u001b[0m\n\u001b[0;32m--> 345\u001b[0;31m                 \u001b[0;32mreturn\u001b[0m \u001b[0mself\u001b[0m\u001b[0;34m.\u001b[0m\u001b[0m_range\u001b[0m\u001b[0;34m.\u001b[0m\u001b[0mindex\u001b[0m\u001b[0;34m(\u001b[0m\u001b[0mnew_key\u001b[0m\u001b[0;34m)\u001b[0m\u001b[0;34m\u001b[0m\u001b[0;34m\u001b[0m\u001b[0m\n\u001b[0m\u001b[1;32m    346\u001b[0m             \u001b[0;32mexcept\u001b[0m \u001b[0mValueError\u001b[0m \u001b[0;32mas\u001b[0m \u001b[0merr\u001b[0m\u001b[0;34m:\u001b[0m\u001b[0;34m\u001b[0m\u001b[0;34m\u001b[0m\u001b[0m\n",
            "\u001b[0;31mValueError\u001b[0m: 0 is not in range",
            "\nThe above exception was the direct cause of the following exception:\n",
            "\u001b[0;31mKeyError\u001b[0m                                  Traceback (most recent call last)",
            "\u001b[0;32m<ipython-input-93-1820370267bb>\u001b[0m in \u001b[0;36m<cell line: 30>\u001b[0;34m()\u001b[0m\n\u001b[1;32m     33\u001b[0m     \u001b[0mmodel_fit\u001b[0m \u001b[0;34m=\u001b[0m \u001b[0mmodel\u001b[0m\u001b[0;34m.\u001b[0m\u001b[0mfit\u001b[0m\u001b[0;34m(\u001b[0m\u001b[0;34m)\u001b[0m\u001b[0;34m\u001b[0m\u001b[0;34m\u001b[0m\u001b[0m\n\u001b[1;32m     34\u001b[0m     \u001b[0mforecast\u001b[0m \u001b[0;34m=\u001b[0m \u001b[0mmodel_fit\u001b[0m\u001b[0;34m.\u001b[0m\u001b[0mforecast\u001b[0m\u001b[0;34m(\u001b[0m\u001b[0msteps\u001b[0m\u001b[0;34m=\u001b[0m\u001b[0;36m1\u001b[0m\u001b[0;34m)\u001b[0m\u001b[0;34m\u001b[0m\u001b[0;34m\u001b[0m\u001b[0m\n\u001b[0;32m---> 35\u001b[0;31m     \u001b[0mpredictions\u001b[0m\u001b[0;34m.\u001b[0m\u001b[0mappend\u001b[0m\u001b[0;34m(\u001b[0m\u001b[0mforecast\u001b[0m\u001b[0;34m[\u001b[0m\u001b[0;36m0\u001b[0m\u001b[0;34m]\u001b[0m\u001b[0;34m)\u001b[0m\u001b[0;34m\u001b[0m\u001b[0;34m\u001b[0m\u001b[0m\n\u001b[0m\u001b[1;32m     36\u001b[0m \u001b[0;34m\u001b[0m\u001b[0m\n\u001b[1;32m     37\u001b[0m \u001b[0;31m# Inverser la normalisation pour obtenir les valeurs originales\u001b[0m\u001b[0;34m\u001b[0m\u001b[0;34m\u001b[0m\u001b[0m\n",
            "\u001b[0;32m/usr/local/lib/python3.10/dist-packages/pandas/core/series.py\u001b[0m in \u001b[0;36m__getitem__\u001b[0;34m(self, key)\u001b[0m\n\u001b[1;32m   1005\u001b[0m \u001b[0;34m\u001b[0m\u001b[0m\n\u001b[1;32m   1006\u001b[0m         \u001b[0;32melif\u001b[0m \u001b[0mkey_is_scalar\u001b[0m\u001b[0;34m:\u001b[0m\u001b[0;34m\u001b[0m\u001b[0;34m\u001b[0m\u001b[0m\n\u001b[0;32m-> 1007\u001b[0;31m             \u001b[0;32mreturn\u001b[0m \u001b[0mself\u001b[0m\u001b[0;34m.\u001b[0m\u001b[0m_get_value\u001b[0m\u001b[0;34m(\u001b[0m\u001b[0mkey\u001b[0m\u001b[0;34m)\u001b[0m\u001b[0;34m\u001b[0m\u001b[0;34m\u001b[0m\u001b[0m\n\u001b[0m\u001b[1;32m   1008\u001b[0m \u001b[0;34m\u001b[0m\u001b[0m\n\u001b[1;32m   1009\u001b[0m         \u001b[0;32mif\u001b[0m \u001b[0mis_hashable\u001b[0m\u001b[0;34m(\u001b[0m\u001b[0mkey\u001b[0m\u001b[0;34m)\u001b[0m\u001b[0;34m:\u001b[0m\u001b[0;34m\u001b[0m\u001b[0;34m\u001b[0m\u001b[0m\n",
            "\u001b[0;32m/usr/local/lib/python3.10/dist-packages/pandas/core/series.py\u001b[0m in \u001b[0;36m_get_value\u001b[0;34m(self, label, takeable)\u001b[0m\n\u001b[1;32m   1114\u001b[0m \u001b[0;34m\u001b[0m\u001b[0m\n\u001b[1;32m   1115\u001b[0m         \u001b[0;31m# Similar to Index.get_value, but we do not fall back to positional\u001b[0m\u001b[0;34m\u001b[0m\u001b[0;34m\u001b[0m\u001b[0m\n\u001b[0;32m-> 1116\u001b[0;31m         \u001b[0mloc\u001b[0m \u001b[0;34m=\u001b[0m \u001b[0mself\u001b[0m\u001b[0;34m.\u001b[0m\u001b[0mindex\u001b[0m\u001b[0;34m.\u001b[0m\u001b[0mget_loc\u001b[0m\u001b[0;34m(\u001b[0m\u001b[0mlabel\u001b[0m\u001b[0;34m)\u001b[0m\u001b[0;34m\u001b[0m\u001b[0;34m\u001b[0m\u001b[0m\n\u001b[0m\u001b[1;32m   1117\u001b[0m \u001b[0;34m\u001b[0m\u001b[0m\n\u001b[1;32m   1118\u001b[0m         \u001b[0;32mif\u001b[0m \u001b[0mis_integer\u001b[0m\u001b[0;34m(\u001b[0m\u001b[0mloc\u001b[0m\u001b[0;34m)\u001b[0m\u001b[0;34m:\u001b[0m\u001b[0;34m\u001b[0m\u001b[0;34m\u001b[0m\u001b[0m\n",
            "\u001b[0;32m/usr/local/lib/python3.10/dist-packages/pandas/core/indexes/range.py\u001b[0m in \u001b[0;36mget_loc\u001b[0;34m(self, key)\u001b[0m\n\u001b[1;32m    345\u001b[0m                 \u001b[0;32mreturn\u001b[0m \u001b[0mself\u001b[0m\u001b[0;34m.\u001b[0m\u001b[0m_range\u001b[0m\u001b[0;34m.\u001b[0m\u001b[0mindex\u001b[0m\u001b[0;34m(\u001b[0m\u001b[0mnew_key\u001b[0m\u001b[0;34m)\u001b[0m\u001b[0;34m\u001b[0m\u001b[0;34m\u001b[0m\u001b[0m\n\u001b[1;32m    346\u001b[0m             \u001b[0;32mexcept\u001b[0m \u001b[0mValueError\u001b[0m \u001b[0;32mas\u001b[0m \u001b[0merr\u001b[0m\u001b[0;34m:\u001b[0m\u001b[0;34m\u001b[0m\u001b[0;34m\u001b[0m\u001b[0m\n\u001b[0;32m--> 347\u001b[0;31m                 \u001b[0;32mraise\u001b[0m \u001b[0mKeyError\u001b[0m\u001b[0;34m(\u001b[0m\u001b[0mkey\u001b[0m\u001b[0;34m)\u001b[0m \u001b[0;32mfrom\u001b[0m \u001b[0merr\u001b[0m\u001b[0;34m\u001b[0m\u001b[0;34m\u001b[0m\u001b[0m\n\u001b[0m\u001b[1;32m    348\u001b[0m         \u001b[0;32mif\u001b[0m \u001b[0misinstance\u001b[0m\u001b[0;34m(\u001b[0m\u001b[0mkey\u001b[0m\u001b[0;34m,\u001b[0m \u001b[0mHashable\u001b[0m\u001b[0;34m)\u001b[0m\u001b[0;34m:\u001b[0m\u001b[0;34m\u001b[0m\u001b[0;34m\u001b[0m\u001b[0m\n\u001b[1;32m    349\u001b[0m             \u001b[0;32mraise\u001b[0m \u001b[0mKeyError\u001b[0m\u001b[0;34m(\u001b[0m\u001b[0mkey\u001b[0m\u001b[0;34m)\u001b[0m\u001b[0;34m\u001b[0m\u001b[0;34m\u001b[0m\u001b[0m\n",
            "\u001b[0;31mKeyError\u001b[0m: 0"
          ]
        }
      ]
    },
    {
      "cell_type": "code",
      "source": [
        "import matplotlib.pyplot as plt\n",
        "\n",
        "# Extraire les données pour les médailles d'or, d'argent et de bronze\n",
        "gold_medals = top_25_countries['Gold']\n",
        "silver_medals = top_25_countries['Silver']\n",
        "bronze_medals = top_25_countries['Bronze']\n",
        "\n",
        "# Position des barres\n",
        "bar_width = 0.2\n",
        "r1 = range(len(gold_medals))\n",
        "r2 = [x + bar_width for x in r1]\n",
        "r3 = [x + bar_width for x in r2]\n",
        "\n",
        "# Création du graphique\n",
        "plt.figure(figsize=(14, 8))\n",
        "plt.bar(r1, gold_medals, color='gold', width=bar_width, edgecolor='grey', label='Gold')\n",
        "plt.bar(r2, silver_medals, color='silver', width=bar_width, edgecolor='grey', label='Silver')\n",
        "plt.bar(r3, bronze_medals, color='brown', width=bar_width, edgecolor='grey', label='Bronze')\n",
        "\n",
        "# Ajouter des labels et des titres\n",
        "plt.xlabel('Countries', fontweight='bold')\n",
        "plt.xticks([r + bar_width for r in range(len(gold_medals))], gold_medals.index, rotation=90)\n",
        "plt.ylabel('Number of Medals', fontweight='bold')\n",
        "plt.title('Number of Gold, Silver, and Bronze Medals for Top 25 Countries')\n",
        "plt.legend()\n",
        "\n",
        "# Afficher le graphique\n",
        "plt.tight_layout()\n",
        "plt.show()\n"
      ],
      "metadata": {
        "colab": {
          "base_uri": "https://localhost:8080/",
          "height": 807
        },
        "id": "3wce4Nth7OLY",
        "outputId": "06febb3b-2f8e-40fc-f00d-1484e95542ea"
      },
      "execution_count": 87,
      "outputs": [
        {
          "output_type": "display_data",
          "data": {
            "text/plain": [
              "<Figure size 1400x800 with 1 Axes>"
            ],
            "image/png": "[encoded data removed]"
          },
          "metadata": {}
        }
      ]
    },
    {
      "cell_type": "code",
      "source": [
        "from sklearn.model_selection import train_test_split\n",
        "\n",
        "# Vérifiez les colonnes du tableau pivot pour s'assurer qu'il y a des colonnes pour chaque pays et chaque type de médaille\n",
        "print(pivot_table.columns)\n",
        "\n",
        "# Assurez-vous que chaque séquence contient toutes les caractéristiques (pays et types de médailles)\n",
        "sequences, targets = create_sequences(normalized_df.values, window_size)\n",
        "\n",
        "# Divisez à nouveau les données en ensembles d'entraînement et de test\n",
        "X_train, X_test, y_train, y_test = train_test_split(sequences, targets, test_size=0.2, random_state=42)\n",
        "\n",
        "# Afficher la forme des ensembles d'entraînement et de test\n",
        "print(X_train.shape, X_test.shape, y_train.shape, y_test.shape)\n",
        "\n"
      ],
      "metadata": {
        "colab": {
          "base_uri": "https://localhost:8080/"
        },
        "id": "dleRZcWr39im",
        "outputId": "2c8c48cd-e836-47b0-9711-15d4758bd571"
      },
      "execution_count": 80,
      "outputs": [
        {
          "output_type": "stream",
          "name": "stdout",
          "text": [
            "Index(['Australia', 'Austria', 'Bulgaria', 'Canada', 'Cuba',\n",
            "       'Federal Republic of Germany', 'Finland', 'France',\n",
            "       'German Democratic Republic (Germany)', 'Germany', 'Great Britain',\n",
            "       'Hungary', 'Italy', 'Japan', 'Netherlands', 'Norway',\n",
            "       'People's Republic of China', 'Poland', 'Republic of Korea', 'Romania',\n",
            "       'Russian Federation', 'Soviet Union', 'Sweden', 'Switzerland',\n",
            "       'United States of America'],\n",
            "      dtype='object', name='country_name')\n",
            "(25, 5, 25) (7, 5, 25) (25, 25) (7, 25)\n"
          ]
        }
      ]
    },
    {
      "cell_type": "code",
      "source": [
        "import tensorflow as tf\n",
        "from tensorflow.keras.models import Sequential\n",
        "from tensorflow.keras.layers import LSTM, Dense\n",
        "\n",
        "# Construire le modèle LSTM\n",
        "model = Sequential()\n",
        "model.add(LSTM(50, activation='relu', input_shape=(window_size, 75)))\n",
        "model.add(Dense(75))\n",
        "model.compile(optimizer='adam', loss='mse')\n",
        "\n",
        "# Entraîner le modèle\n",
        "history = model.fit(X_train, y_train, epochs=100, validation_split=0.2, verbose=1)\n",
        "\n",
        "# Afficher le résumé du modèle\n",
        "model.summary()\n",
        "\n"
      ],
      "metadata": {
        "colab": {
          "base_uri": "https://localhost:8080/",
          "height": 634
        },
        "id": "Ug_O2nxq3-5h",
        "outputId": "6e34f9b7-fad4-4c4a-a611-6b29f9de6974"
      },
      "execution_count": 82,
      "outputs": [
        {
          "output_type": "stream",
          "name": "stdout",
          "text": [
            "Epoch 1/100\n"
          ]
        },
        {
          "output_type": "error",
          "ename": "ValueError",
          "evalue": "in user code:\n\n    File \"/usr/local/lib/python3.10/dist-packages/keras/src/engine/training.py\", line 1401, in train_function  *\n        return step_function(self, iterator)\n    File \"/usr/local/lib/python3.10/dist-packages/keras/src/engine/training.py\", line 1384, in step_function  **\n        outputs = model.distribute_strategy.run(run_step, args=(data,))\n    File \"/usr/local/lib/python3.10/dist-packages/keras/src/engine/training.py\", line 1373, in run_step  **\n        outputs = model.train_step(data)\n    File \"/usr/local/lib/python3.10/dist-packages/keras/src/engine/training.py\", line 1150, in train_step\n        y_pred = self(x, training=True)\n    File \"/usr/local/lib/python3.10/dist-packages/keras/src/utils/traceback_utils.py\", line 70, in error_handler\n        raise e.with_traceback(filtered_tb) from None\n    File \"/usr/local/lib/python3.10/dist-packages/keras/src/engine/input_spec.py\", line 298, in assert_input_compatibility\n        raise ValueError(\n\n    ValueError: Input 0 of layer \"sequential_9\" is incompatible with the layer: expected shape=(None, 5, 75), found shape=(None, 5, 25)\n",
          "traceback": [
            "\u001b[0;31m---------------------------------------------------------------------------\u001b[0m",
            "\u001b[0;31mValueError\u001b[0m                                Traceback (most recent call last)",
            "\u001b[0;32m<ipython-input-82-c066b6e77ca3>\u001b[0m in \u001b[0;36m<cell line: 12>\u001b[0;34m()\u001b[0m\n\u001b[1;32m     10\u001b[0m \u001b[0;34m\u001b[0m\u001b[0m\n\u001b[1;32m     11\u001b[0m \u001b[0;31m# Entraîner le modèle\u001b[0m\u001b[0;34m\u001b[0m\u001b[0;34m\u001b[0m\u001b[0m\n\u001b[0;32m---> 12\u001b[0;31m \u001b[0mhistory\u001b[0m \u001b[0;34m=\u001b[0m \u001b[0mmodel\u001b[0m\u001b[0;34m.\u001b[0m\u001b[0mfit\u001b[0m\u001b[0;34m(\u001b[0m\u001b[0mX_train\u001b[0m\u001b[0;34m,\u001b[0m \u001b[0my_train\u001b[0m\u001b[0;34m,\u001b[0m \u001b[0mepochs\u001b[0m\u001b[0;34m=\u001b[0m\u001b[0;36m100\u001b[0m\u001b[0;34m,\u001b[0m \u001b[0mvalidation_split\u001b[0m\u001b[0;34m=\u001b[0m\u001b[0;36m0.2\u001b[0m\u001b[0;34m,\u001b[0m \u001b[0mverbose\u001b[0m\u001b[0;34m=\u001b[0m\u001b[0;36m1\u001b[0m\u001b[0;34m)\u001b[0m\u001b[0;34m\u001b[0m\u001b[0;34m\u001b[0m\u001b[0m\n\u001b[0m\u001b[1;32m     13\u001b[0m \u001b[0;34m\u001b[0m\u001b[0m\n\u001b[1;32m     14\u001b[0m \u001b[0;31m# Afficher le résumé du modèle\u001b[0m\u001b[0;34m\u001b[0m\u001b[0;34m\u001b[0m\u001b[0m\n",
            "\u001b[0;32m/usr/local/lib/python3.10/dist-packages/keras/src/utils/traceback_utils.py\u001b[0m in \u001b[0;36merror_handler\u001b[0;34m(*args, **kwargs)\u001b[0m\n\u001b[1;32m     68\u001b[0m             \u001b[0;31m# To get the full stack trace, call:\u001b[0m\u001b[0;34m\u001b[0m\u001b[0;34m\u001b[0m\u001b[0m\n\u001b[1;32m     69\u001b[0m             \u001b[0;31m# `tf.debugging.disable_traceback_filtering()`\u001b[0m\u001b[0;34m\u001b[0m\u001b[0;34m\u001b[0m\u001b[0m\n\u001b[0;32m---> 70\u001b[0;31m             \u001b[0;32mraise\u001b[0m \u001b[0me\u001b[0m\u001b[0;34m.\u001b[0m\u001b[0mwith_traceback\u001b[0m\u001b[0;34m(\u001b[0m\u001b[0mfiltered_tb\u001b[0m\u001b[0;34m)\u001b[0m \u001b[0;32mfrom\u001b[0m \u001b[0;32mNone\u001b[0m\u001b[0;34m\u001b[0m\u001b[0;34m\u001b[0m\u001b[0m\n\u001b[0m\u001b[1;32m     71\u001b[0m         \u001b[0;32mfinally\u001b[0m\u001b[0;34m:\u001b[0m\u001b[0;34m\u001b[0m\u001b[0;34m\u001b[0m\u001b[0m\n\u001b[1;32m     72\u001b[0m             \u001b[0;32mdel\u001b[0m \u001b[0mfiltered_tb\u001b[0m\u001b[0;34m\u001b[0m\u001b[0;34m\u001b[0m\u001b[0m\n",
            "\u001b[0;32m/usr/local/lib/python3.10/dist-packages/keras/src/engine/training.py\u001b[0m in \u001b[0;36mtf__train_function\u001b[0;34m(iterator)\u001b[0m\n\u001b[1;32m     13\u001b[0m                 \u001b[0;32mtry\u001b[0m\u001b[0;34m:\u001b[0m\u001b[0;34m\u001b[0m\u001b[0;34m\u001b[0m\u001b[0m\n\u001b[1;32m     14\u001b[0m                     \u001b[0mdo_return\u001b[0m \u001b[0;34m=\u001b[0m \u001b[0;32mTrue\u001b[0m\u001b[0;34m\u001b[0m\u001b[0;34m\u001b[0m\u001b[0m\n\u001b[0;32m---> 15\u001b[0;31m                     \u001b[0mretval_\u001b[0m \u001b[0;34m=\u001b[0m \u001b[0mag__\u001b[0m\u001b[0;34m.\u001b[0m\u001b[0mconverted_call\u001b[0m\u001b[0;34m(\u001b[0m\u001b[0mag__\u001b[0m\u001b[0;34m.\u001b[0m\u001b[0mld\u001b[0m\u001b[0;34m(\u001b[0m\u001b[0mstep_function\u001b[0m\u001b[0;34m)\u001b[0m\u001b[0;34m,\u001b[0m \u001b[0;34m(\u001b[0m\u001b[0mag__\u001b[0m\u001b[0;34m.\u001b[0m\u001b[0mld\u001b[0m\u001b[0;34m(\u001b[0m\u001b[0mself\u001b[0m\u001b[0;34m)\u001b[0m\u001b[0;34m,\u001b[0m \u001b[0mag__\u001b[0m\u001b[0;34m.\u001b[0m\u001b[0mld\u001b[0m\u001b[0;34m(\u001b[0m\u001b[0miterator\u001b[0m\u001b[0;34m)\u001b[0m\u001b[0;34m)\u001b[0m\u001b[0;34m,\u001b[0m \u001b[0;32mNone\u001b[0m\u001b[0;34m,\u001b[0m \u001b[0mfscope\u001b[0m\u001b[0;34m)\u001b[0m\u001b[0;34m\u001b[0m\u001b[0;34m\u001b[0m\u001b[0m\n\u001b[0m\u001b[1;32m     16\u001b[0m                 \u001b[0;32mexcept\u001b[0m\u001b[0;34m:\u001b[0m\u001b[0;34m\u001b[0m\u001b[0;34m\u001b[0m\u001b[0m\n\u001b[1;32m     17\u001b[0m                     \u001b[0mdo_return\u001b[0m \u001b[0;34m=\u001b[0m \u001b[0;32mFalse\u001b[0m\u001b[0;34m\u001b[0m\u001b[0;34m\u001b[0m\u001b[0m\n",
            "\u001b[0;31mValueError\u001b[0m: in user code:\n\n    File \"/usr/local/lib/python3.10/dist-packages/keras/src/engine/training.py\", line 1401, in train_function  *\n        return step_function(self, iterator)\n    File \"/usr/local/lib/python3.10/dist-packages/keras/src/engine/training.py\", line 1384, in step_function  **\n        outputs = model.distribute_strategy.run(run_step, args=(data,))\n    File \"/usr/local/lib/python3.10/dist-packages/keras/src/engine/training.py\", line 1373, in run_step  **\n        outputs = model.train_step(data)\n    File \"/usr/local/lib/python3.10/dist-packages/keras/src/engine/training.py\", line 1150, in train_step\n        y_pred = self(x, training=True)\n    File \"/usr/local/lib/python3.10/dist-packages/keras/src/utils/traceback_utils.py\", line 70, in error_handler\n        raise e.with_traceback(filtered_tb) from None\n    File \"/usr/local/lib/python3.10/dist-packages/keras/src/engine/input_spec.py\", line 298, in assert_input_compatibility\n        raise ValueError(\n\n    ValueError: Input 0 of layer \"sequential_9\" is incompatible with the layer: expected shape=(None, 5, 75), found shape=(None, 5, 25)\n"
          ]
        }
      ]
    },
    {
      "cell_type": "code",
      "source": [
        "import matplotlib.pyplot as plt\n",
        "\n",
        "# Extraire les données pour les médailles d'or, d'argent et de bronze\n",
        "gold_medals = top_25_countries['Gold']\n",
        "silver_medals = top_25_countries['Silver']\n",
        "bronze_medals = top_25_countries['Bronze']\n",
        "\n",
        "# Position des barres\n",
        "bar_width = 0.2\n",
        "r1 = range(len(gold_medals))\n",
        "r2 = [x + bar_width for x in r1]\n",
        "r3 = [x + bar_width for x in r2]\n",
        "\n",
        "# Création du graphique\n",
        "plt.figure(figsize=(14, 8))\n",
        "plt.bar(r1, gold_medals, color='gold', width=bar_width, edgecolor='grey', label='Gold')\n",
        "plt.bar(r2, silver_medals, color='silver', width=bar_width, edgecolor='grey', label='Silver')\n",
        "plt.bar(r3, bronze_medals, color='brown', width=bar_width, edgecolor='grey', label='Bronze')\n",
        "\n",
        "# Ajouter des labels et des titres\n",
        "plt.xlabel('Countries', fontweight='bold')\n",
        "plt.xticks([r + bar_width for r in range(len(gold_medals))], gold_medals.index, rotation=90)\n",
        "plt.ylabel('Number of Medals', fontweight='bold')\n",
        "plt.title('Number of Gold, Silver, and Bronze Medals for Top 25 Countries')\n",
        "plt.legend()\n",
        "\n",
        "# Afficher le graphique\n",
        "plt.tight_layout()\n",
        "plt.show()\n"
      ],
      "metadata": {
        "id": "Zh8qXECL4G4l"
      },
      "execution_count": null,
      "outputs": []
    }
  ]
}