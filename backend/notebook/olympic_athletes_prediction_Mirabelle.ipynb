{
  "nbformat": 4,
  "nbformat_minor": 0,
  "metadata": {
    "colab": {
      "provenance": []
    },
    "kernelspec": {
      "name": "python3",
      "display_name": "Python 3"
    },
    "language_info": {
      "name": "python"
    }
  },
  "cells": [
    {
      "cell_type": "markdown",
      "source": [
        "#Imports"
      ],
      "metadata": {
        "id": "ewUuVuksAe9E"
      }
    },
    {
      "cell_type": "code",
      "source": [
        "!pip install pyspark"
      ],
      "metadata": {
        "colab": {
          "base_uri": "https://localhost:8080/"
        },
        "id": "SyOVg72kAh3Y",
        "outputId": "ba64248f-db47-4039-f453-302cde041a58"
      },
      "execution_count": 25,
      "outputs": [
        {
          "output_type": "stream",
          "name": "stdout",
          "text": [
            "Requirement already satisfied: pyspark in /usr/local/lib/python3.10/dist-packages (3.5.1)\n",
            "Requirement already satisfied: py4j==0.10.9.7 in /usr/local/lib/python3.10/dist-packages (from pyspark) (0.10.9.7)\n"
          ]
        }
      ]
    },
    {
      "cell_type": "code",
      "execution_count": 26,
      "metadata": {
        "id": "kqgQBW1BAb1I"
      },
      "outputs": [],
      "source": [
        "import pandas as pd\n",
        "import numpy as np\n",
        "import matplotlib.pyplot as plt\n",
        "import seaborn as sns\n",
        "from pyspark.sql import SparkSession\n",
        "from pyspark.sql.functions import col, when, desc, udf\n",
        "from pyspark.sql.types import DoubleType\n",
        "import tensorflow as tf\n",
        "from tensorflow import keras\n",
        "from sklearn.model_selection import train_test_split\n",
        "from sklearn.preprocessing import StandardScaler\n",
        "\n",
        "from pyspark.ml.feature import StringIndexer, OneHotEncoder, VectorAssembler\n",
        "from pyspark.ml.functions import vector_to_array\n",
        "from pyspark.ml import Pipeline\n",
        "\n",
        "#dl\n",
        "from pyspark.ml.classification import MultilayerPerceptronClassifier\n",
        "from pyspark.ml.classification import LogisticRegression\n",
        "from pyspark.ml.classification import RandomForestClassifier\n",
        "\n"
      ]
    },
    {
      "cell_type": "markdown",
      "source": [
        "# Initialisation de la session Spark"
      ],
      "metadata": {
        "id": "_LBsgyodAw1u"
      }
    },
    {
      "cell_type": "code",
      "source": [
        "spark = SparkSession.builder \\\n",
        "    .appName(\"Olympics Prediction\") \\\n",
        "    .getOrCreate()"
      ],
      "metadata": {
        "id": "aAK17aQAAwFU"
      },
      "execution_count": 27,
      "outputs": []
    },
    {
      "cell_type": "markdown",
      "source": [
        "# Initialisation des données"
      ],
      "metadata": {
        "id": "EjrfSJX2A_b9"
      }
    },
    {
      "cell_type": "code",
      "source": [
        "athletes_df = spark.read.json(\"olympic_athletes.json\")\n",
        "athletes_df.show(5)"
      ],
      "metadata": {
        "colab": {
          "base_uri": "https://localhost:8080/"
        },
        "id": "zDWwYQKAAlBd",
        "outputId": "cdc696c1-1117-4403-844e-5d79bc50e65f"
      },
      "execution_count": 28,
      "outputs": [
        {
          "output_type": "stream",
          "name": "stdout",
          "text": [
            "+--------------------+--------------+--------------------+------------------+----+----------------+--------------------+\n",
            "|   athlete_full_name|athlete_medals|         athlete_url|athlete_year_birth| bio|      first_game|games_participations|\n",
            "+--------------------+--------------+--------------------+------------------+----+----------------+--------------------+\n",
            "|Cooper WOODS-TOPA...|          NULL|https://olympics....|            2000.0|NULL|    Beijing 2022|                   1|\n",
            "|      Felix ELOFSSON|          NULL|https://olympics....|            1995.0|NULL|PyeongChang 2018|                   2|\n",
            "|       Dylan WALCZYK|          NULL|https://olympics....|            1993.0|NULL|    Beijing 2022|                   1|\n",
            "|       Olli PENTTALA|          NULL|https://olympics....|            1995.0|NULL|    Beijing 2022|                   1|\n",
            "|    Dmitriy REIKHERD|          NULL|https://olympics....|            1989.0|NULL|    Beijing 2022|                   1|\n",
            "+--------------------+--------------+--------------------+------------------+----+----------------+--------------------+\n",
            "only showing top 5 rows\n",
            "\n"
          ]
        }
      ]
    },
    {
      "cell_type": "markdown",
      "source": [
        "# Pré-traitement des données"
      ],
      "metadata": {
        "id": "ShFg67YnByWa"
      }
    },
    {
      "cell_type": "code",
      "source": [
        "# Supprimer les athlètes nés avant 1985\n",
        "athletes_df = athletes_df.filter(col(\"athlete_year_birth\") >= 1985)\n",
        "\n",
        "# Ajouter une colonne \"medal\" (1 si l'athlète a gagné une médaille, 0 sinon)\n",
        "athletes_df = athletes_df.withColumn(\"medal\", when(col(\"athlete_medals\").isNotNull(), 1).otherwise(0))\n",
        "\n",
        "# Remplacer les valeurs nulles dans les colonnes numériques par la moyenne de la colonne\n",
        "numerical_columns = [\"games_participations\", \"athlete_year_birth\"]\n",
        "for column in numerical_columns:\n",
        "    mean_value = athletes_df.selectExpr(f\"avg({column}) as mean\").first()[\"mean\"]\n",
        "    athletes_df = athletes_df.na.fill({column: mean_value})\n",
        "\n",
        "# Remplacer les valeurs nulles dans les colonnes de type string par \"Unknown\"\n",
        "string_columns = [\"first_game\"]\n",
        "athletes_df = athletes_df.na.fill({col: \"Unknown\" for col in string_columns})\n",
        "\n",
        "# Vérifier les modifications\n",
        "athletes_df.show(5)\n"
      ],
      "metadata": {
        "id": "IDAva4ACByEx",
        "colab": {
          "base_uri": "https://localhost:8080/"
        },
        "outputId": "602a4659-29fe-4454-b95d-894f6a8a3616"
      },
      "execution_count": 29,
      "outputs": [
        {
          "output_type": "stream",
          "name": "stdout",
          "text": [
            "+--------------------+--------------+--------------------+------------------+----+----------------+--------------------+-----+\n",
            "|   athlete_full_name|athlete_medals|         athlete_url|athlete_year_birth| bio|      first_game|games_participations|medal|\n",
            "+--------------------+--------------+--------------------+------------------+----+----------------+--------------------+-----+\n",
            "|Cooper WOODS-TOPA...|          NULL|https://olympics....|            2000.0|NULL|    Beijing 2022|                   1|    0|\n",
            "|      Felix ELOFSSON|          NULL|https://olympics....|            1995.0|NULL|PyeongChang 2018|                   2|    0|\n",
            "|       Dylan WALCZYK|          NULL|https://olympics....|            1993.0|NULL|    Beijing 2022|                   1|    0|\n",
            "|       Olli PENTTALA|          NULL|https://olympics....|            1995.0|NULL|    Beijing 2022|                   1|    0|\n",
            "|    Dmitriy REIKHERD|          NULL|https://olympics....|            1989.0|NULL|    Beijing 2022|                   1|    0|\n",
            "+--------------------+--------------+--------------------+------------------+----+----------------+--------------------+-----+\n",
            "only showing top 5 rows\n",
            "\n"
          ]
        }
      ]
    },
    {
      "cell_type": "markdown",
      "source": [
        "# Visualisation des données"
      ],
      "metadata": {
        "id": "0ZLvQot1o_76"
      }
    },
    {
      "cell_type": "code",
      "source": [
        "# Convertir en Pandas DataFrame pour l'affichage\n",
        "athletes_pd = athletes_df.toPandas()\n",
        "\n",
        "# Distribution des médailles\n",
        "sns.countplot(x='medal', data=athletes_pd)\n",
        "plt.title('Distribution des médailles')\n",
        "plt.show()\n",
        "\n",
        "# Nombre de participations aux jeux\n",
        "sns.countplot(x='games_participations', data=athletes_pd)\n",
        "plt.title('Nombre de participations aux jeux')\n",
        "plt.show()\n",
        "\n",
        "# Distribution des années de naissance des athlètes\n",
        "sns.histplot(athletes_pd['athlete_year_birth'], bins=20, kde=True)\n",
        "plt.title('Distribution des années de naissance des athlètes')\n",
        "plt.show()\n"
      ],
      "metadata": {
        "id": "2tNJzmfjpEYR",
        "colab": {
          "base_uri": "https://localhost:8080/",
          "height": 1000
        },
        "outputId": "00ad769f-292d-4540-afe8-61072d747bde"
      },
      "execution_count": 30,
      "outputs": [
        {
          "output_type": "display_data",
          "data": {
            "text/plain": [
              "<Figure size 640x480 with 1 Axes>"
            ],
            "image/png": "[encoded data removed]"
          },
          "metadata": {}
        },
        {
          "output_type": "display_data",
          "data": {
            "text/plain": [
              "<Figure size 640x480 with 1 Axes>"
            ],
            "image/png": "[encoded data removed]"
          },
          "metadata": {}
        },
        {
          "output_type": "display_data",
          "data": {
            "text/plain": [
              "<Figure size 640x480 with 1 Axes>"
            ],
            "image/png": "[encoded data removed]"
          },
          "metadata": {}
        }
      ]
    },
    {
      "cell_type": "markdown",
      "source": [
        "# Préparation des données à l'entrainement"
      ],
      "metadata": {
        "id": "rNFrqS7uusyN"
      }
    },
    {
      "cell_type": "code",
      "source": [
        "# Indexer la colonne \"first_game\" pour One-Hot Encoding\n",
        "indexer = StringIndexer(inputCol=\"first_game\", outputCol=\"first_game_index\")\n",
        "athletes_df = indexer.fit(athletes_df).transform(athletes_df)\n",
        "\n",
        "# Encodage One-Hot\n",
        "encoder = OneHotEncoder(inputCol=\"first_game_index\", outputCol=\"first_game_encoded\")\n",
        "athletes_df = encoder.fit(athletes_df).transform(athletes_df)\n",
        "\n",
        "# Assembler les caractéristiques dans un vecteur\n",
        "assembler = VectorAssembler(inputCols=[\"games_participations\", \"athlete_year_birth\", \"first_game_encoded\"], outputCol=\"features\")\n",
        "athletes_df = assembler.transform(athletes_df)\n",
        "\n",
        "# Diviser les données en ensembles d'entraînement et de test\n",
        "(train_data, test_data) = athletes_df.randomSplit([0.8, 0.2], seed=42)\n"
      ],
      "metadata": {
        "id": "Kwq95q1SuyZ4"
      },
      "execution_count": 31,
      "outputs": []
    },
    {
      "cell_type": "markdown",
      "source": [
        "# Modèles de Deep Learning"
      ],
      "metadata": {
        "id": "Tp3XLeIwpMV_"
      }
    },
    {
      "cell_type": "markdown",
      "source": [
        "## 1) MLP"
      ],
      "metadata": {
        "id": "MKQEi8nUpQyo"
      }
    },
    {
      "cell_type": "code",
      "source": [
        "# Définir les couches du modèle MLP\n",
        "layers = [len(train_data.select(\"features\").first()[0]), 5, 4, 2]\n",
        "\n",
        "# Initialiser le classificateur MLP\n",
        "mlp = MultilayerPerceptronClassifier(layers=layers, featuresCol='features', labelCol='medal', maxIter=100)\n",
        "\n",
        "# Entraîner le modèle\n",
        "model_mlp = mlp.fit(train_data)\n",
        "\n",
        "# Évaluer le modèle\n",
        "result_mlp = model_mlp.transform(test_data)\n",
        "predictionAndLabels_mlp = result_mlp.select(\"prediction\", \"medal\")\n",
        "accuracy_mlp = predictionAndLabels_mlp.filter(predictionAndLabels_mlp['prediction'] == predictionAndLabels_mlp['medal']).count() / float(test_data.count())\n",
        "print(f'MLP Accuracy: {accuracy_mlp}')\n"
      ],
      "metadata": {
        "id": "ZXo97QJCpWyV",
        "colab": {
          "base_uri": "https://localhost:8080/"
        },
        "outputId": "84cd78e7-33d9-4e1c-9056-503d482a93f7"
      },
      "execution_count": 32,
      "outputs": [
        {
          "output_type": "stream",
          "name": "stdout",
          "text": [
            "MLP Accuracy: 0.8208866408806903\n"
          ]
        }
      ]
    },
    {
      "cell_type": "markdown",
      "source": [
        "## 2) Régression logistique"
      ],
      "metadata": {
        "id": "dEaiqJjMphcb"
      }
    },
    {
      "cell_type": "code",
      "source": [
        "# Initialiser le classificateur de régression logistique\n",
        "lr = LogisticRegression(featuresCol='features', labelCol='medal', maxIter=100)\n",
        "\n",
        "# Entraîner le modèle\n",
        "model_lr = lr.fit(train_data)\n",
        "\n",
        "# Évaluer le modèle\n",
        "result_lr = model_lr.transform(test_data)\n",
        "predictionAndLabels_lr = result_lr.select(\"prediction\", \"medal\")\n",
        "accuracy_lr = predictionAndLabels_lr.filter(predictionAndLabels_lr['prediction'] == predictionAndLabels_lr['medal']).count() / float(test_data.count())\n",
        "print(f'Logistic Regression Accuracy: {accuracy_lr}')\n"
      ],
      "metadata": {
        "id": "N6iepG8epkRN",
        "colab": {
          "base_uri": "https://localhost:8080/"
        },
        "outputId": "44b245e1-a4ed-441a-c449-6fe66ea4b9c9"
      },
      "execution_count": 33,
      "outputs": [
        {
          "output_type": "stream",
          "name": "stdout",
          "text": [
            "Logistic Regression Accuracy: 0.8241594763463255\n"
          ]
        }
      ]
    },
    {
      "cell_type": "markdown",
      "source": [
        "# 3) Décision Tree"
      ],
      "metadata": {
        "id": "d68xbnb2qM3E"
      }
    },
    {
      "cell_type": "code",
      "source": [
        "# Initialiser le random tree\n",
        "rf = RandomForestClassifier(featuresCol='features', labelCol='medal', numTrees=100)\n",
        "\n",
        "# Entraîner le modèle\n",
        "model_rf = rf.fit(train_data)\n",
        "\n",
        "# Évaluer le modèle\n",
        "result_rf = model_rf.transform(test_data)\n",
        "predictionAndLabels_rf = result_rf.select(\"prediction\", \"medal\")\n",
        "accuracy_rf = predictionAndLabels_rf.filter(predictionAndLabels_rf['prediction'] == predictionAndLabels_rf['medal']).count() / float(test_data.count())\n",
        "print(f'Random Forest Accuracy: {accuracy_rf}')\n"
      ],
      "metadata": {
        "id": "Wv9PNfCYqF5r",
        "colab": {
          "base_uri": "https://localhost:8080/"
        },
        "outputId": "e88c91b9-f4e9-47ae-c904-8cbd12162bd1"
      },
      "execution_count": 34,
      "outputs": [
        {
          "output_type": "stream",
          "name": "stdout",
          "text": [
            "Random Forest Accuracy: 0.8208866408806903\n"
          ]
        }
      ]
    },
    {
      "cell_type": "markdown",
      "source": [
        "# Evaluation des modèles"
      ],
      "metadata": {
        "id": "rzEUczoSfa4w"
      }
    },
    {
      "cell_type": "code",
      "source": [
        "model_names = ['MLP', 'Logistic Regression', 'Random Forest']\n",
        "accuracies = [accuracy_mlp, accuracy_lr, accuracy_rf]\n",
        "\n",
        "for name, acc in zip(model_names, accuracies):\n",
        "    print(f'{name} Accuracy: {acc}')\n"
      ],
      "metadata": {
        "id": "armHXM5OfkEF",
        "colab": {
          "base_uri": "https://localhost:8080/"
        },
        "outputId": "a9d35372-1bd9-4b6d-a11a-3ca8df8f47c0"
      },
      "execution_count": 35,
      "outputs": [
        {
          "output_type": "stream",
          "name": "stdout",
          "text": [
            "MLP Accuracy: 0.8208866408806903\n",
            "Logistic Regression Accuracy: 0.8241594763463255\n",
            "Random Forest Accuracy: 0.8208866408806903\n"
          ]
        }
      ]
    },
    {
      "cell_type": "markdown",
      "source": [
        "# Visualisation des résultats"
      ],
      "metadata": {
        "id": "um1_D8oXfwGk"
      }
    },
    {
      "cell_type": "code",
      "source": [
        "# Définir une fonction UDF pour extraire la probabilité de la classe positive\n",
        "def extract_probability(probability):\n",
        "    return float(probability[1])\n",
        "\n",
        "# Enregistrer la fonction UDF\n",
        "extract_prob_udf = udf(extract_probability, DoubleType())\n",
        "\n",
        "# Modèle MLP\n",
        "result_mlp = result_mlp.withColumn(\"probability_positive\", extract_prob_udf(col(\"probability\")))\n",
        "top_athletes_mlp = result_mlp.sort(desc(\"probability_positive\"))\n",
        "\n",
        "# Modèle de Régression Logistique\n",
        "result_lr = result_lr.withColumn(\"probability_positive\", extract_prob_udf(col(\"probability\")))\n",
        "top_athletes_lr = result_lr.sort(desc(\"probability_positive\"))\n",
        "\n",
        "# Modèle de Forêt Aléatoire\n",
        "result_rf = result_rf.withColumn(\"probability_positive\", extract_prob_udf(col(\"probability\")))\n",
        "top_athletes_rf = result_rf.sort(desc(\"probability_positive\"))\n",
        "\n",
        "# Afficher les 10 athlètes les plus susceptibles de gagner des médailles pour chaque modèle\n",
        "print(\"Athlètes susceptible de gagner une médaille pour le  MLP modèle:\")\n",
        "top_athletes_mlp.select(\"athlete_full_name\", \"probability_positive\").show(10, truncate=False)\n",
        "\n",
        "print(\"Athlètes susceptible de gagner une médaille pour la régréssion logistique:\")\n",
        "top_athletes_lr.select(\"athlete_full_name\", \"probability_positive\").show(10, truncate=False)\n",
        "\n",
        "print(\"Athlètes susceptible de gagner une médaille pour le Random Forest\")\n",
        "top_athletes_rf.select(\"athlete_full_name\", \"probability_positive\").show(10, truncate=False)\n"
      ],
      "metadata": {
        "id": "l6jn_9ygfsr8",
        "colab": {
          "base_uri": "https://localhost:8080/"
        },
        "outputId": "2ae14a14-9149-469d-8f06-f5dc38e9f6af"
      },
      "execution_count": 37,
      "outputs": [
        {
          "output_type": "stream",
          "name": "stdout",
          "text": [
            "Athlètes susceptible de gagner une médaille pour le  MLP modèle:\n",
            "+-------------------+--------------------+\n",
            "|athlete_full_name  |probability_positive|\n",
            "+-------------------+--------------------+\n",
            "|Bombette MARTIN    |0.18165596957260158 |\n",
            "|Katie GRIMES       |0.18165596957260158 |\n",
            "|Anna DULCE         |0.18165596957260147 |\n",
            "|Yiting YU          |0.18165596957260147 |\n",
            "|Oleksii SEREDA     |0.18165596957260147 |\n",
            "|Wenhui ZENG        |0.18165596957260147 |\n",
            "|Keet OLDENBEUVING  |0.1816559695726013  |\n",
            "|Kohl TAMARUA-HORTON|0.1816559695726013  |\n",
            "|Okyanus ARIKAN     |0.1816559695726013  |\n",
            "|Lauren LEE         |0.1816559695726013  |\n",
            "+-------------------+--------------------+\n",
            "only showing top 10 rows\n",
            "\n",
            "Athlètes susceptible de gagner une médaille pour la régréssion logistique:\n",
            "+---------------------+--------------------+\n",
            "|athlete_full_name    |probability_positive|\n",
            "+---------------------+--------------------+\n",
            "|Alia ATKINSON        |0.8274079386141401  |\n",
            "|Federica PELLEGRINI  |0.8274079386141401  |\n",
            "|Jeanette OTTESEN     |0.8252081541060331  |\n",
            "|Kelly-Ann BAPTISTE   |0.8229863303644898  |\n",
            "|Kristel KOBRICH      |0.8207423994198256  |\n",
            "|Mariel ZAGUNIS       |0.8207423994198256  |\n",
            "|Michael PHELPS       |0.8140918504570419  |\n",
            "|Tania CAGNOTTO       |0.8140918504570419  |\n",
            "|Alessandro PITTIN    |0.7639207340768875  |\n",
            "|Eva VRABCOVA NYVLTOVA|0.7526856624345153  |\n",
            "+---------------------+--------------------+\n",
            "only showing top 10 rows\n",
            "\n",
            "Athlètes susceptible de gagner une médaille pour le Random Forest\n",
            "+---------------------+--------------------+\n",
            "|athlete_full_name    |probability_positive|\n",
            "+---------------------+--------------------+\n",
            "|Eva VRABCOVA NYVLTOVA|0.27954628048664093 |\n",
            "|Sven KRAMER          |0.27954628048664093 |\n",
            "|Thomas DALEY         |0.2759491230369383  |\n",
            "|Kjetil JANSRUD       |0.2744706066927357  |\n",
            "|Melissa WU           |0.27225490821714843 |\n",
            "|Peter BURLING        |0.27225490821714843 |\n",
            "|Michael PHELPS       |0.2719720329067538  |\n",
            "|Tania CAGNOTTO       |0.2719720329067538  |\n",
            "|Jun MIZUTANI         |0.27148329586117187 |\n",
            "|Kohei UCHIMURA       |0.27148329586117187 |\n",
            "+---------------------+--------------------+\n",
            "only showing top 10 rows\n",
            "\n"
          ]
        }
      ]
    }
  ]
}